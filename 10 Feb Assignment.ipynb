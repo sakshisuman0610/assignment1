{
 "cells": [
  {
   "cell_type": "markdown",
   "id": "36207ac6-5624-4d28-b224-e729b7fc31ae",
   "metadata": {},
   "source": [
    "Q1. Which function is used to open a file? What are the different modes of opening a file? Explain each mode\n",
    "of file opening."
   ]
  },
  {
   "cell_type": "markdown",
   "id": "19de430d-80b7-4a2e-aea6-b6ffe8d2cd8a",
   "metadata": {},
   "source": [
    " open() function is used to open a file. "
   ]
  },
  {
   "cell_type": "markdown",
   "id": "1d675a94-2a42-4af3-8b5d-483a1803f9a9",
   "metadata": {},
   "source": [
    "Different modes of opening a file are :-"
   ]
  },
  {
   "cell_type": "markdown",
   "id": "b76a0f5c-9f68-437b-b2d3-4d69087c06ad",
   "metadata": {},
   "source": [
    "a) Read Only ('r’): This mode opens the text files for reading only. The start of the file is where the handle is located. It raises the I/O error if    the file does not exist. This is the default mode for opening files as well.\n",
    "\n",
    "b) Read and Write ('r+’): This method opens the file for both reading and writing. The start of the file is where the handle is located. If the file      does not exist, an I/O error gets raised.\n",
    "\n",
    "c) Write Only ('w’): This mode opens the file for writing only. The data in existing files are modified and overwritten. The start of the file is        where the handle is located. If the file does not already exist in the folder, a new one gets created.\n",
    "\n",
    "d) Write and Read ('w+’): This mode opens the file for both reading and writing. The text is overwritten and deleted from an existing file. The start    of the file is where the handle is located.\n",
    "\n",
    "e) Append Only ('a’): This mode allows the file to be opened for writing. If the file doesn't yet exist, a new one gets created. The handle is set at    the end of the file. The newly written data will be added at the end, following the previously written data.\n",
    "\n",
    "f) Append and Read (‘a+’): Using this method, you can read and write in the file. If the file doesn't already exist, one gets created. The handle is      set at the end of the file. The newly written text will be added at the end, following the previously written data."
   ]
  },
  {
   "cell_type": "markdown",
   "id": "085f5a87-e14d-4a19-8490-e0fcd70764b2",
   "metadata": {},
   "source": [
    "Q2. Why close() function is used? Why is it important to close a file?"
   ]
  },
  {
   "cell_type": "markdown",
   "id": "5620c9c5-2a5e-48fe-87b2-83ffb502ddb8",
   "metadata": {},
   "source": [
    "The close() function is used to closes an open file."
   ]
  },
  {
   "cell_type": "markdown",
   "id": "76f3fdc8-5b6d-414c-a78c-62085c041da5",
   "metadata": {},
   "source": [
    "You should always close your files, in some cases, due to buffering, changes made to a file may not show until you close the file.\n",
    "\n",
    "it is important to close the file Because files are limited resources managed by the operating system, making sure files are closed after use will protect against hard-to-debug issues like running out of file handles or experiencing corrupted data. The best defense is always to open files with a context manager."
   ]
  },
  {
   "cell_type": "markdown",
   "id": "e5df4293-f02e-4fb4-8e32-05ecd21b957e",
   "metadata": {},
   "source": [
    "Q3. Write a python program to create a text file. Write ‘I want to become a Data Scientist’ in that file. Then\n",
    "close the file. Open this file and read the content of the file."
   ]
  },
  {
   "cell_type": "code",
   "execution_count": 1,
   "id": "e26bb6ea-1444-41a5-b3f2-306104c96d1f",
   "metadata": {},
   "outputs": [],
   "source": [
    "file = open(\"text.txt\" , 'w')"
   ]
  },
  {
   "cell_type": "code",
   "execution_count": 2,
   "id": "8d90e7d6-d357-466f-a7aa-c6a98ad87613",
   "metadata": {},
   "outputs": [
    {
     "data": {
      "text/plain": [
       "33"
      ]
     },
     "execution_count": 2,
     "metadata": {},
     "output_type": "execute_result"
    }
   ],
   "source": [
    "file.write(\"I want to become a Data Scientist\")"
   ]
  },
  {
   "cell_type": "code",
   "execution_count": 3,
   "id": "fa47c707-3c78-4bcd-b906-bc55c1af6e63",
   "metadata": {},
   "outputs": [],
   "source": [
    "file.close()"
   ]
  },
  {
   "cell_type": "code",
   "execution_count": 4,
   "id": "ef71276c-e287-4024-82fe-7a133921a770",
   "metadata": {},
   "outputs": [],
   "source": [
    "file = open(\"text.txt\" , 'r')"
   ]
  },
  {
   "cell_type": "code",
   "execution_count": 5,
   "id": "67c77ae0-51f7-4936-b6e3-f60a489ee1f9",
   "metadata": {},
   "outputs": [
    {
     "data": {
      "text/plain": [
       "'I want to become a Data Scientist'"
      ]
     },
     "execution_count": 5,
     "metadata": {},
     "output_type": "execute_result"
    }
   ],
   "source": [
    "file.read()"
   ]
  },
  {
   "cell_type": "markdown",
   "id": "b860a8e4-53a4-4a77-9d4a-379e8c5b385b",
   "metadata": {},
   "source": [
    "Q4. Explain the following with python code: read(), readline() and readlines()."
   ]
  },
  {
   "cell_type": "markdown",
   "id": "a217e595-4a7b-4bec-b821-cab4a380694a",
   "metadata": {},
   "source": [
    "a) read()"
   ]
  },
  {
   "cell_type": "markdown",
   "id": "fd792f51-87a8-4d42-9319-cbf8786d7453",
   "metadata": {},
   "source": [
    "ex :- file.read(size=-1, /)\n",
    "\n",
    "Read at most n characters from stream.\n",
    "\n",
    "Read from underlying buffer until we have n characters or we hit EOF(End of file).\n",
    "If n is negative or omitted, read until EOF(End of file).\n",
    "\n",
    "It simply read the text written in the text file as it is given in the text file , read() is just to read the text file."
   ]
  },
  {
   "cell_type": "code",
   "execution_count": 9,
   "id": "47fba7d7-e745-4cb7-ab5f-620f1798829b",
   "metadata": {},
   "outputs": [],
   "source": [
    "file = open(\"text.txt\" , 'r')"
   ]
  },
  {
   "cell_type": "code",
   "execution_count": 10,
   "id": "f826590d-aa4f-4c46-8930-daa75a80341f",
   "metadata": {},
   "outputs": [
    {
     "data": {
      "text/plain": [
       "'I want to become a Data Scientist'"
      ]
     },
     "execution_count": 10,
     "metadata": {},
     "output_type": "execute_result"
    }
   ],
   "source": [
    "file.read()"
   ]
  },
  {
   "cell_type": "markdown",
   "id": "23772af7-e147-4e8e-b366-b736831c7a4b",
   "metadata": {},
   "source": [
    "b) readline()"
   ]
  },
  {
   "cell_type": "markdown",
   "id": "26af719e-6bf9-415b-b487-e3098a6e7927",
   "metadata": {},
   "source": [
    "Read until newline or EOF.\n",
    "\n",
    "Returns an empty string if EOF is hit immediately.\n",
    "\n",
    "readline() method will return a line from the file when called.\n",
    "\n",
    "readline() simply will return an empty string for the first time call until you wont give any argument to seek() method atleast 0 index to print full line and if you give some index number it will print from that index till end , this will happen on second call of readline()."
   ]
  },
  {
   "cell_type": "code",
   "execution_count": 11,
   "id": "019c1f3e-b70e-49c1-a21c-acfa18a11409",
   "metadata": {},
   "outputs": [],
   "source": [
    "file = open(\"text.txt\" , 'r')"
   ]
  },
  {
   "cell_type": "code",
   "execution_count": 12,
   "id": "f1930621-3cf6-4aed-b303-6ecb6d6acd84",
   "metadata": {},
   "outputs": [
    {
     "data": {
      "text/plain": [
       "'I want to become a Data Scientist'"
      ]
     },
     "execution_count": 12,
     "metadata": {},
     "output_type": "execute_result"
    }
   ],
   "source": [
    "file.read()"
   ]
  },
  {
   "cell_type": "code",
   "execution_count": 13,
   "id": "b17c8210-f413-48a2-ad88-3a4845a068a4",
   "metadata": {},
   "outputs": [
    {
     "data": {
      "text/plain": [
       "''"
      ]
     },
     "execution_count": 13,
     "metadata": {},
     "output_type": "execute_result"
    }
   ],
   "source": [
    "file.readline()"
   ]
  },
  {
   "cell_type": "code",
   "execution_count": 14,
   "id": "3ed390e1-d3ee-4a0d-bc01-91ab5a26cc94",
   "metadata": {},
   "outputs": [
    {
     "data": {
      "text/plain": [
       "0"
      ]
     },
     "execution_count": 14,
     "metadata": {},
     "output_type": "execute_result"
    }
   ],
   "source": [
    "file.seek(0)"
   ]
  },
  {
   "cell_type": "code",
   "execution_count": 15,
   "id": "bc501c11-e93d-4c0f-a00b-3159c8f16a1c",
   "metadata": {},
   "outputs": [
    {
     "data": {
      "text/plain": [
       "'I want to become a Data Scientist'"
      ]
     },
     "execution_count": 15,
     "metadata": {},
     "output_type": "execute_result"
    }
   ],
   "source": [
    "file.readline()"
   ]
  },
  {
   "cell_type": "code",
   "execution_count": 16,
   "id": "6445ca5b-9b57-413b-b48e-9bf36a39924a",
   "metadata": {},
   "outputs": [
    {
     "data": {
      "text/plain": [
       "2"
      ]
     },
     "execution_count": 16,
     "metadata": {},
     "output_type": "execute_result"
    }
   ],
   "source": [
    "file.seek(2)"
   ]
  },
  {
   "cell_type": "code",
   "execution_count": 17,
   "id": "e49f846a-7018-401d-813f-4b41735d8fae",
   "metadata": {},
   "outputs": [
    {
     "data": {
      "text/plain": [
       "'want to become a Data Scientist'"
      ]
     },
     "execution_count": 17,
     "metadata": {},
     "output_type": "execute_result"
    }
   ],
   "source": [
    "file.readline()"
   ]
  },
  {
   "cell_type": "markdown",
   "id": "96537bc5-dd20-4b97-821a-e9045b4e7a3d",
   "metadata": {},
   "source": [
    "c) readlines()"
   ]
  },
  {
   "cell_type": "markdown",
   "id": "282c2625-b982-4deb-b534-49958b276f35",
   "metadata": {},
   "source": [
    "readlines() method will return all the lines in a file in the format of a list where each element is a line in the file.\n",
    "\n",
    "Return a list of lines from the stream.\n",
    "\n",
    "hint can be specified to control the number of lines read: no more\n",
    "lines will be read if the total size (in bytes/characters) of all\n",
    "lines so far exceeds hint."
   ]
  },
  {
   "cell_type": "code",
   "execution_count": 18,
   "id": "4af42a87-1e39-4796-8dd7-a2e1b475181d",
   "metadata": {},
   "outputs": [
    {
     "data": {
      "text/plain": [
       "[]"
      ]
     },
     "execution_count": 18,
     "metadata": {},
     "output_type": "execute_result"
    }
   ],
   "source": [
    "file.readlines()"
   ]
  },
  {
   "cell_type": "code",
   "execution_count": 19,
   "id": "64dc790a-bce5-4ebf-acb7-e2a7a581b5bd",
   "metadata": {},
   "outputs": [
    {
     "data": {
      "text/plain": [
       "0"
      ]
     },
     "execution_count": 19,
     "metadata": {},
     "output_type": "execute_result"
    }
   ],
   "source": [
    "file.seek(0)"
   ]
  },
  {
   "cell_type": "code",
   "execution_count": 20,
   "id": "23174e54-1dcf-427c-8d07-b38ac643b707",
   "metadata": {},
   "outputs": [
    {
     "data": {
      "text/plain": [
       "['I want to become a Data Scientist']"
      ]
     },
     "execution_count": 20,
     "metadata": {},
     "output_type": "execute_result"
    }
   ],
   "source": [
    "file.readlines()"
   ]
  },
  {
   "cell_type": "code",
   "execution_count": 21,
   "id": "939e37d2-c0ac-42a8-8825-dde2ac95a3db",
   "metadata": {},
   "outputs": [
    {
     "data": {
      "text/plain": [
       "2"
      ]
     },
     "execution_count": 21,
     "metadata": {},
     "output_type": "execute_result"
    }
   ],
   "source": [
    "file.seek(2)"
   ]
  },
  {
   "cell_type": "code",
   "execution_count": 22,
   "id": "bfbaf363-b166-4cfa-a67d-c0b5468af7c5",
   "metadata": {},
   "outputs": [
    {
     "data": {
      "text/plain": [
       "['want to become a Data Scientist']"
      ]
     },
     "execution_count": 22,
     "metadata": {},
     "output_type": "execute_result"
    }
   ],
   "source": [
    "file.readlines()"
   ]
  },
  {
   "cell_type": "markdown",
   "id": "c9c3af12-7278-44dd-8cf5-38094d139aa5",
   "metadata": {},
   "source": [
    "Q5. Explain why with statement is used with open(). What is the advantage of using with statement and\n",
    "open() together?"
   ]
  },
  {
   "cell_type": "markdown",
   "id": "be594147-9635-49f7-872e-83d4bac6c07f",
   "metadata": {},
   "source": [
    "with statement is used in exception handling to make the code cleaner and much more readable. It simplifies the management of common resources like file streams. \n",
    "\n",
    "The with statement works with the open() function to open a file.\n",
    "\n",
    "with and open() because the with statement closes the file for you and you get to write less code.\n",
    "\n",
    "the open() function does what the name implies – it opens a file for you so you can work with the file.\n",
    "\n",
    "To use the open function, you declare a variable for it first. The open() function takes up to 3 parameters – the filename, the mode, and the encoding. You can then specify what you want to do with the file in a print function.\n",
    "\n",
    "There is nothing special in open() which makes it usable with the with statement and the same functionality can be provided in user defined objects. Supporting with statement in your objects will ensure that you never leave any resource open.\n",
    "\n",
    "\n",
    "Advantages :-\n",
    "\n",
    "a) there is no need to call file.close() when using with statement.\n",
    "\n",
    "b) The with statement itself ensures proper acquisition and release of resources.\n",
    "\n",
    "c) An exception during the file.write() call in the first implementation can prevent the file from closing properly which may introduce several bugs           in the code, i.e. many changes in files do not go into effect until the file is properly closed.\n",
    "\n",
    "d) using the with statement makes the code compact and much more readable. Thus, with statement helps avoiding bugs and leaks by ensuring that a               resource is properly released when the code using the resource is completely executed. \n",
    "\n",
    "e) The with statement is popularly used with file streams, as shown above and with Locks, sockets, subprocesses and telnets etc."
   ]
  },
  {
   "cell_type": "code",
   "execution_count": 25,
   "id": "ed7fe143-86e4-43d2-924d-09492d6c665f",
   "metadata": {},
   "outputs": [
    {
     "name": "stdout",
     "output_type": "stream",
     "text": [
      "I want to become a Data Scientist\n"
     ]
    }
   ],
   "source": [
    "with open(\"text.txt\" , \"r\") as file :\n",
    "    print(file.read())"
   ]
  },
  {
   "cell_type": "markdown",
   "id": "fa012a11-0471-4e59-8853-fcf421987444",
   "metadata": {},
   "source": [
    "Q6. Explain the write() and writelines() functions. Give a suitable example."
   ]
  },
  {
   "cell_type": "markdown",
   "id": "43f9d4bc-c1ea-45e0-94aa-e24f478d653d",
   "metadata": {},
   "source": [
    "write() :-"
   ]
  },
  {
   "cell_type": "markdown",
   "id": "e0c3a99b-bd2d-4236-aeff-5290357012bb",
   "metadata": {},
   "source": [
    "Write string to stream.\n",
    "\n",
    "Returns the number of characters written (which is always equal to\n",
    "the length of the string).\n",
    "\n",
    "The write() function will write the content in the file without adding any extra characters.\n",
    "\n",
    "The string that is passed to the write() function is written into the opened file. The string may include numbers, special characters, or symbols. While writing data to a file, we must know that the write function does not add a newline character(\\n) to the end of the string. The write() function returns None.\n",
    "\n",
    "write() is used to write a string to an already opened file while writelines() method is used to write a list of strings in an opened file."
   ]
  },
  {
   "cell_type": "code",
   "execution_count": 29,
   "id": "2f2becdb-c993-447c-9748-7fa6c0ae2440",
   "metadata": {},
   "outputs": [],
   "source": [
    "file = open(\"text.txt\" , 'w')"
   ]
  },
  {
   "cell_type": "code",
   "execution_count": 30,
   "id": "8b9d283a-9557-4894-b849-af4de67af94f",
   "metadata": {},
   "outputs": [
    {
     "data": {
      "text/plain": [
       "44"
      ]
     },
     "execution_count": 30,
     "metadata": {},
     "output_type": "execute_result"
    }
   ],
   "source": [
    "file.write(\"sakshi suman is learning data science course\")"
   ]
  },
  {
   "cell_type": "code",
   "execution_count": 31,
   "id": "eb970af3-a626-4c9b-b661-0998b631972a",
   "metadata": {},
   "outputs": [],
   "source": [
    "f.close()"
   ]
  },
  {
   "cell_type": "markdown",
   "id": "ccdfe051-2adc-480c-857f-2fec63f019dd",
   "metadata": {},
   "source": [
    "writelines() :-"
   ]
  },
  {
   "cell_type": "markdown",
   "id": "e01d1ca8-39d4-430d-8ff9-7c79ed9f5f62",
   "metadata": {},
   "source": [
    "This function writes the content of a list to a file.\n",
    "\n",
    "The list of strings that is passed to the writelines() function is written into the opened file. Similar to the write() function, the writelines() function does not add a newline character(\\n) to the end of the string.\n",
    "\n",
    "write() is used to write a string to an already opened file while writelines() method is used to write a list of strings in an opened file."
   ]
  },
  {
   "cell_type": "code",
   "execution_count": 35,
   "id": "1507d321-69e2-4603-ab21-5fc4c3b286ad",
   "metadata": {},
   "outputs": [
    {
     "name": "stdin",
     "output_type": "stream",
     "text": [
      "Enter the name of the employee:  sakshi\n",
      "Enter the name of the employee:  suman\n",
      "Enter the name of the employee:  data science\n"
     ]
    },
    {
     "name": "stdout",
     "output_type": "stream",
     "text": [
      "Data is written into the file.\n"
     ]
    }
   ],
   "source": [
    "file1 = open(\"Employees.txt\", \"w\")\n",
    "lst = []\n",
    "for i in range(3):\n",
    "\tname = input(\"Enter the name of the employee: \")\n",
    "\tlst.append(name + '\\n')\n",
    "\t\n",
    "file1.writelines(lst)\n",
    "file1.close()\n",
    "print(\"Data is written into the file.\")\n"
   ]
  }
 ],
 "metadata": {
  "kernelspec": {
   "display_name": "Python 3 (ipykernel)",
   "language": "python",
   "name": "python3"
  },
  "language_info": {
   "codemirror_mode": {
    "name": "ipython",
    "version": 3
   },
   "file_extension": ".py",
   "mimetype": "text/x-python",
   "name": "python",
   "nbconvert_exporter": "python",
   "pygments_lexer": "ipython3",
   "version": "3.10.8"
  }
 },
 "nbformat": 4,
 "nbformat_minor": 5
}
