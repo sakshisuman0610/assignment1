{
 "cells": [
  {
   "cell_type": "markdown",
   "id": "b60f2b6f-1dd5-4acf-9ed5-81ed27b251c7",
   "metadata": {},
   "source": [
    "Q1. What is multithreading in python? why is it used? Name the module used to handle threads in python."
   ]
  },
  {
   "cell_type": "markdown",
   "id": "1d4450af-b547-4559-93c5-d088a550dd5c",
   "metadata": {},
   "source": [
    "Multithreading is defined as the ability of a processor to execute multiple threads concurrently.\n",
    "\n",
    "In Python, the threading module provides a very simple and intuitive API for spawning multiple threads in a program.\n",
    "\n",
    "In a simple, single-core CPU, it is achieved using frequent switching between threads. This is termed as context switching. In context switching, the state of a thread is saved and state of another thread is loaded whenever any interrupt (due to I/O or manually set) takes place. Context switching takes place so frequently that all the threads appear to be running parallelly (this is termed as multitasking)."
   ]
  },
  {
   "cell_type": "markdown",
   "id": "de97b021-f14f-427e-b4fa-75dc8abd6a59",
   "metadata": {},
   "source": [
    "Threading module is used to handle threads in python.\n",
    "\n",
    "import threading"
   ]
  },
  {
   "cell_type": "code",
   "execution_count": 9,
   "id": "206cb8f2-ba93-4685-a20b-400a006da085",
   "metadata": {},
   "outputs": [],
   "source": [
    "import threading"
   ]
  },
  {
   "cell_type": "code",
   "execution_count": 19,
   "id": "197f6093-389e-445a-8350-7910433ecea1",
   "metadata": {},
   "outputs": [],
   "source": [
    "def test(id) :\n",
    "    print(\"prog start %d\"% id)"
   ]
  },
  {
   "cell_type": "code",
   "execution_count": 20,
   "id": "f775d899-53f8-4da3-9140-7d162c91e571",
   "metadata": {},
   "outputs": [],
   "source": [
    "thread = [threading.Thread(target = test , args=(i,) )for i in range(10)]"
   ]
  },
  {
   "cell_type": "code",
   "execution_count": 21,
   "id": "51defbce-427c-4d46-9cb8-f04492cd1b87",
   "metadata": {},
   "outputs": [
    {
     "name": "stdout",
     "output_type": "stream",
     "text": [
      "prog start 0\n",
      "prog start 1\n",
      "prog start 2\n",
      "prog start 3\n",
      "prog start 4\n",
      "prog start 5\n",
      "prog start 6\n",
      "prog start 7\n",
      "prog start 8\n",
      "prog start 9\n"
     ]
    }
   ],
   "source": [
    "for t in thread :\n",
    "    t.start()"
   ]
  },
  {
   "cell_type": "markdown",
   "id": "e9dc2de6-4341-4ebd-a831-ebd9f108717e",
   "metadata": {},
   "source": [
    "Q2. Why threading module used? Write the use of the following functions\n",
    "\n",
    "a) activeCount()\n",
    "\n",
    "b) currentThread()\n",
    "\n",
    "c) enumerate()"
   ]
  },
  {
   "cell_type": "markdown",
   "id": "fa96f1eb-f7d0-4e66-9888-d52f94276cf4",
   "metadata": {},
   "source": [
    "Threading module is used for creating, controlling and managing threads in python."
   ]
  },
  {
   "cell_type": "markdown",
   "id": "2179144f-d2d7-428b-943b-9bda05812d22",
   "metadata": {},
   "source": [
    "a) activeCount() :-\n",
    "\n",
    "   This function returns the number of Thread objects currently alive."
   ]
  },
  {
   "cell_type": "code",
   "execution_count": 45,
   "id": "1b42f5ee-c5c7-4305-9ec4-99f67fd37cb1",
   "metadata": {},
   "outputs": [],
   "source": [
    "import time\n",
    "import threading\n"
   ]
  },
  {
   "cell_type": "code",
   "execution_count": 46,
   "id": "2f7e715d-c92f-4aa6-ac61-5be10ef768a2",
   "metadata": {},
   "outputs": [],
   "source": [
    "def thread1(i):\n",
    "    time.sleep(3)\n",
    "\n",
    "def thread2(i):\n",
    "    time.sleep(3)\n"
   ]
  },
  {
   "cell_type": "code",
   "execution_count": 51,
   "id": "14281f6d-957a-4aaa-9a1e-061d6f42e0df",
   "metadata": {},
   "outputs": [],
   "source": [
    "if __name__ == '__main__':\n",
    "    t1 = threading.Thread(target=thread1, args=(10,))\n",
    "    t2 = threading.Thread(target=thread2, args=(12,))"
   ]
  },
  {
   "cell_type": "code",
   "execution_count": 52,
   "id": "94789236-793d-487e-bb01-8b62e6404456",
   "metadata": {},
   "outputs": [
    {
     "name": "stdout",
     "output_type": "stream",
     "text": [
      "No. of active threads:  9\n"
     ]
    }
   ],
   "source": [
    "t1.start()\n",
    "print(\"No. of active threads: \" , threading.active_count())"
   ]
  },
  {
   "cell_type": "markdown",
   "id": "7adf325b-baf3-427a-9921-f508ca51e17f",
   "metadata": {},
   "source": [
    "b) currentThread() :-"
   ]
  },
  {
   "cell_type": "markdown",
   "id": "7c549d05-c965-4545-a564-e1f6044402d3",
   "metadata": {},
   "source": [
    "This function will return the current Thread object, corresponding to the caller's thread of control(which is in the control of caller currently). If the caller's thread of control was not created through the threading module(for example the main thread), then a dummy thread object with limited functionality is returned."
   ]
  },
  {
   "cell_type": "code",
   "execution_count": 58,
   "id": "f9950c48-3a62-4494-bc0b-de343cfbae6d",
   "metadata": {},
   "outputs": [
    {
     "name": "stdout",
     "output_type": "stream",
     "text": [
      "Current thread is:  <_MainThread(MainThread, started 139753466595136)>\n"
     ]
    }
   ],
   "source": [
    "import time\n",
    "import threading\n",
    "\n",
    "def thread1(i):\n",
    "    time.sleep(3)\n",
    "\n",
    "def thread2(i):\n",
    "    time.sleep(3)\n",
    "\n",
    "if __name__ == '__main__':\n",
    "    t1 = threading.Thread(target=thread1, args=(10,))\n",
    "    t2 = threading.Thread(target=thread2, args=(12,))\n",
    "    t1.start()\n",
    "    t2.start()\n",
    "    print(\"Current thread is: \" , threading.current_thread())"
   ]
  },
  {
   "cell_type": "markdown",
   "id": "4e7de708-2591-40cf-9d14-58e207e3918d",
   "metadata": {},
   "source": [
    "c) enumerate() :-"
   ]
  },
  {
   "cell_type": "markdown",
   "id": "1aa48e6a-9bdd-4148-9edb-7b5901b2d80f",
   "metadata": {},
   "source": [
    "This method returns a list of all Thread objects currently alive. The list includes daemonic threads(when the program quits, all the daemon threads associated with it are killed automatically), dummy thread objects created by the current thread, and the main thread.\n",
    "\n",
    "Terminated threads and threads that have not yet been started are not present in this list."
   ]
  },
  {
   "cell_type": "code",
   "execution_count": 60,
   "id": "44c6dbdd-78fe-4f8a-94fd-231404cff5c9",
   "metadata": {},
   "outputs": [
    {
     "data": {
      "text/plain": [
       "[<_MainThread(MainThread, started 139753466595136)>,\n",
       " <Thread(IOPub, started daemon 139753396065856)>,\n",
       " <Heartbeat(Heartbeat, started daemon 139753387673152)>,\n",
       " <Thread(Thread-3 (_watch_pipe_fd), started daemon 139753362495040)>,\n",
       " <Thread(Thread-4 (_watch_pipe_fd), started daemon 139753354102336)>,\n",
       " <ControlThread(Control, started daemon 139753345709632)>,\n",
       " <HistorySavingThread(IPythonHistorySavingThread, started 139752867100224)>,\n",
       " <ParentPollerUnix(Thread-2, started daemon 139752857658944)>]"
      ]
     },
     "execution_count": 60,
     "metadata": {},
     "output_type": "execute_result"
    }
   ],
   "source": [
    "threading.enumerate()"
   ]
  },
  {
   "cell_type": "markdown",
   "id": "c2522a11-7e42-4fda-8ac0-cbc0a92cb656",
   "metadata": {},
   "source": [
    "Q3. Explain the following functions :-\n",
    "\n",
    "a) run()\n",
    " \n",
    "b) start()\n",
    " \n",
    "c) join()\n",
    "\n",
    "d) isAlive()"
   ]
  },
  {
   "cell_type": "markdown",
   "id": "1b5fd843-fb3c-452e-87fd-edfb6f85e9bd",
   "metadata": {},
   "source": [
    "a) run() :-"
   ]
  },
  {
   "cell_type": "markdown",
   "id": "1a8ce8db-56f9-427e-8028-fa34f08c62d2",
   "metadata": {},
   "source": [
    "Method representing the thread’s activity.\n",
    "\n",
    "You may override this method in a subclass. The standard run() method invokes the callable object passed to the object’s constructor as the target argument, if any, with positional and keyword arguments taken from the args and kwargs arguments, respectively.\n",
    "\n",
    "Using list or tuple as the args argument which passed to the Thread could achieve the same effect."
   ]
  },
  {
   "cell_type": "markdown",
   "id": "97a9317c-0009-44e4-86ac-71bd2c5d04e6",
   "metadata": {},
   "source": [
    "b) join() :-"
   ]
  },
  {
   "cell_type": "markdown",
   "id": "1e02cf3b-d4dd-47da-b6af-408a12f5df5b",
   "metadata": {},
   "source": [
    " join() method is used more commonly than isAlive(). This method waits until the thread on which it is called terminates.\n",
    " \n",
    " Using join() method, we tell our thread to wait until the specified thread completes its execution. There are overloaded versions of join() method, which allows us to specify time for which you want to wait for the specified thread to terminate."
   ]
  },
  {
   "cell_type": "markdown",
   "id": "12a5a0f8-f744-4208-9f1a-8f89be5ba1d6",
   "metadata": {},
   "source": [
    "c) start() :-"
   ]
  },
  {
   "cell_type": "markdown",
   "id": "b89bcd58-8afd-4154-8f98-ae10695001e0",
   "metadata": {},
   "source": [
    "Start the thread’s activity.\n",
    "\n",
    "It must be called at most once per thread object. It arranges for the object’s run() method to be invoked in a separate thread of control.\n",
    "\n",
    "This method will raise a RuntimeError if called more than once on the same thread object."
   ]
  },
  {
   "cell_type": "markdown",
   "id": "56058bbe-511d-4189-af36-a202bac3ecac",
   "metadata": {},
   "source": [
    "d) isAlive() :-"
   ]
  },
  {
   "cell_type": "markdown",
   "id": "16b480e6-aa38-41df-9b4d-a5bb03c25449",
   "metadata": {},
   "source": [
    "Return whether the thread is alive.\n",
    "\n",
    "This method returns True just before the run() method starts until just after the run() method terminates. The module function enumerate() returns a list of all alive threads."
   ]
  },
  {
   "cell_type": "markdown",
   "id": "25dcccf4-c45b-44d5-aa2b-2f6c8d6a382a",
   "metadata": {},
   "source": [
    "Q4. Write a python program to create two threads. Thread one must print the list of squares and thread\n",
    "two must print the list of cubes."
   ]
  },
  {
   "cell_type": "code",
   "execution_count": 7,
   "id": "2f98aafe-61a2-4833-bb5f-109a89a49b19",
   "metadata": {},
   "outputs": [],
   "source": [
    "import threading"
   ]
  },
  {
   "cell_type": "code",
   "execution_count": 8,
   "id": "aad70abc-7c3b-4cf9-b28e-644296e7323b",
   "metadata": {},
   "outputs": [],
   "source": [
    "def print_cube(num):\n",
    "\tprint(\"Cube: {}\" .format(num * num * num))\n",
    "\n",
    "\n",
    "def print_square(num):\n",
    "\tprint(\"Square: {}\" .format(num * num))"
   ]
  },
  {
   "cell_type": "code",
   "execution_count": 9,
   "id": "a80a859e-8ace-4353-9823-aa26fe2b12ea",
   "metadata": {},
   "outputs": [],
   "source": [
    "if __name__ ==\"__main__\":\n",
    "\t\n",
    "\tt1 = threading.Thread(target=print_square, args=(10,))\n",
    "\tt2 = threading.Thread(target=print_cube, args=(10,))\n"
   ]
  },
  {
   "cell_type": "code",
   "execution_count": 10,
   "id": "8514ada2-58e7-4808-9bf0-d17f3cd1b958",
   "metadata": {},
   "outputs": [
    {
     "name": "stdout",
     "output_type": "stream",
     "text": [
      "Square: 100\n"
     ]
    }
   ],
   "source": [
    "t1.start()"
   ]
  },
  {
   "cell_type": "code",
   "execution_count": 11,
   "id": "033fbe29-6736-403f-87f2-c2e0ed9b15d6",
   "metadata": {},
   "outputs": [
    {
     "name": "stdout",
     "output_type": "stream",
     "text": [
      "Cube: 1000\n"
     ]
    }
   ],
   "source": [
    "t2.start()"
   ]
  },
  {
   "cell_type": "markdown",
   "id": "953dd469-839b-456c-aa09-305634c5e1f2",
   "metadata": {},
   "source": [
    "Q5. State advantages and disadvantages of multithreading."
   ]
  },
  {
   "cell_type": "markdown",
   "id": "dba836a4-ca6d-4a53-b562-32400b07381a",
   "metadata": {},
   "source": [
    "Following are some of the common advantages of multithreading :-\n",
    "\n",
    "a) Enhanced performance by decreased development time\n",
    "\n",
    "b) Simplified and streamlined program coding\n",
    "\n",
    "c) Improvised GUI responsiveness\n",
    "\n",
    "d) Simultaneous and parallelized occurrence of tasks\n",
    "\n",
    "e) Better use of cache storage by utilization of resources\n",
    "\n",
    "f) Decreased cost of maintenance\n",
    "\n",
    "g) Better use of CPU resource"
   ]
  },
  {
   "cell_type": "markdown",
   "id": "d1e63820-e16b-49dd-b703-970c1a6b592d",
   "metadata": {},
   "source": [
    "Multithreading does not only provide you with benefits, it has its disadvantages too. Let us go through some common disadvantages:\n",
    "\n",
    "a) Complex debugging and testing processes\n",
    "\n",
    "b) Overhead switching of context\n",
    "\n",
    "c) Increased potential for deadlock occurrence\n",
    "\n",
    "d) Increased difficulty level in writing a program\n",
    "\n",
    "e)Unpredictable results"
   ]
  },
  {
   "cell_type": "markdown",
   "id": "6ef3e78a-d15c-4808-8c49-d05004f77775",
   "metadata": {},
   "source": [
    "Q6. Explain deadlocks and race conditions."
   ]
  },
  {
   "cell_type": "markdown",
   "id": "8b4f17c5-9c8c-49a6-ba9a-971cc3fd90c9",
   "metadata": {},
   "source": [
    "RACE CONDITION :-\n",
    "\n",
    "A race condition is a bug in concurrency programming.\n",
    "\n",
    "Race condition: A flaw in a concurrent application in which the result is dependent on the timing or sequence of multiple threads’ execution.\n",
    "\n",
    "A race condition is a failure case where the behavior of the program is dependent upon the order of execution by two or more threads. This means that the behavior of the program will not be predictable, possibly changing each time it is run.\n",
    "\n",
    "When threads or processes attempt to simultaneously access a shared resource, and the accesses can result in an error, we often say the program has a race condition, because the threads or processes are in a “race” to carry out an operation.\n",
    "\n",
    "There are many types of race conditions and they almost always have to do with an unexpected sequence of operations.\n",
    "\n",
    "Two common classes of race conditions include:\n",
    "\n",
    "a) Race caused by accessing shared data or state.\n",
    "\n",
    "b) Race conditions caused due to timing.\n",
    "\n",
    "Both of these race conditions can occur when using threads in Python."
   ]
  },
  {
   "cell_type": "markdown",
   "id": "377f094d-db23-45b9-ab46-2f9d029439d1",
   "metadata": {},
   "source": [
    "DEADLOCK :-"
   ]
  },
  {
   "cell_type": "markdown",
   "id": "fa44ecf2-17c3-4fc6-b8fd-2f33fc2f1c45",
   "metadata": {},
   "source": [
    "A deadlock occurs when two threads each lock a different variable at the same time and then try to lock the variable that the other thread already locked. As a result, each thread stops executing and waits for the other thread to release the variable. Because each thread is holding the variable that the other thread wants, nothing occurs, and the threads remain deadlocked."
   ]
  },
  {
   "cell_type": "markdown",
   "id": "230a84de-0440-48d4-a076-c2f349c455fb",
   "metadata": {},
   "source": [
    "A common symptom of deadlock is that the program or group of threads stops responding. This is also known as a hang. At least two threads are waiting for a variable that the other thread locked. The threads do not proceed, because neither thread will release its variable until it gets the other variable. The whole program can hang if the program is waiting on one or both of those threads to complete execution."
   ]
  }
 ],
 "metadata": {
  "kernelspec": {
   "display_name": "Python 3 (ipykernel)",
   "language": "python",
   "name": "python3"
  },
  "language_info": {
   "codemirror_mode": {
    "name": "ipython",
    "version": 3
   },
   "file_extension": ".py",
   "mimetype": "text/x-python",
   "name": "python",
   "nbconvert_exporter": "python",
   "pygments_lexer": "ipython3",
   "version": "3.10.8"
  }
 },
 "nbformat": 4,
 "nbformat_minor": 5
}
