{
 "cells": [
  {
   "cell_type": "markdown",
   "id": "d9a21de1-9f3a-453f-9c06-93e817af4429",
   "metadata": {},
   "source": [
    "Q1. Write a code to print the data present in the second row of the dataframe, df.\n",
    "\n",
    "Consider following code to answer further questions: import pandas as pd course_name = [‘Data Science’, ‘Machine Learning’, ‘Big Data’, ‘Data Engineer’] duration = [2,3,6,4] df = pd.DataFrame(data = {‘course_name’ : course_name, ‘duration’ : duration})"
   ]
  },
  {
   "cell_type": "code",
   "execution_count": 1,
   "id": "1c534857-0b52-4fe2-8c47-92bff430eaa9",
   "metadata": {},
   "outputs": [
    {
     "data": {
      "text/html": [
       "<div>\n",
       "<style scoped>\n",
       "    .dataframe tbody tr th:only-of-type {\n",
       "        vertical-align: middle;\n",
       "    }\n",
       "\n",
       "    .dataframe tbody tr th {\n",
       "        vertical-align: top;\n",
       "    }\n",
       "\n",
       "    .dataframe thead th {\n",
       "        text-align: right;\n",
       "    }\n",
       "</style>\n",
       "<table border=\"1\" class=\"dataframe\">\n",
       "  <thead>\n",
       "    <tr style=\"text-align: right;\">\n",
       "      <th></th>\n",
       "      <th>course_name</th>\n",
       "      <th>duration</th>\n",
       "    </tr>\n",
       "  </thead>\n",
       "  <tbody>\n",
       "    <tr>\n",
       "      <th>0</th>\n",
       "      <td>Data Science</td>\n",
       "      <td>2</td>\n",
       "    </tr>\n",
       "    <tr>\n",
       "      <th>1</th>\n",
       "      <td>Machine Learning</td>\n",
       "      <td>3</td>\n",
       "    </tr>\n",
       "    <tr>\n",
       "      <th>2</th>\n",
       "      <td>Big Data</td>\n",
       "      <td>6</td>\n",
       "    </tr>\n",
       "    <tr>\n",
       "      <th>3</th>\n",
       "      <td>Data Engineer</td>\n",
       "      <td>4</td>\n",
       "    </tr>\n",
       "  </tbody>\n",
       "</table>\n",
       "</div>"
      ],
      "text/plain": [
       "        course_name  duration\n",
       "0      Data Science         2\n",
       "1  Machine Learning         3\n",
       "2          Big Data         6\n",
       "3     Data Engineer         4"
      ]
     },
     "execution_count": 1,
     "metadata": {},
     "output_type": "execute_result"
    }
   ],
   "source": [
    "import pandas as pd\n",
    "course_name = ['Data Science', 'Machine Learning', 'Big Data', 'Data Engineer']\n",
    "duration = [2,3,6,4]\n",
    "df = pd.DataFrame(data = {'course_name' : course_name, 'duration' : duration})\n",
    "df"
   ]
  },
  {
   "cell_type": "code",
   "execution_count": 2,
   "id": "af9d3d4d-bbb8-4fad-8fd0-7c6050321b73",
   "metadata": {},
   "outputs": [
    {
     "data": {
      "text/plain": [
       "course_name    Machine Learning\n",
       "duration                      3\n",
       "Name: 1, dtype: object"
      ]
     },
     "execution_count": 2,
     "metadata": {},
     "output_type": "execute_result"
    }
   ],
   "source": [
    "# second row of dataframe\n",
    "df.iloc[1]"
   ]
  },
  {
   "cell_type": "markdown",
   "id": "67a5bb5a-087d-4b90-a993-a4a23dfc8b32",
   "metadata": {},
   "source": [
    "Q2. What is the difference between the functions loc and iloc in pandas.DataFrame?"
   ]
  },
  {
   "cell_type": "markdown",
   "id": "5b11acb7-c08e-4df5-9491-88b42444c7a3",
   "metadata": {},
   "source": [
    "Python loc() function:\n",
    "\n",
    "The loc() function is label based data selecting method which means that we have to pass the name of the row or column which we want to select. This method includes the last element of the range passed in it, unlike iloc(). loc() can accept the boolean data unlike iloc().\n",
    "\n",
    "Python iloc() function:\n",
    "\n",
    "The iloc() function is an indexed-based selecting method which means that we have to pass an integer index in the method to select a specific row/column. This method does not include the last element of the range passed in it unlike loc(). iloc() does not accept the boolean data unlike loc()."
   ]
  },
  {
   "cell_type": "markdown",
   "id": "ff99abcb-5d20-4adc-a545-ccbd87ea776f",
   "metadata": {},
   "source": [
    "Q3. Reindex the given dataframe using a variable, reindex = [3,0,1,2] and store it in the variable, new_df then find the output for both new_df.loc[2] and new_df.iloc[2].\n",
    "\n",
    "Did you observe any difference in both the outputs? If so then explain it."
   ]
  },
  {
   "cell_type": "code",
   "execution_count": 3,
   "id": "110653b7-e951-4be9-b6a2-782735e584f9",
   "metadata": {},
   "outputs": [],
   "source": [
    "import pandas as pd\n",
    "import numpy as np\n",
    "columns = ['column_1', 'column_2', 'column_3', 'column_4', 'column_5', 'column_6']\n",
    "indices = [1,2,3,4,5,6]\n",
    "#Creating a dataframe:\n",
    "df1 = pd.DataFrame(np.random.rand(6,6), columns = columns, index = indices)"
   ]
  },
  {
   "cell_type": "code",
   "execution_count": 4,
   "id": "c4498c8e-35ce-4b03-8148-04c58b762a8d",
   "metadata": {},
   "outputs": [],
   "source": [
    "new_df=df1.reindex([3,0,1,2])"
   ]
  },
  {
   "cell_type": "code",
   "execution_count": 5,
   "id": "a82989d2-ddf4-489b-bd08-61f4dfea500f",
   "metadata": {},
   "outputs": [
    {
     "data": {
      "text/html": [
       "<div>\n",
       "<style scoped>\n",
       "    .dataframe tbody tr th:only-of-type {\n",
       "        vertical-align: middle;\n",
       "    }\n",
       "\n",
       "    .dataframe tbody tr th {\n",
       "        vertical-align: top;\n",
       "    }\n",
       "\n",
       "    .dataframe thead th {\n",
       "        text-align: right;\n",
       "    }\n",
       "</style>\n",
       "<table border=\"1\" class=\"dataframe\">\n",
       "  <thead>\n",
       "    <tr style=\"text-align: right;\">\n",
       "      <th></th>\n",
       "      <th>column_1</th>\n",
       "      <th>column_2</th>\n",
       "      <th>column_3</th>\n",
       "      <th>column_4</th>\n",
       "      <th>column_5</th>\n",
       "      <th>column_6</th>\n",
       "    </tr>\n",
       "  </thead>\n",
       "  <tbody>\n",
       "    <tr>\n",
       "      <th>3</th>\n",
       "      <td>0.042722</td>\n",
       "      <td>0.094547</td>\n",
       "      <td>0.826102</td>\n",
       "      <td>0.697540</td>\n",
       "      <td>0.172599</td>\n",
       "      <td>0.468554</td>\n",
       "    </tr>\n",
       "    <tr>\n",
       "      <th>0</th>\n",
       "      <td>NaN</td>\n",
       "      <td>NaN</td>\n",
       "      <td>NaN</td>\n",
       "      <td>NaN</td>\n",
       "      <td>NaN</td>\n",
       "      <td>NaN</td>\n",
       "    </tr>\n",
       "    <tr>\n",
       "      <th>1</th>\n",
       "      <td>0.836990</td>\n",
       "      <td>0.096338</td>\n",
       "      <td>0.074853</td>\n",
       "      <td>0.827208</td>\n",
       "      <td>0.473896</td>\n",
       "      <td>0.895889</td>\n",
       "    </tr>\n",
       "    <tr>\n",
       "      <th>2</th>\n",
       "      <td>0.311923</td>\n",
       "      <td>0.945863</td>\n",
       "      <td>0.131928</td>\n",
       "      <td>0.606310</td>\n",
       "      <td>0.924846</td>\n",
       "      <td>0.171367</td>\n",
       "    </tr>\n",
       "  </tbody>\n",
       "</table>\n",
       "</div>"
      ],
      "text/plain": [
       "   column_1  column_2  column_3  column_4  column_5  column_6\n",
       "3  0.042722  0.094547  0.826102  0.697540  0.172599  0.468554\n",
       "0       NaN       NaN       NaN       NaN       NaN       NaN\n",
       "1  0.836990  0.096338  0.074853  0.827208  0.473896  0.895889\n",
       "2  0.311923  0.945863  0.131928  0.606310  0.924846  0.171367"
      ]
     },
     "execution_count": 5,
     "metadata": {},
     "output_type": "execute_result"
    }
   ],
   "source": [
    "new_df"
   ]
  },
  {
   "cell_type": "code",
   "execution_count": 6,
   "id": "a4d8383e-bee1-4e3b-a1b6-46d7165a2cc6",
   "metadata": {},
   "outputs": [
    {
     "data": {
      "text/plain": [
       "column_1    0.311923\n",
       "column_2    0.945863\n",
       "column_3    0.131928\n",
       "column_4    0.606310\n",
       "column_5    0.924846\n",
       "column_6    0.171367\n",
       "Name: 2, dtype: float64"
      ]
     },
     "execution_count": 6,
     "metadata": {},
     "output_type": "execute_result"
    }
   ],
   "source": [
    "# it selects reindexed row no 2 \n",
    "# as loc reflects from the given index value so here when we passed 2 in loc function it prints the data of row 2\n",
    "new_df.loc[2] "
   ]
  },
  {
   "cell_type": "code",
   "execution_count": 7,
   "id": "46d130fe-ba5b-444e-81ec-ac3c17630508",
   "metadata": {},
   "outputs": [
    {
     "data": {
      "text/plain": [
       "column_1    0.836990\n",
       "column_2    0.096338\n",
       "column_3    0.074853\n",
       "column_4    0.827208\n",
       "column_5    0.473896\n",
       "column_6    0.895889\n",
       "Name: 1, dtype: float64"
      ]
     },
     "execution_count": 7,
     "metadata": {},
     "output_type": "execute_result"
    }
   ],
   "source": [
    "# it selects actual row no 2 \n",
    "# iloc selects from the actual order of index so it fetched 2 from above no reindexed value\n",
    "new_df.iloc[2]"
   ]
  },
  {
   "cell_type": "markdown",
   "id": "286a9f7c-c827-4f8c-b2eb-017ade5a72ff",
   "metadata": {},
   "source": [
    "Q4. Write a code to find the following statistical measurements for the above dataframe df1: (i) mean of each and every column present in the dataframe. (ii) standard deviation of column, ‘column_2’"
   ]
  },
  {
   "cell_type": "code",
   "execution_count": 8,
   "id": "cad247cc-ebec-4224-a5e9-d6d8af57bee2",
   "metadata": {},
   "outputs": [
    {
     "data": {
      "text/html": [
       "<div>\n",
       "<style scoped>\n",
       "    .dataframe tbody tr th:only-of-type {\n",
       "        vertical-align: middle;\n",
       "    }\n",
       "\n",
       "    .dataframe tbody tr th {\n",
       "        vertical-align: top;\n",
       "    }\n",
       "\n",
       "    .dataframe thead th {\n",
       "        text-align: right;\n",
       "    }\n",
       "</style>\n",
       "<table border=\"1\" class=\"dataframe\">\n",
       "  <thead>\n",
       "    <tr style=\"text-align: right;\">\n",
       "      <th></th>\n",
       "      <th>column_1</th>\n",
       "      <th>column_2</th>\n",
       "      <th>column_3</th>\n",
       "      <th>column_4</th>\n",
       "      <th>column_5</th>\n",
       "      <th>column_6</th>\n",
       "    </tr>\n",
       "  </thead>\n",
       "  <tbody>\n",
       "    <tr>\n",
       "      <th>1</th>\n",
       "      <td>0.836990</td>\n",
       "      <td>0.096338</td>\n",
       "      <td>0.074853</td>\n",
       "      <td>0.827208</td>\n",
       "      <td>0.473896</td>\n",
       "      <td>0.895889</td>\n",
       "    </tr>\n",
       "    <tr>\n",
       "      <th>2</th>\n",
       "      <td>0.311923</td>\n",
       "      <td>0.945863</td>\n",
       "      <td>0.131928</td>\n",
       "      <td>0.606310</td>\n",
       "      <td>0.924846</td>\n",
       "      <td>0.171367</td>\n",
       "    </tr>\n",
       "    <tr>\n",
       "      <th>3</th>\n",
       "      <td>0.042722</td>\n",
       "      <td>0.094547</td>\n",
       "      <td>0.826102</td>\n",
       "      <td>0.697540</td>\n",
       "      <td>0.172599</td>\n",
       "      <td>0.468554</td>\n",
       "    </tr>\n",
       "    <tr>\n",
       "      <th>4</th>\n",
       "      <td>0.522485</td>\n",
       "      <td>0.377455</td>\n",
       "      <td>0.460940</td>\n",
       "      <td>0.759463</td>\n",
       "      <td>0.621296</td>\n",
       "      <td>0.231850</td>\n",
       "    </tr>\n",
       "    <tr>\n",
       "      <th>5</th>\n",
       "      <td>0.482494</td>\n",
       "      <td>0.910935</td>\n",
       "      <td>0.054250</td>\n",
       "      <td>0.866891</td>\n",
       "      <td>0.411232</td>\n",
       "      <td>0.392942</td>\n",
       "    </tr>\n",
       "    <tr>\n",
       "      <th>6</th>\n",
       "      <td>0.884676</td>\n",
       "      <td>0.402004</td>\n",
       "      <td>0.960905</td>\n",
       "      <td>0.349692</td>\n",
       "      <td>0.533337</td>\n",
       "      <td>0.767086</td>\n",
       "    </tr>\n",
       "  </tbody>\n",
       "</table>\n",
       "</div>"
      ],
      "text/plain": [
       "   column_1  column_2  column_3  column_4  column_5  column_6\n",
       "1  0.836990  0.096338  0.074853  0.827208  0.473896  0.895889\n",
       "2  0.311923  0.945863  0.131928  0.606310  0.924846  0.171367\n",
       "3  0.042722  0.094547  0.826102  0.697540  0.172599  0.468554\n",
       "4  0.522485  0.377455  0.460940  0.759463  0.621296  0.231850\n",
       "5  0.482494  0.910935  0.054250  0.866891  0.411232  0.392942\n",
       "6  0.884676  0.402004  0.960905  0.349692  0.533337  0.767086"
      ]
     },
     "execution_count": 8,
     "metadata": {},
     "output_type": "execute_result"
    }
   ],
   "source": [
    "df1"
   ]
  },
  {
   "cell_type": "code",
   "execution_count": 9,
   "id": "db5283af-f172-4dad-ba1e-c6751714a637",
   "metadata": {},
   "outputs": [
    {
     "data": {
      "text/plain": [
       "column_1    0.513548\n",
       "column_2    0.471190\n",
       "column_3    0.418163\n",
       "column_4    0.684517\n",
       "column_5    0.522867\n",
       "column_6    0.487948\n",
       "dtype: float64"
      ]
     },
     "execution_count": 9,
     "metadata": {},
     "output_type": "execute_result"
    }
   ],
   "source": [
    "df1.mean()"
   ]
  },
  {
   "cell_type": "code",
   "execution_count": 10,
   "id": "552aadd2-bdd3-42e6-97c5-03f7440976bd",
   "metadata": {},
   "outputs": [
    {
     "data": {
      "text/plain": [
       "0.3780573567750114"
      ]
     },
     "execution_count": 10,
     "metadata": {},
     "output_type": "execute_result"
    }
   ],
   "source": [
    "df1[\"column_2\"].std()"
   ]
  },
  {
   "cell_type": "markdown",
   "id": "7c395aea-0a47-4275-9ca5-9a653d802fab",
   "metadata": {},
   "source": [
    "Q5. Replace the data present in the second row of column, ‘column_2’ by a string variable then find the mean of column, column_2. If you are getting errors in executing it then explain why. [Hint: To replace the data use df1.loc[] and equate this to string data of your choice.]\n",
    "\n",
    "condition 1 :\n",
    "\n",
    "When Row 2 is replaced with string"
   ]
  },
  {
   "cell_type": "code",
   "execution_count": 11,
   "id": "358540b7-8cac-4ada-8329-f4d6e231485a",
   "metadata": {},
   "outputs": [
    {
     "data": {
      "text/html": [
       "<div>\n",
       "<style scoped>\n",
       "    .dataframe tbody tr th:only-of-type {\n",
       "        vertical-align: middle;\n",
       "    }\n",
       "\n",
       "    .dataframe tbody tr th {\n",
       "        vertical-align: top;\n",
       "    }\n",
       "\n",
       "    .dataframe thead th {\n",
       "        text-align: right;\n",
       "    }\n",
       "</style>\n",
       "<table border=\"1\" class=\"dataframe\">\n",
       "  <thead>\n",
       "    <tr style=\"text-align: right;\">\n",
       "      <th></th>\n",
       "      <th>column_1</th>\n",
       "      <th>column_2</th>\n",
       "      <th>column_3</th>\n",
       "      <th>column_4</th>\n",
       "      <th>column_5</th>\n",
       "      <th>column_6</th>\n",
       "    </tr>\n",
       "  </thead>\n",
       "  <tbody>\n",
       "    <tr>\n",
       "      <th>1</th>\n",
       "      <td>0.83699</td>\n",
       "      <td>0.096338</td>\n",
       "      <td>0.074853</td>\n",
       "      <td>0.827208</td>\n",
       "      <td>0.473896</td>\n",
       "      <td>0.895889</td>\n",
       "    </tr>\n",
       "    <tr>\n",
       "      <th>2</th>\n",
       "      <td>Rajnikant</td>\n",
       "      <td>Rajnikant</td>\n",
       "      <td>Rajnikant</td>\n",
       "      <td>Rajnikant</td>\n",
       "      <td>Rajnikant</td>\n",
       "      <td>Rajnikant</td>\n",
       "    </tr>\n",
       "    <tr>\n",
       "      <th>3</th>\n",
       "      <td>0.042722</td>\n",
       "      <td>0.094547</td>\n",
       "      <td>0.826102</td>\n",
       "      <td>0.69754</td>\n",
       "      <td>0.172599</td>\n",
       "      <td>0.468554</td>\n",
       "    </tr>\n",
       "    <tr>\n",
       "      <th>4</th>\n",
       "      <td>0.522485</td>\n",
       "      <td>0.377455</td>\n",
       "      <td>0.46094</td>\n",
       "      <td>0.759463</td>\n",
       "      <td>0.621296</td>\n",
       "      <td>0.23185</td>\n",
       "    </tr>\n",
       "    <tr>\n",
       "      <th>5</th>\n",
       "      <td>0.482494</td>\n",
       "      <td>0.910935</td>\n",
       "      <td>0.05425</td>\n",
       "      <td>0.866891</td>\n",
       "      <td>0.411232</td>\n",
       "      <td>0.392942</td>\n",
       "    </tr>\n",
       "    <tr>\n",
       "      <th>6</th>\n",
       "      <td>0.884676</td>\n",
       "      <td>0.402004</td>\n",
       "      <td>0.960905</td>\n",
       "      <td>0.349692</td>\n",
       "      <td>0.533337</td>\n",
       "      <td>0.767086</td>\n",
       "    </tr>\n",
       "  </tbody>\n",
       "</table>\n",
       "</div>"
      ],
      "text/plain": [
       "    column_1   column_2   column_3   column_4   column_5   column_6\n",
       "1    0.83699   0.096338   0.074853   0.827208   0.473896   0.895889\n",
       "2  Rajnikant  Rajnikant  Rajnikant  Rajnikant  Rajnikant  Rajnikant\n",
       "3   0.042722   0.094547   0.826102    0.69754   0.172599   0.468554\n",
       "4   0.522485   0.377455    0.46094   0.759463   0.621296    0.23185\n",
       "5   0.482494   0.910935    0.05425   0.866891   0.411232   0.392942\n",
       "6   0.884676   0.402004   0.960905   0.349692   0.533337   0.767086"
      ]
     },
     "execution_count": 11,
     "metadata": {},
     "output_type": "execute_result"
    }
   ],
   "source": [
    "df1.loc[2]=\"Rajnikant\"\n",
    "df1"
   ]
  },
  {
   "cell_type": "code",
   "execution_count": 12,
   "id": "4034f158-faac-40b2-8f55-0a26852fd756",
   "metadata": {},
   "outputs": [
    {
     "ename": "TypeError",
     "evalue": "unsupported operand type(s) for +: 'float' and 'str'",
     "output_type": "error",
     "traceback": [
      "\u001b[0;31m---------------------------------------------------------------------------\u001b[0m",
      "\u001b[0;31mTypeError\u001b[0m                                 Traceback (most recent call last)",
      "Cell \u001b[0;32mIn[12], line 1\u001b[0m\n\u001b[0;32m----> 1\u001b[0m \u001b[43mdf1\u001b[49m\u001b[43m[\u001b[49m\u001b[38;5;124;43m\"\u001b[39;49m\u001b[38;5;124;43mcolumn_2\u001b[39;49m\u001b[38;5;124;43m\"\u001b[39;49m\u001b[43m]\u001b[49m\u001b[38;5;241;43m.\u001b[39;49m\u001b[43mmean\u001b[49m\u001b[43m(\u001b[49m\u001b[43m)\u001b[49m\n",
      "File \u001b[0;32m/opt/conda/lib/python3.10/site-packages/pandas/core/generic.py:11847\u001b[0m, in \u001b[0;36mNDFrame._add_numeric_operations.<locals>.mean\u001b[0;34m(self, axis, skipna, level, numeric_only, **kwargs)\u001b[0m\n\u001b[1;32m  11829\u001b[0m \u001b[38;5;129m@doc\u001b[39m(\n\u001b[1;32m  11830\u001b[0m     _num_doc,\n\u001b[1;32m  11831\u001b[0m     desc\u001b[38;5;241m=\u001b[39m\u001b[38;5;124m\"\u001b[39m\u001b[38;5;124mReturn the mean of the values over the requested axis.\u001b[39m\u001b[38;5;124m\"\u001b[39m,\n\u001b[0;32m   (...)\u001b[0m\n\u001b[1;32m  11845\u001b[0m     \u001b[38;5;241m*\u001b[39m\u001b[38;5;241m*\u001b[39mkwargs,\n\u001b[1;32m  11846\u001b[0m ):\n\u001b[0;32m> 11847\u001b[0m     \u001b[38;5;28;01mreturn\u001b[39;00m \u001b[43mNDFrame\u001b[49m\u001b[38;5;241;43m.\u001b[39;49m\u001b[43mmean\u001b[49m\u001b[43m(\u001b[49m\u001b[38;5;28;43mself\u001b[39;49m\u001b[43m,\u001b[49m\u001b[43m \u001b[49m\u001b[43maxis\u001b[49m\u001b[43m,\u001b[49m\u001b[43m \u001b[49m\u001b[43mskipna\u001b[49m\u001b[43m,\u001b[49m\u001b[43m \u001b[49m\u001b[43mlevel\u001b[49m\u001b[43m,\u001b[49m\u001b[43m \u001b[49m\u001b[43mnumeric_only\u001b[49m\u001b[43m,\u001b[49m\u001b[43m \u001b[49m\u001b[38;5;241;43m*\u001b[39;49m\u001b[38;5;241;43m*\u001b[39;49m\u001b[43mkwargs\u001b[49m\u001b[43m)\u001b[49m\n",
      "File \u001b[0;32m/opt/conda/lib/python3.10/site-packages/pandas/core/generic.py:11401\u001b[0m, in \u001b[0;36mNDFrame.mean\u001b[0;34m(self, axis, skipna, level, numeric_only, **kwargs)\u001b[0m\n\u001b[1;32m  11393\u001b[0m \u001b[38;5;28;01mdef\u001b[39;00m \u001b[38;5;21mmean\u001b[39m(\n\u001b[1;32m  11394\u001b[0m     \u001b[38;5;28mself\u001b[39m,\n\u001b[1;32m  11395\u001b[0m     axis: Axis \u001b[38;5;241m|\u001b[39m \u001b[38;5;28;01mNone\u001b[39;00m \u001b[38;5;241m|\u001b[39m lib\u001b[38;5;241m.\u001b[39mNoDefault \u001b[38;5;241m=\u001b[39m lib\u001b[38;5;241m.\u001b[39mno_default,\n\u001b[0;32m   (...)\u001b[0m\n\u001b[1;32m  11399\u001b[0m     \u001b[38;5;241m*\u001b[39m\u001b[38;5;241m*\u001b[39mkwargs,\n\u001b[1;32m  11400\u001b[0m ) \u001b[38;5;241m-\u001b[39m\u001b[38;5;241m>\u001b[39m Series \u001b[38;5;241m|\u001b[39m \u001b[38;5;28mfloat\u001b[39m:\n\u001b[0;32m> 11401\u001b[0m     \u001b[38;5;28;01mreturn\u001b[39;00m \u001b[38;5;28;43mself\u001b[39;49m\u001b[38;5;241;43m.\u001b[39;49m\u001b[43m_stat_function\u001b[49m\u001b[43m(\u001b[49m\n\u001b[1;32m  11402\u001b[0m \u001b[43m        \u001b[49m\u001b[38;5;124;43m\"\u001b[39;49m\u001b[38;5;124;43mmean\u001b[39;49m\u001b[38;5;124;43m\"\u001b[39;49m\u001b[43m,\u001b[49m\u001b[43m \u001b[49m\u001b[43mnanops\u001b[49m\u001b[38;5;241;43m.\u001b[39;49m\u001b[43mnanmean\u001b[49m\u001b[43m,\u001b[49m\u001b[43m \u001b[49m\u001b[43maxis\u001b[49m\u001b[43m,\u001b[49m\u001b[43m \u001b[49m\u001b[43mskipna\u001b[49m\u001b[43m,\u001b[49m\u001b[43m \u001b[49m\u001b[43mlevel\u001b[49m\u001b[43m,\u001b[49m\u001b[43m \u001b[49m\u001b[43mnumeric_only\u001b[49m\u001b[43m,\u001b[49m\u001b[43m \u001b[49m\u001b[38;5;241;43m*\u001b[39;49m\u001b[38;5;241;43m*\u001b[39;49m\u001b[43mkwargs\u001b[49m\n\u001b[1;32m  11403\u001b[0m \u001b[43m    \u001b[49m\u001b[43m)\u001b[49m\n",
      "File \u001b[0;32m/opt/conda/lib/python3.10/site-packages/pandas/core/generic.py:11353\u001b[0m, in \u001b[0;36mNDFrame._stat_function\u001b[0;34m(self, name, func, axis, skipna, level, numeric_only, **kwargs)\u001b[0m\n\u001b[1;32m  11343\u001b[0m     warnings\u001b[38;5;241m.\u001b[39mwarn(\n\u001b[1;32m  11344\u001b[0m         \u001b[38;5;124m\"\u001b[39m\u001b[38;5;124mUsing the level keyword in DataFrame and Series aggregations is \u001b[39m\u001b[38;5;124m\"\u001b[39m\n\u001b[1;32m  11345\u001b[0m         \u001b[38;5;124m\"\u001b[39m\u001b[38;5;124mdeprecated and will be removed in a future version. Use groupby \u001b[39m\u001b[38;5;124m\"\u001b[39m\n\u001b[0;32m   (...)\u001b[0m\n\u001b[1;32m  11348\u001b[0m         stacklevel\u001b[38;5;241m=\u001b[39mfind_stack_level(),\n\u001b[1;32m  11349\u001b[0m     )\n\u001b[1;32m  11350\u001b[0m     \u001b[38;5;28;01mreturn\u001b[39;00m \u001b[38;5;28mself\u001b[39m\u001b[38;5;241m.\u001b[39m_agg_by_level(\n\u001b[1;32m  11351\u001b[0m         name, axis\u001b[38;5;241m=\u001b[39maxis, level\u001b[38;5;241m=\u001b[39mlevel, skipna\u001b[38;5;241m=\u001b[39mskipna, numeric_only\u001b[38;5;241m=\u001b[39mnumeric_only\n\u001b[1;32m  11352\u001b[0m     )\n\u001b[0;32m> 11353\u001b[0m \u001b[38;5;28;01mreturn\u001b[39;00m \u001b[38;5;28;43mself\u001b[39;49m\u001b[38;5;241;43m.\u001b[39;49m\u001b[43m_reduce\u001b[49m\u001b[43m(\u001b[49m\n\u001b[1;32m  11354\u001b[0m \u001b[43m    \u001b[49m\u001b[43mfunc\u001b[49m\u001b[43m,\u001b[49m\u001b[43m \u001b[49m\u001b[43mname\u001b[49m\u001b[38;5;241;43m=\u001b[39;49m\u001b[43mname\u001b[49m\u001b[43m,\u001b[49m\u001b[43m \u001b[49m\u001b[43maxis\u001b[49m\u001b[38;5;241;43m=\u001b[39;49m\u001b[43maxis\u001b[49m\u001b[43m,\u001b[49m\u001b[43m \u001b[49m\u001b[43mskipna\u001b[49m\u001b[38;5;241;43m=\u001b[39;49m\u001b[43mskipna\u001b[49m\u001b[43m,\u001b[49m\u001b[43m \u001b[49m\u001b[43mnumeric_only\u001b[49m\u001b[38;5;241;43m=\u001b[39;49m\u001b[43mnumeric_only\u001b[49m\n\u001b[1;32m  11355\u001b[0m \u001b[43m\u001b[49m\u001b[43m)\u001b[49m\n",
      "File \u001b[0;32m/opt/conda/lib/python3.10/site-packages/pandas/core/series.py:4816\u001b[0m, in \u001b[0;36mSeries._reduce\u001b[0;34m(self, op, name, axis, skipna, numeric_only, filter_type, **kwds)\u001b[0m\n\u001b[1;32m   4812\u001b[0m     \u001b[38;5;28;01mraise\u001b[39;00m \u001b[38;5;167;01mNotImplementedError\u001b[39;00m(\n\u001b[1;32m   4813\u001b[0m         \u001b[38;5;124mf\u001b[39m\u001b[38;5;124m\"\u001b[39m\u001b[38;5;124mSeries.\u001b[39m\u001b[38;5;132;01m{\u001b[39;00mname\u001b[38;5;132;01m}\u001b[39;00m\u001b[38;5;124m does not implement \u001b[39m\u001b[38;5;132;01m{\u001b[39;00mkwd_name\u001b[38;5;132;01m}\u001b[39;00m\u001b[38;5;124m.\u001b[39m\u001b[38;5;124m\"\u001b[39m\n\u001b[1;32m   4814\u001b[0m     )\n\u001b[1;32m   4815\u001b[0m \u001b[38;5;28;01mwith\u001b[39;00m np\u001b[38;5;241m.\u001b[39merrstate(\u001b[38;5;28mall\u001b[39m\u001b[38;5;241m=\u001b[39m\u001b[38;5;124m\"\u001b[39m\u001b[38;5;124mignore\u001b[39m\u001b[38;5;124m\"\u001b[39m):\n\u001b[0;32m-> 4816\u001b[0m     \u001b[38;5;28;01mreturn\u001b[39;00m \u001b[43mop\u001b[49m\u001b[43m(\u001b[49m\u001b[43mdelegate\u001b[49m\u001b[43m,\u001b[49m\u001b[43m \u001b[49m\u001b[43mskipna\u001b[49m\u001b[38;5;241;43m=\u001b[39;49m\u001b[43mskipna\u001b[49m\u001b[43m,\u001b[49m\u001b[43m \u001b[49m\u001b[38;5;241;43m*\u001b[39;49m\u001b[38;5;241;43m*\u001b[39;49m\u001b[43mkwds\u001b[49m\u001b[43m)\u001b[49m\n",
      "File \u001b[0;32m/opt/conda/lib/python3.10/site-packages/pandas/core/nanops.py:93\u001b[0m, in \u001b[0;36mdisallow.__call__.<locals>._f\u001b[0;34m(*args, **kwargs)\u001b[0m\n\u001b[1;32m     91\u001b[0m \u001b[38;5;28;01mtry\u001b[39;00m:\n\u001b[1;32m     92\u001b[0m     \u001b[38;5;28;01mwith\u001b[39;00m np\u001b[38;5;241m.\u001b[39merrstate(invalid\u001b[38;5;241m=\u001b[39m\u001b[38;5;124m\"\u001b[39m\u001b[38;5;124mignore\u001b[39m\u001b[38;5;124m\"\u001b[39m):\n\u001b[0;32m---> 93\u001b[0m         \u001b[38;5;28;01mreturn\u001b[39;00m \u001b[43mf\u001b[49m\u001b[43m(\u001b[49m\u001b[38;5;241;43m*\u001b[39;49m\u001b[43margs\u001b[49m\u001b[43m,\u001b[49m\u001b[43m \u001b[49m\u001b[38;5;241;43m*\u001b[39;49m\u001b[38;5;241;43m*\u001b[39;49m\u001b[43mkwargs\u001b[49m\u001b[43m)\u001b[49m\n\u001b[1;32m     94\u001b[0m \u001b[38;5;28;01mexcept\u001b[39;00m \u001b[38;5;167;01mValueError\u001b[39;00m \u001b[38;5;28;01mas\u001b[39;00m e:\n\u001b[1;32m     95\u001b[0m     \u001b[38;5;66;03m# we want to transform an object array\u001b[39;00m\n\u001b[1;32m     96\u001b[0m     \u001b[38;5;66;03m# ValueError message to the more typical TypeError\u001b[39;00m\n\u001b[1;32m     97\u001b[0m     \u001b[38;5;66;03m# e.g. this is normally a disallowed function on\u001b[39;00m\n\u001b[1;32m     98\u001b[0m     \u001b[38;5;66;03m# object arrays that contain strings\u001b[39;00m\n\u001b[1;32m     99\u001b[0m     \u001b[38;5;28;01mif\u001b[39;00m is_object_dtype(args[\u001b[38;5;241m0\u001b[39m]):\n",
      "File \u001b[0;32m/opt/conda/lib/python3.10/site-packages/pandas/core/nanops.py:155\u001b[0m, in \u001b[0;36mbottleneck_switch.__call__.<locals>.f\u001b[0;34m(values, axis, skipna, **kwds)\u001b[0m\n\u001b[1;32m    153\u001b[0m         result \u001b[38;5;241m=\u001b[39m alt(values, axis\u001b[38;5;241m=\u001b[39maxis, skipna\u001b[38;5;241m=\u001b[39mskipna, \u001b[38;5;241m*\u001b[39m\u001b[38;5;241m*\u001b[39mkwds)\n\u001b[1;32m    154\u001b[0m \u001b[38;5;28;01melse\u001b[39;00m:\n\u001b[0;32m--> 155\u001b[0m     result \u001b[38;5;241m=\u001b[39m \u001b[43malt\u001b[49m\u001b[43m(\u001b[49m\u001b[43mvalues\u001b[49m\u001b[43m,\u001b[49m\u001b[43m \u001b[49m\u001b[43maxis\u001b[49m\u001b[38;5;241;43m=\u001b[39;49m\u001b[43maxis\u001b[49m\u001b[43m,\u001b[49m\u001b[43m \u001b[49m\u001b[43mskipna\u001b[49m\u001b[38;5;241;43m=\u001b[39;49m\u001b[43mskipna\u001b[49m\u001b[43m,\u001b[49m\u001b[43m \u001b[49m\u001b[38;5;241;43m*\u001b[39;49m\u001b[38;5;241;43m*\u001b[39;49m\u001b[43mkwds\u001b[49m\u001b[43m)\u001b[49m\n\u001b[1;32m    157\u001b[0m \u001b[38;5;28;01mreturn\u001b[39;00m result\n",
      "File \u001b[0;32m/opt/conda/lib/python3.10/site-packages/pandas/core/nanops.py:418\u001b[0m, in \u001b[0;36m_datetimelike_compat.<locals>.new_func\u001b[0;34m(values, axis, skipna, mask, **kwargs)\u001b[0m\n\u001b[1;32m    415\u001b[0m \u001b[38;5;28;01mif\u001b[39;00m datetimelike \u001b[38;5;129;01mand\u001b[39;00m mask \u001b[38;5;129;01mis\u001b[39;00m \u001b[38;5;28;01mNone\u001b[39;00m:\n\u001b[1;32m    416\u001b[0m     mask \u001b[38;5;241m=\u001b[39m isna(values)\n\u001b[0;32m--> 418\u001b[0m result \u001b[38;5;241m=\u001b[39m \u001b[43mfunc\u001b[49m\u001b[43m(\u001b[49m\u001b[43mvalues\u001b[49m\u001b[43m,\u001b[49m\u001b[43m \u001b[49m\u001b[43maxis\u001b[49m\u001b[38;5;241;43m=\u001b[39;49m\u001b[43maxis\u001b[49m\u001b[43m,\u001b[49m\u001b[43m \u001b[49m\u001b[43mskipna\u001b[49m\u001b[38;5;241;43m=\u001b[39;49m\u001b[43mskipna\u001b[49m\u001b[43m,\u001b[49m\u001b[43m \u001b[49m\u001b[43mmask\u001b[49m\u001b[38;5;241;43m=\u001b[39;49m\u001b[43mmask\u001b[49m\u001b[43m,\u001b[49m\u001b[43m \u001b[49m\u001b[38;5;241;43m*\u001b[39;49m\u001b[38;5;241;43m*\u001b[39;49m\u001b[43mkwargs\u001b[49m\u001b[43m)\u001b[49m\n\u001b[1;32m    420\u001b[0m \u001b[38;5;28;01mif\u001b[39;00m datetimelike:\n\u001b[1;32m    421\u001b[0m     result \u001b[38;5;241m=\u001b[39m _wrap_results(result, orig_values\u001b[38;5;241m.\u001b[39mdtype, fill_value\u001b[38;5;241m=\u001b[39miNaT)\n",
      "File \u001b[0;32m/opt/conda/lib/python3.10/site-packages/pandas/core/nanops.py:706\u001b[0m, in \u001b[0;36mnanmean\u001b[0;34m(values, axis, skipna, mask)\u001b[0m\n\u001b[1;32m    703\u001b[0m     dtype_count \u001b[38;5;241m=\u001b[39m dtype\n\u001b[1;32m    705\u001b[0m count \u001b[38;5;241m=\u001b[39m _get_counts(values\u001b[38;5;241m.\u001b[39mshape, mask, axis, dtype\u001b[38;5;241m=\u001b[39mdtype_count)\n\u001b[0;32m--> 706\u001b[0m the_sum \u001b[38;5;241m=\u001b[39m _ensure_numeric(\u001b[43mvalues\u001b[49m\u001b[38;5;241;43m.\u001b[39;49m\u001b[43msum\u001b[49m\u001b[43m(\u001b[49m\u001b[43maxis\u001b[49m\u001b[43m,\u001b[49m\u001b[43m \u001b[49m\u001b[43mdtype\u001b[49m\u001b[38;5;241;43m=\u001b[39;49m\u001b[43mdtype_sum\u001b[49m\u001b[43m)\u001b[49m)\n\u001b[1;32m    708\u001b[0m \u001b[38;5;28;01mif\u001b[39;00m axis \u001b[38;5;129;01mis\u001b[39;00m \u001b[38;5;129;01mnot\u001b[39;00m \u001b[38;5;28;01mNone\u001b[39;00m \u001b[38;5;129;01mand\u001b[39;00m \u001b[38;5;28mgetattr\u001b[39m(the_sum, \u001b[38;5;124m\"\u001b[39m\u001b[38;5;124mndim\u001b[39m\u001b[38;5;124m\"\u001b[39m, \u001b[38;5;28;01mFalse\u001b[39;00m):\n\u001b[1;32m    709\u001b[0m     count \u001b[38;5;241m=\u001b[39m cast(np\u001b[38;5;241m.\u001b[39mndarray, count)\n",
      "File \u001b[0;32m/opt/conda/lib/python3.10/site-packages/numpy/core/_methods.py:48\u001b[0m, in \u001b[0;36m_sum\u001b[0;34m(a, axis, dtype, out, keepdims, initial, where)\u001b[0m\n\u001b[1;32m     46\u001b[0m \u001b[38;5;28;01mdef\u001b[39;00m \u001b[38;5;21m_sum\u001b[39m(a, axis\u001b[38;5;241m=\u001b[39m\u001b[38;5;28;01mNone\u001b[39;00m, dtype\u001b[38;5;241m=\u001b[39m\u001b[38;5;28;01mNone\u001b[39;00m, out\u001b[38;5;241m=\u001b[39m\u001b[38;5;28;01mNone\u001b[39;00m, keepdims\u001b[38;5;241m=\u001b[39m\u001b[38;5;28;01mFalse\u001b[39;00m,\n\u001b[1;32m     47\u001b[0m          initial\u001b[38;5;241m=\u001b[39m_NoValue, where\u001b[38;5;241m=\u001b[39m\u001b[38;5;28;01mTrue\u001b[39;00m):\n\u001b[0;32m---> 48\u001b[0m     \u001b[38;5;28;01mreturn\u001b[39;00m \u001b[43mumr_sum\u001b[49m\u001b[43m(\u001b[49m\u001b[43ma\u001b[49m\u001b[43m,\u001b[49m\u001b[43m \u001b[49m\u001b[43maxis\u001b[49m\u001b[43m,\u001b[49m\u001b[43m \u001b[49m\u001b[43mdtype\u001b[49m\u001b[43m,\u001b[49m\u001b[43m \u001b[49m\u001b[43mout\u001b[49m\u001b[43m,\u001b[49m\u001b[43m \u001b[49m\u001b[43mkeepdims\u001b[49m\u001b[43m,\u001b[49m\u001b[43m \u001b[49m\u001b[43minitial\u001b[49m\u001b[43m,\u001b[49m\u001b[43m \u001b[49m\u001b[43mwhere\u001b[49m\u001b[43m)\u001b[49m\n",
      "\u001b[0;31mTypeError\u001b[0m: unsupported operand type(s) for +: 'float' and 'str'"
     ]
    }
   ],
   "source": [
    "df1[\"column_2\"].mean()"
   ]
  },
  {
   "cell_type": "markdown",
   "id": "ca6fb309-c2a4-4a68-83cb-c37f6329de8f",
   "metadata": {},
   "source": [
    "TypeError: unsupported operand type(s) for +: 'float' and 'str'\n",
    "\n",
    "This is generating error because we are trying to calculate mean of numbers and string.\n",
    "\n",
    "Mean/average can be calculated of only numerical values not of mixture of number and string or group of strings"
   ]
  },
  {
   "cell_type": "markdown",
   "id": "7a251716-36c7-4193-b053-39623778adf1",
   "metadata": {},
   "source": [
    "condition 2 :\n",
    "\n",
    "When Column 2 is replaced with string"
   ]
  },
  {
   "cell_type": "code",
   "execution_count": 13,
   "id": "8e9a62b9-8f3a-4e28-9d2d-310e90136a4c",
   "metadata": {},
   "outputs": [
    {
     "data": {
      "text/html": [
       "<div>\n",
       "<style scoped>\n",
       "    .dataframe tbody tr th:only-of-type {\n",
       "        vertical-align: middle;\n",
       "    }\n",
       "\n",
       "    .dataframe tbody tr th {\n",
       "        vertical-align: top;\n",
       "    }\n",
       "\n",
       "    .dataframe thead th {\n",
       "        text-align: right;\n",
       "    }\n",
       "</style>\n",
       "<table border=\"1\" class=\"dataframe\">\n",
       "  <thead>\n",
       "    <tr style=\"text-align: right;\">\n",
       "      <th></th>\n",
       "      <th>column_1</th>\n",
       "      <th>column_2</th>\n",
       "      <th>column_3</th>\n",
       "      <th>column_4</th>\n",
       "      <th>column_5</th>\n",
       "      <th>column_6</th>\n",
       "    </tr>\n",
       "  </thead>\n",
       "  <tbody>\n",
       "    <tr>\n",
       "      <th>1</th>\n",
       "      <td>0.83699</td>\n",
       "      <td>SAKSHI</td>\n",
       "      <td>0.074853</td>\n",
       "      <td>0.827208</td>\n",
       "      <td>0.473896</td>\n",
       "      <td>0.895889</td>\n",
       "    </tr>\n",
       "    <tr>\n",
       "      <th>2</th>\n",
       "      <td>Rajnikant</td>\n",
       "      <td>SAKSHI</td>\n",
       "      <td>Rajnikant</td>\n",
       "      <td>Rajnikant</td>\n",
       "      <td>Rajnikant</td>\n",
       "      <td>Rajnikant</td>\n",
       "    </tr>\n",
       "    <tr>\n",
       "      <th>3</th>\n",
       "      <td>0.042722</td>\n",
       "      <td>SAKSHI</td>\n",
       "      <td>0.826102</td>\n",
       "      <td>0.69754</td>\n",
       "      <td>0.172599</td>\n",
       "      <td>0.468554</td>\n",
       "    </tr>\n",
       "    <tr>\n",
       "      <th>4</th>\n",
       "      <td>0.522485</td>\n",
       "      <td>SAKSHI</td>\n",
       "      <td>0.46094</td>\n",
       "      <td>0.759463</td>\n",
       "      <td>0.621296</td>\n",
       "      <td>0.23185</td>\n",
       "    </tr>\n",
       "    <tr>\n",
       "      <th>5</th>\n",
       "      <td>0.482494</td>\n",
       "      <td>SAKSHI</td>\n",
       "      <td>0.05425</td>\n",
       "      <td>0.866891</td>\n",
       "      <td>0.411232</td>\n",
       "      <td>0.392942</td>\n",
       "    </tr>\n",
       "    <tr>\n",
       "      <th>6</th>\n",
       "      <td>0.884676</td>\n",
       "      <td>SAKSHI</td>\n",
       "      <td>0.960905</td>\n",
       "      <td>0.349692</td>\n",
       "      <td>0.533337</td>\n",
       "      <td>0.767086</td>\n",
       "    </tr>\n",
       "  </tbody>\n",
       "</table>\n",
       "</div>"
      ],
      "text/plain": [
       "    column_1 column_2   column_3   column_4   column_5   column_6\n",
       "1    0.83699   SAKSHI   0.074853   0.827208   0.473896   0.895889\n",
       "2  Rajnikant   SAKSHI  Rajnikant  Rajnikant  Rajnikant  Rajnikant\n",
       "3   0.042722   SAKSHI   0.826102    0.69754   0.172599   0.468554\n",
       "4   0.522485   SAKSHI    0.46094   0.759463   0.621296    0.23185\n",
       "5   0.482494   SAKSHI    0.05425   0.866891   0.411232   0.392942\n",
       "6   0.884676   SAKSHI   0.960905   0.349692   0.533337   0.767086"
      ]
     },
     "execution_count": 13,
     "metadata": {},
     "output_type": "execute_result"
    }
   ],
   "source": [
    "df1['column_2'] = \"SAKSHI\"\n",
    "df1"
   ]
  },
  {
   "cell_type": "markdown",
   "id": "069d324c-4678-49a9-bdcc-168a5970aa85",
   "metadata": {},
   "source": [
    "df1[\"column_2\"].mean()\n",
    "\n",
    "It gives error :\n",
    "\n",
    "Could not convert SAKSHISAKSHISAKSHISAKSHISAKSHISAKSHI to numeric\n",
    "\n",
    "Because to calculate the mean we need numerical data . we cannot determine the mean with string datas.\n",
    "\n",
    "ex: mean(10,20,30,40,50)=30 mean(\"sakshi\",\"sakshi\",\"sakshi\")= invalid\n",
    "\n",
    "Note:\n",
    "\n",
    "We can only find the mean/average of numbers not of words"
   ]
  },
  {
   "cell_type": "markdown",
   "id": "988b8bc9-5b31-4e30-8a0d-dd0971474ebc",
   "metadata": {},
   "source": [
    "Q6. What do you understand about the windows function in pandas and list the types of windows functions?\n",
    "\n",
    "Window functions allow us to perform computations among the values of a specified column.\n",
    "\n",
    "Window functions allow us to perform an operation with a given row’s data and data from another row that is a specified number of rows away — this “number of rows away value” is called the window.\n",
    "\n",
    "Windows function in Pandas can be broadly divided into three categories namely-\n",
    "\n",
    "1. Aggregate\n",
    "\n",
    "2. Ranking, and\n",
    "\n",
    "3. Value."
   ]
  },
  {
   "attachments": {
    "3aeec10a-a9bd-49fc-9047-ecbf43cc030e.JPG": {
     "image/jpeg": "[encoded data removed]"
    }
   },
   "cell_type": "markdown",
   "id": "d75b7837-3de8-494e-8fd8-05784675d22d",
   "metadata": {},
   "source": [
    "![Capture1.JPG](attachment:3aeec10a-a9bd-49fc-9047-ecbf43cc030e.JPG)"
   ]
  },
  {
   "cell_type": "markdown",
   "id": "d36cf38d-cdf6-4dd4-b3f0-ec76ef8f4ba9",
   "metadata": {},
   "source": [
    "Below is the example of window function"
   ]
  },
  {
   "cell_type": "code",
   "execution_count": 16,
   "id": "fd695235-c8c0-469a-9d3b-c7919cb51767",
   "metadata": {},
   "outputs": [
    {
     "data": {
      "text/html": [
       "<div>\n",
       "<style scoped>\n",
       "    .dataframe tbody tr th:only-of-type {\n",
       "        vertical-align: middle;\n",
       "    }\n",
       "\n",
       "    .dataframe tbody tr th {\n",
       "        vertical-align: top;\n",
       "    }\n",
       "\n",
       "    .dataframe thead th {\n",
       "        text-align: right;\n",
       "    }\n",
       "</style>\n",
       "<table border=\"1\" class=\"dataframe\">\n",
       "  <thead>\n",
       "    <tr style=\"text-align: right;\">\n",
       "      <th></th>\n",
       "      <th>a</th>\n",
       "    </tr>\n",
       "  </thead>\n",
       "  <tbody>\n",
       "    <tr>\n",
       "      <th>0</th>\n",
       "      <td>3</td>\n",
       "    </tr>\n",
       "    <tr>\n",
       "      <th>1</th>\n",
       "      <td>4</td>\n",
       "    </tr>\n",
       "    <tr>\n",
       "      <th>2</th>\n",
       "      <td>5</td>\n",
       "    </tr>\n",
       "    <tr>\n",
       "      <th>3</th>\n",
       "      <td>2</td>\n",
       "    </tr>\n",
       "    <tr>\n",
       "      <th>4</th>\n",
       "      <td>1</td>\n",
       "    </tr>\n",
       "    <tr>\n",
       "      <th>5</th>\n",
       "      <td>3</td>\n",
       "    </tr>\n",
       "    <tr>\n",
       "      <th>6</th>\n",
       "      <td>4</td>\n",
       "    </tr>\n",
       "    <tr>\n",
       "      <th>7</th>\n",
       "      <td>5</td>\n",
       "    </tr>\n",
       "    <tr>\n",
       "      <th>8</th>\n",
       "      <td>6</td>\n",
       "    </tr>\n",
       "  </tbody>\n",
       "</table>\n",
       "</div>"
      ],
      "text/plain": [
       "   a\n",
       "0  3\n",
       "1  4\n",
       "2  5\n",
       "3  2\n",
       "4  1\n",
       "5  3\n",
       "6  4\n",
       "7  5\n",
       "8  6"
      ]
     },
     "execution_count": 16,
     "metadata": {},
     "output_type": "execute_result"
    }
   ],
   "source": [
    "df4 = pd.DataFrame({'a' : [3,4,5,2,1,3,4,5,6]})\n",
    "df4"
   ]
  },
  {
   "cell_type": "code",
   "execution_count": 17,
   "id": "eadc6567-f64e-4096-aad3-ce84bf05fd3b",
   "metadata": {},
   "outputs": [
    {
     "data": {
      "text/plain": [
       "0    3.0\n",
       "1    4.0\n",
       "2    5.0\n",
       "3    2.0\n",
       "4    1.0\n",
       "5    3.0\n",
       "6    4.0\n",
       "7    5.0\n",
       "8    6.0\n",
       "Name: a, dtype: float64"
      ]
     },
     "execution_count": 17,
     "metadata": {},
     "output_type": "execute_result"
    }
   ],
   "source": [
    "df4['a'].rolling(window=1).mean()"
   ]
  },
  {
   "cell_type": "code",
   "execution_count": 18,
   "id": "b20cb25c-f612-43ba-9d66-1112cb2e50a7",
   "metadata": {},
   "outputs": [
    {
     "data": {
      "text/plain": [
       "0    NaN\n",
       "1    3.5\n",
       "2    4.5\n",
       "3    3.5\n",
       "4    1.5\n",
       "5    2.0\n",
       "6    3.5\n",
       "7    4.5\n",
       "8    5.5\n",
       "Name: a, dtype: float64"
      ]
     },
     "execution_count": 18,
     "metadata": {},
     "output_type": "execute_result"
    }
   ],
   "source": [
    "df4['a'].rolling(window=2).mean()"
   ]
  },
  {
   "cell_type": "code",
   "execution_count": 19,
   "id": "57f7b621-2095-45b5-9b74-6f59206dbda4",
   "metadata": {},
   "outputs": [
    {
     "data": {
      "text/plain": [
       "0         NaN\n",
       "1         NaN\n",
       "2    4.000000\n",
       "3    3.666667\n",
       "4    2.666667\n",
       "5    2.000000\n",
       "6    2.666667\n",
       "7    4.000000\n",
       "8    5.000000\n",
       "Name: a, dtype: float64"
      ]
     },
     "execution_count": 19,
     "metadata": {},
     "output_type": "execute_result"
    }
   ],
   "source": [
    "df4['a'].rolling(window=3).mean()\n"
   ]
  },
  {
   "cell_type": "code",
   "execution_count": 20,
   "id": "d1fba755-2aab-4230-95ba-d308ef367f34",
   "metadata": {},
   "outputs": [
    {
     "data": {
      "text/plain": [
       "0     NaN\n",
       "1     NaN\n",
       "2     NaN\n",
       "3    3.50\n",
       "4    3.00\n",
       "5    2.75\n",
       "6    2.50\n",
       "7    3.25\n",
       "8    4.50\n",
       "Name: a, dtype: float64"
      ]
     },
     "execution_count": 20,
     "metadata": {},
     "output_type": "execute_result"
    }
   ],
   "source": [
    "df4['a'].rolling(window=4).mean()"
   ]
  },
  {
   "cell_type": "markdown",
   "id": "141fc2a0-8e2c-4cbe-b210-a02158128612",
   "metadata": {},
   "source": [
    "Q7. Write a code to print only the current month and year at the time of answering this question. [Hint: Use pandas.datetime function]"
   ]
  },
  {
   "cell_type": "code",
   "execution_count": 21,
   "id": "7dc40cdc-ec3b-472a-bdcd-a749afa0f0b2",
   "metadata": {},
   "outputs": [
    {
     "name": "stderr",
     "output_type": "stream",
     "text": [
      "/tmp/ipykernel_3606/4136450754.py:1: FutureWarning: The pandas.datetime class is deprecated and will be removed from pandas in a future version. Import from datetime module instead.\n",
      "  df9=pd.datetime.now()\n"
     ]
    }
   ],
   "source": [
    "df9=pd.datetime.now()"
   ]
  },
  {
   "cell_type": "code",
   "execution_count": 22,
   "id": "5874aa1f-6245-45cb-b3af-75068ba93b92",
   "metadata": {},
   "outputs": [
    {
     "name": "stdout",
     "output_type": "stream",
     "text": [
      "2024\n"
     ]
    },
    {
     "data": {
      "text/plain": [
       "2"
      ]
     },
     "execution_count": 22,
     "metadata": {},
     "output_type": "execute_result"
    }
   ],
   "source": [
    "print(df9.year)\n",
    "df9.month"
   ]
  },
  {
   "cell_type": "markdown",
   "id": "8121a55b-103d-4e08-94ee-ffcbcf469a54",
   "metadata": {},
   "source": [
    "Q8. Write a Python program that takes in two dates as input (in the format YYYY-MM-DD) and calculates the difference between them in days, hours, and minutes using Pandas time delta. The program should prompt the user to enter the dates and display the result."
   ]
  },
  {
   "cell_type": "code",
   "execution_count": 23,
   "id": "e5be0e38-4c75-4f0f-83de-a9250d2c8b57",
   "metadata": {},
   "outputs": [
    {
     "name": "stdin",
     "output_type": "stream",
     "text": [
      "Enter the first date (YYYY-MM-DD):  2023-03-15\n",
      "Enter the second date (YYYY-MM-DD):  2023-02-14 \n"
     ]
    },
    {
     "name": "stdout",
     "output_type": "stream",
     "text": [
      "The difference between 2023-03-15 and 2023-02-14 is -29 days, 0 hours, and 0 minutes.\n"
     ]
    }
   ],
   "source": [
    "import pandas as pd\n",
    "\n",
    "date1 = input(\"Enter the first date (YYYY-MM-DD): \")\n",
    "date2 = input(\"Enter the second date (YYYY-MM-DD): \")\n",
    "\n",
    "\n",
    "date1 = pd.to_datetime(date1)\n",
    "date2 = pd.to_datetime(date2)\n",
    "\n",
    "timedelta = date2 - date1\n",
    "\n",
    "\n",
    "days = timedelta.days\n",
    "hours = timedelta.seconds // 3600\n",
    "minutes = (timedelta.seconds // 60) % 60\n",
    "\n",
    "\n",
    "print(f\"The difference between {date1.date()} and {date2.date()} is {days} days, {hours} hours, and {minutes} minutes.\")"
   ]
  },
  {
   "cell_type": "markdown",
   "id": "5fd7748a-54ea-4ec1-8ad9-c91653a3baa7",
   "metadata": {},
   "source": [
    "Q9. Write a Python program that reads a CSV file containing categorical data and converts a specified column to a categorical data type. The program should prompt the user to enter the file path, column name, and category order, and then display the sorted data."
   ]
  },
  {
   "cell_type": "code",
   "execution_count": null,
   "id": "b8f0849c-724e-4dc5-b362-0c667d4818a3",
   "metadata": {},
   "outputs": [],
   "source": [
    "import pandas as pd\n",
    "\n",
    "file_path = input(\"Enter the file path: \")\n",
    "col_name = input(\"Enter the column name: \")\n",
    "cat_order = input(\"Enter the category order, separated by commas: \").split(',')\n",
    "\n",
    "df = pd.read_csv(file_path)\n",
    "\n",
    "\n",
    "df[col_name] = pd.Categorical(df[col_name], categories=cat_order, ordered=True)\n",
    "\n",
    "df_sorted = df.sort_values(by=[col_name])\n",
    "\n",
    "\n",
    "print(df_sorted)\n"
   ]
  },
  {
   "attachments": {
    "1b795631-b1c5-4b8f-a80a-c2fddf620afe.JPG": {
     "image/jpeg": "[encoded data removed]"
    }
   },
   "cell_type": "markdown",
   "id": "3449bf58-fe99-492c-bc5c-dac8519170e4",
   "metadata": {},
   "source": [
    "![Capture4.JPG](attachment:1b795631-b1c5-4b8f-a80a-c2fddf620afe.JPG)"
   ]
  },
  {
   "cell_type": "markdown",
   "id": "a71aed7c-b5fc-4709-bc7e-40c6b019a16e",
   "metadata": {},
   "source": [
    "Q10. Write a Python program that reads a CSV file containing sales data for different products and visualizes the data using a stacked bar chart to show the sales of each product category over time. The program should prompt the user to enter the file path and display the chart."
   ]
  },
  {
   "cell_type": "code",
   "execution_count": null,
   "id": "7da783da-dfec-4526-8574-47b7571264ae",
   "metadata": {},
   "outputs": [],
   "source": [
    "import pandas as pd\n",
    "import matplotlib.pyplot as plt\n",
    "\n",
    "sales_data =pd.read_csv(\"sales.csv\",encoding='latin1')\n",
    "\n",
    "\n",
    "grouped_data = sales_data.groupby(['PRODUCTLINE', 'YEAR_ID'])['SALES'].sum().unstack()\n",
    "\n",
    "grouped_data.plot(kind='bar', stacked=True)\n",
    "\n",
    "plt.title('Sales by Product Category over Time')\n",
    "plt.xlabel('Year')\n",
    "plt.ylabel('Sales')\n",
    "\n",
    "plt.show()"
   ]
  },
  {
   "attachments": {
    "877ec8a7-b5a9-4a19-aa61-c8b9b14f8b44.JPG": {
     "image/jpeg": "[encoded data removed]"
    }
   },
   "cell_type": "markdown",
   "id": "1838d65c-c6fc-4ab9-bc28-058e6eb90c3a",
   "metadata": {},
   "source": [
    "![Capture2.JPG](attachment:877ec8a7-b5a9-4a19-aa61-c8b9b14f8b44.JPG)"
   ]
  },
  {
   "cell_type": "markdown",
   "id": "6fdf2767-73f3-46c4-a4cd-1019b7ef5816",
   "metadata": {},
   "source": [
    "Q11. You are given a CSV file containing student data that includes the student ID and their test score. Write a Python program that reads the CSV file, calculates the mean, median, and mode of the test scores, and displays the results in a table. The program should do the followingM I Prompt the user to enter the file path of the CSV file containing the student dataR I Read the CSV file into a Pandas DataFrameR I Calculate the mean, median, and mode of the test scores using Pandas toolsR I Display the mean, median, and mode in a table. Assume the CSV file contains the following columnsM I Student ID: The ID of the studentR I Test Score: The score of the student's test."
   ]
  },
  {
   "cell_type": "code",
   "execution_count": 2,
   "id": "28a3d019-20e9-4eba-9843-c185c06b22e9",
   "metadata": {},
   "outputs": [
    {
     "data": {
      "text/plain": [
       "{'Student ID': [1, 2, 3, 4, 5, 6, 7, 8, 9, 10],\n",
       " 'Test Score': [85, 90, 80, 75, 85, 82, 78, 85, 90, 85]}"
      ]
     },
     "execution_count": 2,
     "metadata": {},
     "output_type": "execute_result"
    }
   ],
   "source": [
    "data = {\"Student ID\":[1,2,3,4,5,6,7,8,9,10],\n",
    "       \"Test Score\":[85,90,80,75,85,82,78,85,90,85]}\n",
    "data"
   ]
  },
  {
   "cell_type": "code",
   "execution_count": 3,
   "id": "957f6123-fff7-4903-a6bc-2f9612068fcc",
   "metadata": {},
   "outputs": [
    {
     "data": {
      "text/html": [
       "<div>\n",
       "<style scoped>\n",
       "    .dataframe tbody tr th:only-of-type {\n",
       "        vertical-align: middle;\n",
       "    }\n",
       "\n",
       "    .dataframe tbody tr th {\n",
       "        vertical-align: top;\n",
       "    }\n",
       "\n",
       "    .dataframe thead th {\n",
       "        text-align: right;\n",
       "    }\n",
       "</style>\n",
       "<table border=\"1\" class=\"dataframe\">\n",
       "  <thead>\n",
       "    <tr style=\"text-align: right;\">\n",
       "      <th></th>\n",
       "      <th>Student ID</th>\n",
       "      <th>Test Score</th>\n",
       "    </tr>\n",
       "  </thead>\n",
       "  <tbody>\n",
       "    <tr>\n",
       "      <th>0</th>\n",
       "      <td>1</td>\n",
       "      <td>85</td>\n",
       "    </tr>\n",
       "    <tr>\n",
       "      <th>1</th>\n",
       "      <td>2</td>\n",
       "      <td>90</td>\n",
       "    </tr>\n",
       "    <tr>\n",
       "      <th>2</th>\n",
       "      <td>3</td>\n",
       "      <td>80</td>\n",
       "    </tr>\n",
       "    <tr>\n",
       "      <th>3</th>\n",
       "      <td>4</td>\n",
       "      <td>75</td>\n",
       "    </tr>\n",
       "    <tr>\n",
       "      <th>4</th>\n",
       "      <td>5</td>\n",
       "      <td>85</td>\n",
       "    </tr>\n",
       "    <tr>\n",
       "      <th>5</th>\n",
       "      <td>6</td>\n",
       "      <td>82</td>\n",
       "    </tr>\n",
       "    <tr>\n",
       "      <th>6</th>\n",
       "      <td>7</td>\n",
       "      <td>78</td>\n",
       "    </tr>\n",
       "    <tr>\n",
       "      <th>7</th>\n",
       "      <td>8</td>\n",
       "      <td>85</td>\n",
       "    </tr>\n",
       "    <tr>\n",
       "      <th>8</th>\n",
       "      <td>9</td>\n",
       "      <td>90</td>\n",
       "    </tr>\n",
       "    <tr>\n",
       "      <th>9</th>\n",
       "      <td>10</td>\n",
       "      <td>85</td>\n",
       "    </tr>\n",
       "  </tbody>\n",
       "</table>\n",
       "</div>"
      ],
      "text/plain": [
       "   Student ID  Test Score\n",
       "0           1          85\n",
       "1           2          90\n",
       "2           3          80\n",
       "3           4          75\n",
       "4           5          85\n",
       "5           6          82\n",
       "6           7          78\n",
       "7           8          85\n",
       "8           9          90\n",
       "9          10          85"
      ]
     },
     "execution_count": 3,
     "metadata": {},
     "output_type": "execute_result"
    }
   ],
   "source": [
    "data_f=pd.DataFrame(data)\n",
    "data_f"
   ]
  },
  {
   "cell_type": "code",
   "execution_count": 4,
   "id": "9c32e42b-8352-4273-a838-e379024fd965",
   "metadata": {},
   "outputs": [],
   "source": [
    "data_f.to_csv(\"Assignment.csv\")"
   ]
  },
  {
   "cell_type": "code",
   "execution_count": null,
   "id": "d8372a8b-2792-4708-b6b8-1cef86e804fd",
   "metadata": {},
   "outputs": [],
   "source": [
    "file_path=input(\"Enter File Path\")\n",
    "df=pd.read_csv(file_path)"
   ]
  },
  {
   "cell_type": "code",
   "execution_count": null,
   "id": "265f7354-e825-4eb6-8f19-b5044df400a5",
   "metadata": {},
   "outputs": [],
   "source": [
    "mean = df[\"Test Score\"].mean()\n",
    "median = df[\"Test Score\"].median()\n",
    "mode = df[\"Test Score\"].mode()\n",
    "\n",
    "\n",
    "data = {\n",
    "    \"Statistic\": [\"Mean\", \"Median\", \"Mode\"],\n",
    "    \"Value\": [mean, median, \", \".join(str(x) for x in mode)]\n",
    "}\n",
    "table = pd.DataFrame(data)\n",
    "print(table)"
   ]
  },
  {
   "attachments": {
    "814a4b09-ff5b-4e20-9c65-232e2d2cd497.JPG": {
     "image/jpeg": "[encoded data removed]"
    }
   },
   "cell_type": "markdown",
   "id": "d7f3a119-d139-4e74-a0e0-af185b817576",
   "metadata": {},
   "source": [
    "![capture3.JPG](attachment:814a4b09-ff5b-4e20-9c65-232e2d2cd497.JPG)"
   ]
  },
  {
   "cell_type": "code",
   "execution_count": null,
   "id": "52ccc5dd-06f5-44f2-a978-1068ff216680",
   "metadata": {},
   "outputs": [],
   "source": []
  }
 ],
 "metadata": {
  "kernelspec": {
   "display_name": "Python 3 (ipykernel)",
   "language": "python",
   "name": "python3"
  },
  "language_info": {
   "codemirror_mode": {
    "name": "ipython",
    "version": 3
   },
   "file_extension": ".py",
   "mimetype": "text/x-python",
   "name": "python",
   "nbconvert_exporter": "python",
   "pygments_lexer": "ipython3",
   "version": "3.10.8"
  }
 },
 "nbformat": 4,
 "nbformat_minor": 5
}
