{
 "cells": [
  {
   "cell_type": "markdown",
   "id": "68b203f4-8f6c-4a5b-b5a6-4d2defa97f9c",
   "metadata": {},
   "source": [
    "Q1. Pearson correlation coefficient is a measure of the linear relationship between two variables. Suppose you have collected data on the amount of time students spend studying for an exam and their final exam scores. Calculate the Pearson correlation coefficient between these two variables and interpret the result."
   ]
  },
  {
   "cell_type": "code",
   "execution_count": 1,
   "id": "9c9b7441-23b2-4fe0-ba30-d2022247d0c5",
   "metadata": {},
   "outputs": [
    {
     "name": "stdout",
     "output_type": "stream",
     "text": [
      "Pearson Correlation Coefficient: 0.9548401009908489\n"
     ]
    }
   ],
   "source": [
    "import numpy as np\n",
    "\n",
    "# Suppose you have the data for the amount of time spent studying and final exam scores\n",
    "studying_time = [10, 15, 12, 18, 8]\n",
    "exam_scores = [80, 85, 78, 90, 75]\n",
    "\n",
    "# Calculate the Pearson correlation coefficient\n",
    "correlation_coefficient = np.corrcoef(studying_time, exam_scores)[0, 1]\n",
    "\n",
    "print(\"Pearson Correlation Coefficient:\", correlation_coefficient)"
   ]
  },
  {
   "cell_type": "markdown",
   "id": "5b814b55-7755-4c9a-bb75-45c7b7ea8a44",
   "metadata": {},
   "source": [
    "Q2. Spearman's rank correlation is a measure of the monotonic relationship between two variables. Suppose you have collected data on the amount of sleep individuals get each night and their overall job satisfaction level on a scale of 1 to 10. Calculate the Spearman's rank correlation between these two variables and interpret the result."
   ]
  },
  {
   "cell_type": "code",
   "execution_count": 2,
   "id": "ef8bd781-77b3-45b7-a0b0-db2a357d79e4",
   "metadata": {},
   "outputs": [
    {
     "name": "stdout",
     "output_type": "stream",
     "text": [
      "Spearman's Rank Correlation: 0.9710083124552246\n"
     ]
    }
   ],
   "source": [
    "import numpy as np\n",
    "from scipy.stats import spearmanr\n",
    "\n",
    "# Suppose you have the data for the amount of sleep and job satisfaction levels\n",
    "sleep_hours = [7, 6, 8, 5, 7, 6]\n",
    "job_satisfaction = [8, 6, 9, 4, 7, 5]\n",
    "\n",
    "# Calculate the Spearman's rank correlation\n",
    "rank_correlation, _ = spearmanr(sleep_hours, job_satisfaction)\n",
    "\n",
    "print(\"Spearman's Rank Correlation:\", rank_correlation)"
   ]
  },
  {
   "cell_type": "markdown",
   "id": "9730e024-b790-4a1e-8607-d5694c18a05e",
   "metadata": {},
   "source": [
    "Q3. Suppose you are conducting a study to examine the relationship between the number of hours of exercise per week and body mass index (BMI) in a sample of adults. You collected data on both variables for 50 participants. Calculate the Pearson correlation coefficient and the Spearman's rank correlation between these two variables and compare the results."
   ]
  },
  {
   "cell_type": "code",
   "execution_count": 3,
   "id": "d033462d-bb4a-4b1a-8c73-39059c7d7486",
   "metadata": {},
   "outputs": [
    {
     "name": "stdout",
     "output_type": "stream",
     "text": [
      "Pearson Correlation Coefficient: 0.2307713759737005\n",
      "Spearman's Rank Correlation: 0.21062530473854577\n"
     ]
    }
   ],
   "source": [
    "import numpy as np\n",
    "from scipy.stats import pearsonr, spearmanr\n",
    "\n",
    "# Another example of data for hours of exercise and BMI for 50 participants\n",
    "hours_of_exercise = [4, 5, 2, 6, 3, 4, 5, 2, 1, 4, 3, 2, 6, 5, 4, 3, 2, 1, 7, 5,\n",
    "                     6, 3, 4, 5, 6, 2, 3, 4, 5, 3, 4, 1, 2, 6, 5, 4, 3, 2, 1, 5,\n",
    "                     4, 3, 2, 6, 5, 4, 3, 2, 1, 3]\n",
    "\n",
    "bmi = [22, 23, 24, 21, 22, 25, 20, 22, 23, 21, 20, 24, 25, 22, 23, 24, 21, 20, 25, 22,\n",
    "       23, 24, 21, 22, 25, 20, 22, 23, 21, 20, 24, 25, 22, 23, 24, 21, 20, 25, 22, 23,\n",
    "       24, 21, 22, 25, 20, 22, 23, 21, 20, 24]\n",
    "\n",
    "# Check if the data has the same length\n",
    "if len(hours_of_exercise) == len(bmi):\n",
    "    # Calculate the Pearson correlation coefficient\n",
    "    pearson_corr_coefficient, _ = pearsonr(hours_of_exercise, bmi)\n",
    "\n",
    "    # Calculate the Spearman's rank correlation\n",
    "    spearman_corr_coefficient, _ = spearmanr(hours_of_exercise, bmi)\n",
    "\n",
    "    print(\"Pearson Correlation Coefficient:\", pearson_corr_coefficient)\n",
    "    print(\"Spearman's Rank Correlation:\", spearman_corr_coefficient)\n",
    "else:\n",
    "    print(\"Error: The data for 'hours_of_exercise' and 'bmi' must have the same length.\")"
   ]
  },
  {
   "cell_type": "markdown",
   "id": "c2fd3cc7-cfd5-41d2-b70b-945d36d6cd25",
   "metadata": {},
   "source": [
    "Q4. A researcher is interested in examining the relationship between the number of hours individuals spend watching television per day and their level of physical activity. The researcher collected data on both variables from a sample of 50 participants. Calculate the Pearson correlation coefficient between these two variables."
   ]
  },
  {
   "cell_type": "code",
   "execution_count": 4,
   "id": "0589e138-ac3d-4951-aa50-0d0b98d74e35",
   "metadata": {},
   "outputs": [
    {
     "name": "stdout",
     "output_type": "stream",
     "text": [
      "Pearson Correlation Coefficient: -1.0\n"
     ]
    }
   ],
   "source": [
    "import numpy as np\n",
    "from scipy.stats import pearsonr\n",
    "\n",
    "# Suppose you have the data for hours of TV watching and level of physical activity for 50 participants\n",
    "tv_hours = [3, 2, 4, 5, 1, 2, 3, 2, 4, 1, 2, 3, 2, 5, 1, 3, 4, 2, 1, 5,\n",
    "            4, 3, 2, 2, 1, 3, 4, 2, 3, 2, 1, 2, 4, 5, 1, 3, 2, 4, 1, 2,\n",
    "            3, 5, 2, 1, 2, 3, 2, 1, 4, 2, 3]\n",
    "\n",
    "physical_activity = [5, 6, 4, 3, 7, 6, 5, 6, 4, 7, 6, 5, 6, 3, 7, 5, 4, 6, 7, 3,\n",
    "                     4, 5, 6, 6, 7, 5, 4, 6, 5, 6, 7, 6, 4, 3, 7, 5, 6, 4, 7, 6,\n",
    "                     5, 3, 6, 7, 6, 5, 6, 7, 4, 6, 5]\n",
    "\n",
    "# Check if the data has the same length\n",
    "if len(tv_hours) == len(physical_activity):\n",
    "    # Calculate the Pearson correlation coefficient\n",
    "    corr_coefficient, _ = pearsonr(tv_hours, physical_activity)\n",
    "\n",
    "    print(\"Pearson Correlation Coefficient:\", corr_coefficient)\n",
    "else:\n",
    "    print(\"Error: The data for 'tv_hours' and 'physical_activity' must have the same length.\")"
   ]
  },
  {
   "cell_type": "markdown",
   "id": "606df6ed-0b7b-4bf3-b8c4-1511800ec7aa",
   "metadata": {},
   "source": [
    "Q5. A survey was conducted to examine the relationship between age and preference for a particular brand of soft drink. The survey results are shown below: Age(Years) & Soft drink Preference 25 42 37 19 31 28 Coke Pepsi Mountain dew Coke Pepsi Coke\n",
    "\n",
    "The survey aimed to investigate the connection between age and the preference for a specific brand of soft drink. Below are the recorded data:\n",
    "\n",
    "1. Age (Years): 25, Soft drink Preference: Coke\n",
    "\n",
    "2. Age (Years): 42, Soft drink Preference: Pepsi\n",
    "\n",
    "3. Age (Years): 37, Soft drink Preference: Mountain Dew\n",
    "\n",
    "4. Age (Years): 19, Soft drink Preference: Coke\n",
    "\n",
    "5. Age (Years): 31, Soft drink Preference: Pepsi\n",
    "\n",
    "6. Age (Years): 28, Soft drink Preference: Coke\n",
    "\n",
    "As per the survey results, individuals of different ages showed varying preferences for soft drink brands. The majority of respondents preferred Coke (3 out of 6), while Pepsi was the second most favored brand (2 out of 6). Mountain Dew was the least preferred, with only one person selecting it."
   ]
  },
  {
   "cell_type": "markdown",
   "id": "2bbfa265-86a5-4142-9c15-1ef55e8195f5",
   "metadata": {},
   "source": [
    "Q6. A company is interested in examining the relationship between the number of sales calls made per day and the number of sales made per week. The company collected data on both variables from a sample of 30 sales representatives. Calculate the Pearson correlation coefficient between these two variables."
   ]
  },
  {
   "cell_type": "code",
   "execution_count": 5,
   "id": "4a2cc3fa-c2bb-41d3-8905-61adccf367bb",
   "metadata": {},
   "outputs": [
    {
     "name": "stdout",
     "output_type": "stream",
     "text": [
      "Pearson correlation coefficient: 0.9388743444899449\n"
     ]
    }
   ],
   "source": [
    "import numpy as np\n",
    "\n",
    "# Sample data (replace this with your actual data, 30 data points each)\n",
    "sales_calls_per_day = [25, 42, 37, 19, 31, 28, 30, 22, 29, 36, 20, 27, 33, 24, 35, 23, 26, 34, 32, 21, 40, 39, 38, 41, 43, 44, 45, 46, 47, 48]\n",
    "sales_per_week = [4, 8, 6, 3, 5, 4, 5, 3, 6, 8, 3, 5, 7, 4, 9, 3, 6, 8, 7, 2, 10, 9, 8, 11, 12, 13, 14, 15, 16, 17]\n",
    "\n",
    "# Calculate the Pearson correlation coefficient\n",
    "correlation_coefficient = np.corrcoef(sales_calls_per_day, sales_per_week)[0, 1]\n",
    "\n",
    "print(\"Pearson correlation coefficient:\", correlation_coefficient)"
   ]
  },
  {
   "cell_type": "code",
   "execution_count": null,
   "id": "6190779f-fa05-41e6-991c-7c6f1487ed5c",
   "metadata": {},
   "outputs": [],
   "source": []
  }
 ],
 "metadata": {
  "kernelspec": {
   "display_name": "Python 3 (ipykernel)",
   "language": "python",
   "name": "python3"
  },
  "language_info": {
   "codemirror_mode": {
    "name": "ipython",
    "version": 3
   },
   "file_extension": ".py",
   "mimetype": "text/x-python",
   "name": "python",
   "nbconvert_exporter": "python",
   "pygments_lexer": "ipython3",
   "version": "3.10.8"
  }
 },
 "nbformat": 4,
 "nbformat_minor": 5
}
