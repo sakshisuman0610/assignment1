{
 "cells": [
  {
   "cell_type": "markdown",
   "id": "fe4981d4-be8b-49ec-a6a5-f689aaec959f",
   "metadata": {},
   "source": [
    "Q1. What is a database? Differentiate between SQL and NoSQL databases."
   ]
  },
  {
   "cell_type": "markdown",
   "id": "f881d72d-4dc7-48b1-87f5-4d99fbc0dfac",
   "metadata": {},
   "source": [
    "Python being a high-level language provides support for various databases. We can connect and run queries for a particular database using Python and without writing raw queries in the terminal or shell of that particular database, we just need to have that database installed in our system."
   ]
  },
  {
   "cell_type": "markdown",
   "id": "e5d9f133-7831-4144-8afd-31eca6c3685a",
   "metadata": {},
   "source": [
    "Type – \n",
    "\n",
    "SQL databases are primarily called as Relational Databases (RDBMS); whereas NoSQL database are primarily called as non-relational or distributed \n",
    "\n",
    "database. \n",
    "\n",
    "Language – \n",
    "\n",
    "SQL databases defines and manipulates data based structured query language (SQL). Seeing from a side this language is extremely powerful. SQL is one \n",
    "\n",
    "of the most versatile and widely-used options available which makes it a safe choice especially for great complex queries. But from other side it can \n",
    "\n",
    "be restrictive. SQL requires you to use predefined schemas to determine the structure of your data before you work with it. Also all of your data must \n",
    "\n",
    "follow the same structure. This can require significant up-front preparation which means that a change in the structure would be both difficult and \n",
    "\n",
    "disruptive to your whole system. \n",
    "\n",
    "A NoSQL database has dynamic schema for unstructured data. Data is stored in many ways which means it can be document-oriented, column-oriented, \n",
    "\n",
    "graph-based or organized as a KeyValue store. This flexibility means that documents can be created without having defined structure first. Also each \n",
    "\n",
    "document can have its own unique structure. The syntax varies from database to database, and you can add fields as you go. \n",
    "\n",
    "Scalability – \n",
    "\n",
    "In almost all situations SQL databases are vertically scalable. This means that you can increase the load on a single server by increasing things like \n",
    "\n",
    "RAM, CPU or SSD. But on the other hand NoSQL databases are horizontally scalable. This means that you handle more traffic by sharding, or adding more \n",
    "\n",
    "servers in your NoSQL database. It is similar to adding more floors to the same building versus adding more buildings to the neighborhood. Thus NoSQL \n",
    "\n",
    "can ultimately become larger and more powerful, making these databases the preferred choice for large or ever-changing data sets.\n",
    "\n",
    "Structure – \n",
    "\n",
    "SQL databases are table-based on the other hand NoSQL databases are either key-value pairs, document-based, graph databases or wide-column stores. \n",
    "\n",
    "This makes relational SQL databases a better option for applications that require multi-row transactions such as an accounting system or for legacy \n",
    "\n",
    "systems that were built for a relational structure. \n",
    "\n",
    "Property followed – \n",
    "\n",
    "SQL databases follow ACID properties (Atomicity, Consistency, Isolation and Durability) whereas the NoSQL database follows the Brewers CAP theorem \n",
    "\n",
    "(Consistency, Availability and Partition tolerance). \n",
    "\n",
    "Support – \n",
    "\n",
    "Great support is available for all SQL database from their vendors. Also a lot of independent consultations are there who can help you with SQL \n",
    "\n",
    "database for a very large scale deployments but for some NoSQL database you still have to rely on community support and only limited outside experts \n",
    "\n",
    "are available for setting up and deploying your large scale NoSQL deployments. \n",
    " "
   ]
  },
  {
   "cell_type": "markdown",
   "id": "9af6e2fc-b415-47ca-b3c5-dc440cddb021",
   "metadata": {},
   "source": [
    "Q2. What is DDL? Explain why CREATE, DROP, ALTER, and TRUNCATE are used with an example."
   ]
  },
  {
   "cell_type": "markdown",
   "id": "af4250c1-9725-4911-bb78-c24201f83191",
   "metadata": {},
   "source": [
    "Data Definition Language(DDL) is a subset of SQL and a part of DBMS(Database Management System). DDL consist of Commands to commands like CREATE, ALTER, TRUNCATE and DROP. These commands are used to create or modify the tables in SQL.\n",
    "\n",
    "DDL Commands :\n",
    "\n",
    "a) Create\n",
    "\n",
    "b) Alter \n",
    "\n",
    "c) truncate\n",
    "\n",
    "d) drop"
   ]
  },
  {
   "cell_type": "markdown",
   "id": "73d47917-279f-4910-bf4d-5c930c32aea3",
   "metadata": {},
   "source": [
    "a) CREATE :\n",
    " \n",
    " This command is used to create a new table in SQL. The user has to give information like table name, column names, and their datatypes.\n",
    " \n",
    " EXAMPLE :-"
   ]
  },
  {
   "cell_type": "code",
   "execution_count": null,
   "id": "45bca6a8-ecfb-4dce-b403-f973d8d12f31",
   "metadata": {},
   "outputs": [],
   "source": [
    "CREATE TABLE Student_info\n",
    "(\n",
    "College_Id number(2),\n",
    "College_name varchar(30),\n",
    "Branch varchar(10)\n",
    ");"
   ]
  },
  {
   "cell_type": "markdown",
   "id": "8403b09a-1d45-433e-86e0-353c2f1d9138",
   "metadata": {},
   "source": [
    "b) ALTER :\n",
    "  \n",
    "  This command is used to add, delete or change columns in the existing table. The user needs to know the existing table name and can do add, delete      \n",
    "  or modify tasks easily.\n",
    "  \n",
    "  EXAMPLE :-"
   ]
  },
  {
   "cell_type": "code",
   "execution_count": null,
   "id": "129ba208-e2cd-48d7-a1b7-1597769aa9b9",
   "metadata": {},
   "outputs": [],
   "source": [
    "ALTER TABLE Student_info\n",
    "ADD CGPA number;"
   ]
  },
  {
   "cell_type": "markdown",
   "id": "3d698992-363d-4fd0-9410-e31000d6c257",
   "metadata": {},
   "source": [
    "c) TRUNCATE :\n",
    "\n",
    "   This command is used to remove all rows from the table, but the structure of the table still exists.\n",
    "   \n",
    "   EXAMPLE :-"
   ]
  },
  {
   "cell_type": "code",
   "execution_count": null,
   "id": "35221b90-88f1-405b-9344-ac0cd715b550",
   "metadata": {},
   "outputs": [],
   "source": [
    "TRUNCATE TABLE Student_info;"
   ]
  },
  {
   "cell_type": "markdown",
   "id": "9179bd38-969d-4bb6-9f25-f969533eee10",
   "metadata": {},
   "source": [
    "d) DROP :\n",
    "   \n",
    "   This command is used to remove an existing table along with its structure from the Database.\n",
    "   \n",
    "   EXAMPLE :-"
   ]
  },
  {
   "cell_type": "code",
   "execution_count": null,
   "id": "0fa8e6cf-5959-47a9-b3b7-3bf56143e772",
   "metadata": {},
   "outputs": [],
   "source": [
    "DROP TABLE Student_info;"
   ]
  },
  {
   "cell_type": "markdown",
   "id": "eb525dd9-a3e2-44ab-be3d-ef2f820d0566",
   "metadata": {},
   "source": [
    "Q3. What is DML? Explain INSERT, UPDATE, and DELETE with an example."
   ]
  },
  {
   "cell_type": "markdown",
   "id": "c85573a3-b0eb-443f-81df-c0842d49a09d",
   "metadata": {},
   "source": [
    "DML stands for Data Manipulation Language. Tables and formulas are helpful when communicating with data stored up to a point in a database through SQL, but a time comes when we actually want to execute some fairly complicated data interactions. We will also need the Data Manipulation Language in that situation. DML is a way to inform a database precisely what we want it to do by conversing in a manner that it has been built to comprehend from the scratch. When it comes to interacting within existing data, whether adding, moving, or deleting data, it provides a convenient way to do so.\n",
    "\n",
    "The Database Management System offers a framework of functions or dialects to modify or alter the data, called the Data Manipulation Language. Data manipulation could be done perhaps by typing SQL queries or by using, a typically called Query-by-Example (QBE) graphical interface. These declarations are used to modify the data found in the tables. These declarations are going to work on results. There is no relation with the structure of the tables for these statements. Data manipulation includes introducing data into tables, altering the table’s data and deleting the data from the table.\n",
    "\n",
    "Transaction control is required for the DML statements. Any modification that a DML statement makes to the database will be called as a transaction. Any adjustment made by DML statement must therefore, be controlled by TCL statements (Transaction Control Language). DML is a subset of SQL statements which alter the information stored in tables. As, it mainly concentrates on database performance, as well as it utilizes HDFS (Hadoop Distributed File System) storage’s append-only nature."
   ]
  },
  {
   "cell_type": "markdown",
   "id": "37356fec-3d22-4c9e-a73a-2e9156776361",
   "metadata": {},
   "source": [
    "a) INSERT Command :–\n",
    "    \n",
    "   This command is used to enter the information or values into a row. We can connect one or more records to a single table within a repository using     \n",
    "    this instruction. This is often used to connect an unused tag to the documents.\n",
    "    \n",
    "EXAMPLE :-"
   ]
  },
  {
   "cell_type": "code",
   "execution_count": null,
   "id": "d0649e12-e823-4538-a51d-4c2d4e856a7f",
   "metadata": {},
   "outputs": [],
   "source": [
    "INSERT INTO students ('stu_id' int, 'stu_name' varchar(20), 'city' varchar(20))\n",
    "\n",
    "VALUES ('1', 'Nirmit', 'Gorakhpur'); "
   ]
  },
  {
   "cell_type": "markdown",
   "id": "501bb74c-abf3-49a8-83ca-c8edc61af767",
   "metadata": {},
   "source": [
    "b) UPDATE Command –\n",
    "  \n",
    "  This command is used to alter existing table records. Within a table, it modifies data from one or more records. This command is used to alter the      \n",
    "  data which is already present in a table.\n",
    "  \n",
    "  EXAMPLE :-"
   ]
  },
  {
   "cell_type": "code",
   "execution_count": null,
   "id": "804a099e-92b3-4161-aba5-c7aed724ce69",
   "metadata": {},
   "outputs": [],
   "source": [
    "UPDATE students\n",
    "\n",
    "SET due_fees = 20000\n",
    "\n",
    "WHERE stu_name = 'Mini'; "
   ]
  },
  {
   "cell_type": "markdown",
   "id": "5d6ce9b0-738e-4445-a4e5-2a2ef76ea44f",
   "metadata": {},
   "source": [
    "c) DELETE Command –\n",
    "  \n",
    "  It deletes all archives from a table. This command is used to erase some or all of the previous table’s records. If we do not specify the ‘WHERE’      \n",
    "  condition then all the rows would be erased or deleted.\n",
    "  \n",
    "  EXAMPLE :-"
   ]
  },
  {
   "cell_type": "code",
   "execution_count": null,
   "id": "24ee6724-1564-4510-b93c-55d3428e5896",
   "metadata": {},
   "outputs": [],
   "source": [
    "DELETE FROM students\n",
    "\n",
    "WHERE stu_id = '001'; "
   ]
  },
  {
   "cell_type": "markdown",
   "id": "f368699e-9c0e-43a7-b298-340237bcaaaa",
   "metadata": {},
   "source": [
    "Q4. What is DQL? Explain SELECT with an example."
   ]
  },
  {
   "cell_type": "markdown",
   "id": "a1f2db98-5ed7-41cb-9935-3ca86e429db7",
   "metadata": {},
   "source": [
    "DQL statements are used for performing queries on the data within schema objects. The purpose of the DQL Command is to get some schema relation based \n",
    "\n",
    "on the query passed to it. We can define DQL as follows it is a component of SQL statement that allows getting data from the database and imposing \n",
    "\n",
    "order upon it. It includes the SELECT statement. This command allows getting the data out of the database to perform operations with it. When a SELECT \n",
    "\n",
    "is fired against a table or tables the result is compiled into a further temporary table, which is displayed or perhaps received by the program i.e. a \n",
    "\n",
    "front-end.\n",
    "\n",
    "List of DQL: \n",
    "\n",
    "a) SELECT: It is used to retrieve data from the database."
   ]
  },
  {
   "cell_type": "markdown",
   "id": "f2617cdf-5cfb-46fb-bf52-b179e631ac74",
   "metadata": {},
   "source": [
    "Select is the most commonly used statement in SQL. The SELECT Statement in SQL is used to retrieve or fetch data from a database. We can fetch either \n",
    "\n",
    "the entire table or according to some specified rules. The data returned is stored in a result table. This result table is also called the result set. \n",
    "\n",
    "With the SELECT clause of a SELECT command statement, we specify the columns that we want to be displayed in the query result and, optionally, which \n",
    "\n",
    "column headings we prefer to see above the result table. The select clause is the first clause and is one of the last clauses of the select statement \n",
    "\n",
    "that the database server evaluates. The reason for this is that before we can determine what to include in the final result set, we need to know all \n",
    "\n",
    "of the possible columns that could be included in the final result set. \n",
    "\n",
    "EXAMPLE :-"
   ]
  },
  {
   "cell_type": "code",
   "execution_count": null,
   "id": "bb5f6ae1-8b9b-4e42-b9a9-21e310afb51e",
   "metadata": {},
   "outputs": [],
   "source": [
    "SELECT ROLL_NO, NAME, AGE FROM Student;"
   ]
  },
  {
   "cell_type": "code",
   "execution_count": null,
   "id": "75c50b30-1fc2-4f2e-a49c-4f031483086a",
   "metadata": {},
   "outputs": [],
   "source": [
    " SELECT * FROM Student;"
   ]
  },
  {
   "cell_type": "markdown",
   "id": "56826169-16d3-465f-a435-33414f97b393",
   "metadata": {},
   "source": [
    "Q5. Explain Primary Key and Foreign Key."
   ]
  },
  {
   "cell_type": "markdown",
   "id": "3adad60b-1d1d-4654-a1f5-3cb6b52fef18",
   "metadata": {},
   "source": [
    "Primary Key: A primary key is used to ensure that data in the specific column is unique. A column cannot have NULL values. It is either an existing \n",
    "\n",
    "table column or a column that is specifically generated by the database according to a defined sequence. \n",
    "\n",
    "Example:– \n",
    "\n",
    "STUD_NO, as well as STUD_PHONE both, are candidate keys for relation STUDENT but STUD_NO can be chosen as the primary key (only one out of many \n",
    "\n",
    "candidate keys). \n",
    "\n",
    "Foreign Key: \n",
    "\n",
    "A foreign key is a column or group of columns in a relational database table that provides a link between data in two tables. It is a column (or \n",
    "\n",
    "columns) that references a column (most often the primary key) of another table. \n",
    "\n",
    "Example:– \n",
    "\n",
    "STUD_NO in STUDENT_COURSE is a foreign key to STUD_NO in STUDENT relation. "
   ]
  },
  {
   "cell_type": "markdown",
   "id": "aec77217-36f0-4123-8bcc-8b86a22f648e",
   "metadata": {},
   "source": [
    "Q6. Write a python code to connect MySQL to python. Explain the cursor() and execute() method."
   ]
  },
  {
   "cell_type": "code",
   "execution_count": null,
   "id": "ef1a1554-69c6-43ce-ad4b-98ec638c4a00",
   "metadata": {},
   "outputs": [],
   "source": [
    "import mysql.connector\n",
    " \n",
    "mydb = mysql.connector.connect(\n",
    "  host=\"localhost\",\n",
    "  user=\"abc\",\n",
    "  password=\"password\"\n",
    ")\n",
    "print(mydb)\n",
    "mycursor = mydb.cursor()\n",
    "mycursor.execute(\"SHOW DATABASES\")\n",
    "for x in mycursor:\n",
    "    print(x)"
   ]
  },
  {
   "cell_type": "markdown",
   "id": "d91a8370-fe1a-499a-9b6a-06679ef67566",
   "metadata": {},
   "source": [
    "CURSOR :-\n",
    "\n",
    "Cursor is a Temporary Memory or Temporary Work Station. It is Allocated by Database Server at the Time of Performing DML(Data Manipulation Language) operations on Table by User. Cursors are used to store Database Tables. \n",
    "\n",
    "There are 2 types of Cursors: Implicit Cursors, and Explicit Cursors.\n",
    "\n",
    "i) Implicit Cursors:\n",
    "\n",
    "   Implicit Cursors are also known as Default Cursors of SQL SERVER. These Cursors are allocated by SQL SERVER when the user performs DML operations.\n",
    "\n",
    "ii) Explicit Cursors :\n",
    "\n",
    "   Explicit Cursors are Created by Users whenever the user requires them. Explicit Cursors are used for Fetching data from Table in Row-By-Row Manner.\n",
    "\n",
    "How to create Explicit Cursor:\n",
    "\n",
    "a) Declare Cursor Object.\n",
    "\n",
    "b) Open Cursor Connection.\n",
    "\n",
    "c) Fetch data from cursor.\n",
    "\n",
    "d) Close cursor connection.\n",
    "\n",
    "e) Deallocate cursor memory."
   ]
  },
  {
   "cell_type": "markdown",
   "id": "43ae25fd-ffae-4d4e-ad94-440f969dfe6c",
   "metadata": {},
   "source": [
    "EXECUTE :-"
   ]
  },
  {
   "cell_type": "markdown",
   "id": "671c6b5d-2709-40c9-80f2-4a6b2b7b19ea",
   "metadata": {},
   "source": [
    "This method executes the given database operation (query or command). The parameters found in the tuple or dictionary params are bound to the \n",
    "\n",
    "variables in the operation. Specify variables using %s or %(name)s parameter style (that is, using format or pyformat style). execute() returns an \n",
    "\n",
    "iterator if multi is True.\n",
    "\n",
    "\n",
    "If multi is set to True, execute() is able to execute multiple statements specified in the operation string. It returns an iterator that enables \n",
    "\n",
    "processing the result of each statement. However, using parameters does not work well in this case, and it is usually a good idea to execute each \n",
    "\n",
    "statement on its own."
   ]
  },
  {
   "cell_type": "markdown",
   "id": "b53e9c25-b99e-4d87-8bb1-e46091aed461",
   "metadata": {},
   "source": [
    "The execute () method helps us to execute the query and return records according to the query. "
   ]
  },
  {
   "cell_type": "markdown",
   "id": "2543acd0-ebf6-4ecd-8928-50e03c41fd03",
   "metadata": {},
   "source": [
    "Q7. Give the order of execution of SQL clauses in an SQL query."
   ]
  },
  {
   "cell_type": "markdown",
   "id": "3c9128d1-8532-4cf9-aeb6-d02fd419773a",
   "metadata": {},
   "source": [
    "The order in which the clauses in queries are executed is as follows :-\n",
    "\n",
    "a) FROM/JOIN: The FROM and/or JOIN clauses are executed first to determine the data of interest.\n",
    "\n",
    "b) WHERE: The WHERE clause is executed to filter out records that do not meet the constraints.\n",
    "\n",
    "c) GROUP BY: The GROUP BY clause is executed to group the data based on the values in one or more columns.\n",
    "\n",
    "d) HAVING: The HAVING clause is executed to remove the created grouped records that don’t meet the constraints.\n",
    "\n",
    "e) SELECT: The SELECT clause is executed to derive all desired columns and expressions.\n",
    "\n",
    "f) ORDER BY: The ORDER BY clause is executed to sort the derived values in ascending or descending order.\n",
    "\n",
    "g) LIMIT/OFFSET: Finally, the LIMIT and/or OFFSET clauses are executed to keep or skip a specified number of rows.\n"
   ]
  }
 ],
 "metadata": {
  "kernelspec": {
   "display_name": "Python 3 (ipykernel)",
   "language": "python",
   "name": "python3"
  },
  "language_info": {
   "codemirror_mode": {
    "name": "ipython",
    "version": 3
   },
   "file_extension": ".py",
   "mimetype": "text/x-python",
   "name": "python",
   "nbconvert_exporter": "python",
   "pygments_lexer": "ipython3",
   "version": "3.10.8"
  }
 },
 "nbformat": 4,
 "nbformat_minor": 5
}
