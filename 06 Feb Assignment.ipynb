{
 "cells": [
  {
   "cell_type": "markdown",
   "id": "a965878f-72b9-457a-979b-23e805a31296",
   "metadata": {},
   "source": [
    "Q1. Create a function which will take a list as an argument and return the product of all the numbers\n",
    "after creating a flat list.\n",
    "Use the below-given list as an argument for your function.\n",
    "\n",
    "list1 = [1,2,3,4, [44,55,66, True], False, (34,56,78,89,34), {1,2,3,3,2,1}, {1:34, \"key2\": [55, 67, 78, 89], 4: (45,\n",
    "22, 61, 34)}, [56, 'data science'], 'Machine Learning']"
   ]
  },
  {
   "cell_type": "code",
   "execution_count": 62,
   "id": "dc9ae515-9b2c-4b61-a75e-adffaa8310e9",
   "metadata": {},
   "outputs": [
    {
     "name": "stdout",
     "output_type": "stream",
     "text": [
      "4134711838987085478833841242112000\n"
     ]
    }
   ],
   "source": [
    "def product_of_numbers(list1):\n",
    "    l = []\n",
    "    for i in list1:\n",
    "        if type(i) == int:\n",
    "            l.append(i)\n",
    "        elif type(i) == float:\n",
    "            l.append(i)\n",
    "        elif type(i) == tuple:\n",
    "            l.extend(list(i))\n",
    "        elif type(i) == list:\n",
    "            l.extend(i)\n",
    "        elif type(i) == set:\n",
    "            l.extend(list(i))\n",
    "        elif type(i) == dict:\n",
    "            for key, value in i.items():\n",
    "                if type(key) == int or type(key) == float:\n",
    "                    l.append(key)\n",
    "                if type(value) == int or type(value) == float:\n",
    "                    l.append(value)\n",
    "                if type(value) == list:\n",
    "                    l.extend(value)\n",
    "                if type(value) == tuple:\n",
    "                    l.extend(list(value))\n",
    "    product = 1\n",
    "    for num in l:\n",
    "        if type(num) == int or type(num) == float:\n",
    "            product *= num\n",
    "    return product\n",
    "\n",
    "list1 = [1, 2, 3, 4, [44, 55, 66, True], False, (34, 56, 78, 89, 34), {1, 2, 3, 3, 2, 1}, {1: 34, \"key2\": [55, 67, 78, 89], 4: (45, 22, 61, 34)}, [56, 'data science'], 'Machine Learning']\n",
    "print(product_of_numbers(list1))"
   ]
  },
  {
   "cell_type": "markdown",
   "id": "d57c7002-72dc-46ba-be27-6c980123001a",
   "metadata": {},
   "source": [
    "Q2. Write a python program for encrypting a message sent to you by your friend. The logic of encryption\n",
    "should be such that, for a the output should be z. For b, the output should be y. For c, the output should\n",
    "be x respectively. Also, the whitespace should be replaced with a dollar sign. Keep the punctuation\n",
    "marks unchanged.\n",
    "\n",
    "Input Sentence: I want to become a Data Scientist.\n",
    "\n",
    "Encrypt the above input sentence using the program you just created."
   ]
  },
  {
   "cell_type": "code",
   "execution_count": 61,
   "id": "76c641d5-9006-49f1-a0aa-44d5389aea3e",
   "metadata": {},
   "outputs": [
    {
     "name": "stdout",
     "output_type": "stream",
     "text": [
      "r$dzmg$gl$yvxlnv$z$wzgz$hxrvmgrhg.\n"
     ]
    }
   ],
   "source": [
    "s=\"I want to become a Data Scientist.\"\n",
    "s1=s.lower()\n",
    "def encryption(n):\n",
    "    l1={\".\":\".\",\" \":\"$\",\"a\":\"z\",\"b\":\"y\",\"c\":\"x\",\"d\":\"w\",\"e\":\"v\",\"f\":\"u\",\"g\":\"t\",\"h\":\n",
    "        \"s\",\"i\":\"r\",\"j\":\"q\",\"k\":\"p\",\"l\":\"o\",\"m\":\"n\",\"n\":\"m\",\"o\":\"l\",\"p\":\"k\",\"q\":\"j\",\"r\":\n",
    "        \"i\",\"s\":\"h\",\"t\":\"g\",\"u\":\"f\",\"v\":\"e\",\"w\":\"d\",\"x\":\"c\",\"y\":\"b\",\"z\":\"a\"}\n",
    "    new=[]\n",
    "    for i in n:\n",
    "        for k,v in l1.items():\n",
    "            if i == k:\n",
    "                new.append(v)\n",
    "    result=''.join(new)\n",
    "    print(result)\n",
    "\n",
    "\n",
    "encryption(list(s1))"
   ]
  }
 ],
 "metadata": {
  "kernelspec": {
   "display_name": "Python 3 (ipykernel)",
   "language": "python",
   "name": "python3"
  },
  "language_info": {
   "codemirror_mode": {
    "name": "ipython",
    "version": 3
   },
   "file_extension": ".py",
   "mimetype": "text/x-python",
   "name": "python",
   "nbconvert_exporter": "python",
   "pygments_lexer": "ipython3",
   "version": "3.10.8"
  }
 },
 "nbformat": 4,
 "nbformat_minor": 5
}
