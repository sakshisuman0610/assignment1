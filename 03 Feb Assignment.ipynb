{
 "cells": [
  {
   "cell_type": "markdown",
   "id": "19486057-4434-4486-a047-47cc382c2918",
   "metadata": {},
   "source": [
    "Q1. Which keyword is used to create a function? Create a function to return a list of odd numbers in the\n",
    "range of 1 to 25."
   ]
  },
  {
   "cell_type": "markdown",
   "id": "a02fa794-c6ae-4238-ac0a-83d7ec8687ca",
   "metadata": {},
   "source": [
    "The def keyword is used to create a function."
   ]
  },
  {
   "cell_type": "code",
   "execution_count": 31,
   "id": "59dcbb2c-d667-4117-af0b-12fb76bb5728",
   "metadata": {},
   "outputs": [],
   "source": [
    "def oddno () :\n",
    "    return [i for i in range (1 , 26) if i % 2 != 0]        "
   ]
  },
  {
   "cell_type": "code",
   "execution_count": 32,
   "id": "873d371a-7578-4882-b12c-bffe944d5a93",
   "metadata": {},
   "outputs": [
    {
     "data": {
      "text/plain": [
       "[1, 3, 5, 7, 9, 11, 13, 15, 17, 19, 21, 23, 25]"
      ]
     },
     "execution_count": 32,
     "metadata": {},
     "output_type": "execute_result"
    }
   ],
   "source": [
    "oddno()"
   ]
  },
  {
   "cell_type": "markdown",
   "id": "ea8fa580-375d-46dc-a2e5-ab0a94b4e94c",
   "metadata": {},
   "source": [
    "Q2. Why *args and **kwargs is used in some functions? Create a function each for *args and **kwargs\n",
    "to demonstrate their use."
   ]
  },
  {
   "cell_type": "markdown",
   "id": "6be4b572-9050-4cc5-9d1a-2f672bdc48c6",
   "metadata": {},
   "source": [
    "*args allows us to pass a variable number of non-keyword arguments to a Python function. In the function, we should use an asterisk ( * ) before the parameter name to pass a variable number of arguments."
   ]
  },
  {
   "cell_type": "markdown",
   "id": "9aa2a2ae-fbbd-454c-9366-f4ef018192c9",
   "metadata": {},
   "source": [
    "Example :-"
   ]
  },
  {
   "cell_type": "code",
   "execution_count": 34,
   "id": "fa60ea2d-4bd9-4e43-b602-011a094e3029",
   "metadata": {},
   "outputs": [],
   "source": [
    "def test1(*args) :\n",
    "    return args"
   ]
  },
  {
   "cell_type": "code",
   "execution_count": 36,
   "id": "cc23efc0-a128-4e33-9115-a32479e0cd00",
   "metadata": {},
   "outputs": [
    {
     "data": {
      "text/plain": [
       "(1, 2, 3, 'sakshi', 'suman', [1, 2, 3, 4])"
      ]
     },
     "execution_count": 36,
     "metadata": {},
     "output_type": "execute_result"
    }
   ],
   "source": [
    "test1(1,2,3,\"sakshi\",\"suman\",[1,2,3,4])"
   ]
  },
  {
   "cell_type": "markdown",
   "id": "98eaa1b2-2aa1-4e94-985d-91828844bea8",
   "metadata": {},
   "source": [
    "**kwargs allows us to pass a variable number of keyword arguments to a Python function. In the function, we use the double-asterisk ( ** ) before the parameter name to denote this type of argument."
   ]
  },
  {
   "cell_type": "markdown",
   "id": "1c58be2c-2bb5-4b2f-af81-7495e31ba1cb",
   "metadata": {},
   "source": [
    "Examples :-"
   ]
  },
  {
   "cell_type": "code",
   "execution_count": 38,
   "id": "da4f567d-3556-400b-a04f-79d4b0510277",
   "metadata": {},
   "outputs": [],
   "source": [
    "def test2(**kwargs) :\n",
    "    return kwargs"
   ]
  },
  {
   "cell_type": "code",
   "execution_count": 41,
   "id": "835c42d5-ded8-4d36-95cd-7530f5dc4346",
   "metadata": {},
   "outputs": [
    {
     "data": {
      "text/plain": [
       "{'a': 1, 'b': 2, 'c': 3, 'd': 4, 'e': 'sakshi', 'f': [1, 2, 3, 4]}"
      ]
     },
     "execution_count": 41,
     "metadata": {},
     "output_type": "execute_result"
    }
   ],
   "source": [
    "test2(a=1,b=2,c=3,d=4,e=\"sakshi\",f=[1,2,3,4])"
   ]
  },
  {
   "cell_type": "markdown",
   "id": "90b9d123-2715-4358-83a3-0c56a379e313",
   "metadata": {},
   "source": [
    "Q3. What is an iterator in python? Name the method used to initialise the iterator object and the method\n",
    "used for iteration. Use these methods to print the first five elements of the given list [2, 4, 6, 8, 10, 12, 14,\n",
    "16, 18, 20]."
   ]
  },
  {
   "cell_type": "markdown",
   "id": "de21a26c-e63e-489d-a5d0-ca1402850dbf",
   "metadata": {},
   "source": [
    "An iterator is an object that contains a countable number of values. It is an object that can be iterated upon, meaning that you can traverse through all the values.\n",
    "\n",
    "The iterator object is initialized using iter() method.\n",
    "\n",
    "It uses the next() method for iteration. "
   ]
  },
  {
   "cell_type": "code",
   "execution_count": 44,
   "id": "f4e88775-fd29-4acc-874f-2b1fbf36a0e7",
   "metadata": {},
   "outputs": [
    {
     "name": "stdout",
     "output_type": "stream",
     "text": [
      "2\n",
      "4\n",
      "6\n",
      "8\n",
      "10\n"
     ]
    }
   ],
   "source": [
    "l = [2,4,6,8,10,12,14,16,18,20]\n",
    "no = iter(l)\n",
    "\n",
    "print(next(no))\n",
    "print(next(no))\n",
    "print(next(no))\n",
    "print(next(no))\n",
    "print(next(no))"
   ]
  },
  {
   "cell_type": "markdown",
   "id": "c22f5ba9-4fba-4455-b1f6-512bf3ae914d",
   "metadata": {},
   "source": [
    "Q4. What is a generator function in python? Why yield keyword is used? Give an example of a generator function."
   ]
  },
  {
   "cell_type": "markdown",
   "id": "8ca01fad-7509-421a-af05-94f53e4b5c18",
   "metadata": {},
   "source": [
    "A generator is a function that returns an iterator that produces a sequence of values when iterated over. Generators are useful when we want to produce a large sequence of values, but we don't want to store all of them in memory at once."
   ]
  },
  {
   "cell_type": "markdown",
   "id": "0177e25c-770d-451c-869b-ddf974a91a84",
   "metadata": {},
   "source": [
    "The yield keyword controls the flow of a generator function. This is similar to a return statement used for returning values."
   ]
  },
  {
   "cell_type": "code",
   "execution_count": 2,
   "id": "97d84696-3b9a-4ab2-a921-2e34d0d7d204",
   "metadata": {},
   "outputs": [
    {
     "name": "stdout",
     "output_type": "stream",
     "text": [
      "0\n",
      "1\n",
      "4\n",
      "9\n",
      "16\n"
     ]
    }
   ],
   "source": [
    "generator = (i * i for i in range(5))\n",
    "\n",
    "for i in generator:\n",
    "    print(i)"
   ]
  },
  {
   "cell_type": "markdown",
   "id": "15112942-8846-42fe-9e83-f179c1969fd7",
   "metadata": {},
   "source": [
    "Q5. Create a generator function for prime numbers less than 1000. Use the next() method to print the\n",
    "first 20 prime numbers."
   ]
  },
  {
   "cell_type": "code",
   "execution_count": 15,
   "id": "dacdc798-2c5f-4fa2-9215-3dad0667597f",
   "metadata": {},
   "outputs": [
    {
     "name": "stdout",
     "output_type": "stream",
     "text": [
      "1\n",
      "2\n",
      "3\n",
      "5\n",
      "7\n",
      "11\n",
      "13\n",
      "17\n",
      "19\n",
      "23\n",
      "29\n",
      "31\n",
      "37\n",
      "41\n",
      "43\n",
      "47\n",
      "53\n",
      "59\n",
      "61\n",
      "67\n",
      "71\n",
      "73\n",
      "79\n",
      "83\n",
      "89\n",
      "97\n",
      "101\n",
      "103\n",
      "107\n",
      "109\n",
      "113\n",
      "127\n",
      "131\n",
      "137\n",
      "139\n",
      "149\n",
      "151\n",
      "157\n",
      "163\n",
      "167\n",
      "173\n",
      "179\n",
      "181\n",
      "191\n",
      "193\n",
      "197\n",
      "199\n",
      "211\n",
      "223\n",
      "227\n",
      "229\n",
      "233\n",
      "239\n",
      "241\n",
      "251\n",
      "257\n",
      "263\n",
      "269\n",
      "271\n",
      "277\n",
      "281\n",
      "283\n",
      "293\n",
      "307\n",
      "311\n",
      "313\n",
      "317\n",
      "331\n",
      "337\n",
      "347\n",
      "349\n",
      "353\n",
      "359\n",
      "367\n",
      "373\n",
      "379\n",
      "383\n",
      "389\n",
      "397\n",
      "401\n",
      "409\n",
      "419\n",
      "421\n",
      "431\n",
      "433\n",
      "439\n",
      "443\n",
      "449\n",
      "457\n",
      "461\n",
      "463\n",
      "467\n",
      "479\n",
      "487\n",
      "491\n",
      "499\n",
      "503\n",
      "509\n",
      "521\n",
      "523\n",
      "541\n",
      "547\n",
      "557\n",
      "563\n",
      "569\n",
      "571\n",
      "577\n",
      "587\n",
      "593\n",
      "599\n",
      "601\n",
      "607\n",
      "613\n",
      "617\n",
      "619\n",
      "631\n",
      "641\n",
      "643\n",
      "647\n",
      "653\n",
      "659\n",
      "661\n",
      "673\n",
      "677\n",
      "683\n",
      "691\n",
      "701\n",
      "709\n",
      "719\n",
      "727\n",
      "733\n",
      "739\n",
      "743\n",
      "751\n",
      "757\n",
      "761\n",
      "769\n",
      "773\n",
      "787\n",
      "797\n",
      "809\n",
      "811\n",
      "821\n",
      "823\n",
      "827\n",
      "829\n",
      "839\n",
      "853\n",
      "857\n",
      "859\n",
      "863\n",
      "877\n",
      "881\n",
      "883\n",
      "887\n",
      "907\n",
      "911\n",
      "919\n",
      "929\n",
      "937\n",
      "941\n",
      "947\n",
      "953\n",
      "967\n",
      "971\n",
      "977\n",
      "983\n",
      "991\n",
      "997\n"
     ]
    }
   ],
   "source": [
    "generator = [x for x in range(1,1001) if not [t for t in range(2,x) if not x%t]]\n",
    "\n",
    "for x in generator :\n",
    "    print (x)"
   ]
  },
  {
   "cell_type": "code",
   "execution_count": 17,
   "id": "0811e29c-311c-499c-9270-5a839c637d24",
   "metadata": {},
   "outputs": [
    {
     "name": "stdout",
     "output_type": "stream",
     "text": [
      "1\n",
      "2\n",
      "3\n",
      "5\n",
      "7\n",
      "11\n",
      "13\n",
      "17\n",
      "19\n"
     ]
    }
   ],
   "source": [
    "l = [1,2,3,5,7,11,13,17,19]\n",
    "no = iter(l)\n",
    "\n",
    "print(next(no))\n",
    "print(next(no))\n",
    "print(next(no))\n",
    "print(next(no))\n",
    "print(next(no))\n",
    "print(next(no))\n",
    "print(next(no))\n",
    "print(next(no))\n",
    "print(next(no))"
   ]
  },
  {
   "cell_type": "markdown",
   "id": "b148bcc3-b35e-40eb-ab5e-ce3ce5cd0577",
   "metadata": {},
   "source": [
    "Q6. Write a python program to print the first 10 Fibonacci numbers using a while loop."
   ]
  },
  {
   "cell_type": "code",
   "execution_count": 21,
   "id": "f27a8007-bf93-48df-af70-73271c857033",
   "metadata": {},
   "outputs": [
    {
     "name": "stdin",
     "output_type": "stream",
     "text": [
      "Enter a no. =  10\n"
     ]
    },
    {
     "name": "stdout",
     "output_type": "stream",
     "text": [
      "0\n",
      "1\n",
      "1\n",
      "2\n",
      "3\n",
      "5\n",
      "8\n",
      "13\n",
      "21\n",
      "34\n"
     ]
    }
   ],
   "source": [
    "num = int(input(\"Enter a no. = \"))\n",
    "count = 0\n",
    "a , b = 0 , 1\n",
    "\n",
    "while(count < num) :\n",
    "    print (a)\n",
    "    c = a + b\n",
    "    a = b\n",
    "    b = c\n",
    "    count += 1"
   ]
  },
  {
   "cell_type": "markdown",
   "id": "49f7a0fe-9628-484b-84f9-3cf226eb4f02",
   "metadata": {},
   "source": [
    "Q7. Write a List Comprehension to iterate through the given string: ‘pwskills’.\n",
    "Expected output: ['p', 'w', 's', 'k', 'i', 'l', 'l', 's']"
   ]
  },
  {
   "cell_type": "code",
   "execution_count": 48,
   "id": "7bc0ca13-a815-449a-bd57-b97e2a9cd9d9",
   "metadata": {},
   "outputs": [
    {
     "data": {
      "text/plain": [
       "['p', 'w', 's', 'k', 'i', 'l', 'l', 's']"
      ]
     },
     "execution_count": 48,
     "metadata": {},
     "output_type": "execute_result"
    }
   ],
   "source": [
    "[character for character in 'pwskills']"
   ]
  },
  {
   "cell_type": "markdown",
   "id": "6328c343-c469-49b1-a234-35f4ea3f3ecd",
   "metadata": {},
   "source": [
    "Q8. Write a python program to check whether a given number is Palindrome or not using a while loop."
   ]
  },
  {
   "cell_type": "code",
   "execution_count": 49,
   "id": "2edacc3e-6810-442c-85cf-dd7e90f48045",
   "metadata": {},
   "outputs": [
    {
     "name": "stdin",
     "output_type": "stream",
     "text": [
      "Enter a no. =  666\n"
     ]
    },
    {
     "name": "stdout",
     "output_type": "stream",
     "text": [
      "Palindrome\n"
     ]
    }
   ],
   "source": [
    "num = int(input(\"Enter a no. = \"))\n",
    "temp = num\n",
    "reverse = 0\n",
    "while (temp > 0):\n",
    "    remainder = temp % 10\n",
    "    reverse = (reverse * 10) + remainder\n",
    "    temp = temp // 10\n",
    "if (num == reverse):\n",
    "  print('Palindrome')\n",
    "else:\n",
    "  print(\"Not Palindrome\")"
   ]
  },
  {
   "cell_type": "markdown",
   "id": "07936408-a228-40fb-a541-e72e8e36f5ce",
   "metadata": {},
   "source": [
    "Q9. Write a code to print odd numbers from 1 to 100 using list comprehension."
   ]
  },
  {
   "cell_type": "code",
   "execution_count": 46,
   "id": "8d43aa39-c29b-45e1-bf2c-530f4cac1de0",
   "metadata": {},
   "outputs": [
    {
     "data": {
      "text/plain": [
       "[1,\n",
       " 3,\n",
       " 5,\n",
       " 7,\n",
       " 9,\n",
       " 11,\n",
       " 13,\n",
       " 15,\n",
       " 17,\n",
       " 19,\n",
       " 21,\n",
       " 23,\n",
       " 25,\n",
       " 27,\n",
       " 29,\n",
       " 31,\n",
       " 33,\n",
       " 35,\n",
       " 37,\n",
       " 39,\n",
       " 41,\n",
       " 43,\n",
       " 45,\n",
       " 47,\n",
       " 49,\n",
       " 51,\n",
       " 53,\n",
       " 55,\n",
       " 57,\n",
       " 59,\n",
       " 61,\n",
       " 63,\n",
       " 65,\n",
       " 67,\n",
       " 69,\n",
       " 71,\n",
       " 73,\n",
       " 75,\n",
       " 77,\n",
       " 79,\n",
       " 81,\n",
       " 83,\n",
       " 85,\n",
       " 87,\n",
       " 89,\n",
       " 91,\n",
       " 93,\n",
       " 95,\n",
       " 97,\n",
       " 99]"
      ]
     },
     "execution_count": 46,
     "metadata": {},
     "output_type": "execute_result"
    }
   ],
   "source": [
    "[i for i in range (1 , 101) if (i % 2 != 0)]"
   ]
  },
  {
   "cell_type": "code",
   "execution_count": null,
   "id": "260e5086-6c3f-4fbb-84a9-b2b580051a3e",
   "metadata": {},
   "outputs": [],
   "source": []
  }
 ],
 "metadata": {
  "kernelspec": {
   "display_name": "Python 3 (ipykernel)",
   "language": "python",
   "name": "python3"
  },
  "language_info": {
   "codemirror_mode": {
    "name": "ipython",
    "version": 3
   },
   "file_extension": ".py",
   "mimetype": "text/x-python",
   "name": "python",
   "nbconvert_exporter": "python",
   "pygments_lexer": "ipython3",
   "version": "3.10.8"
  }
 },
 "nbformat": 4,
 "nbformat_minor": 5
}
