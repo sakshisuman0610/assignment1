{
 "cells": [
  {
   "cell_type": "markdown",
   "id": "b180b98c-4d78-44d9-9d7e-1a04951b3294",
   "metadata": {},
   "source": [
    "Q1. Explain with an example each when to use a for loop and a while loop."
   ]
  },
  {
   "cell_type": "markdown",
   "id": "7c82b79c-69c0-4bd5-8827-521dbd0fc5a0",
   "metadata": {},
   "source": [
    "Example of for loop :-"
   ]
  },
  {
   "cell_type": "code",
   "execution_count": 1,
   "id": "18527a25-690d-45a8-af4a-508001696f4c",
   "metadata": {},
   "outputs": [],
   "source": [
    "l1 = [1,2,3,4,5,6]"
   ]
  },
  {
   "cell_type": "code",
   "execution_count": 2,
   "id": "b0b7a0c2-240e-469a-8944-98a8a1aa495e",
   "metadata": {},
   "outputs": [
    {
     "name": "stdout",
     "output_type": "stream",
     "text": [
      "1\n",
      "2\n",
      "3\n",
      "4\n",
      "5\n",
      "6\n"
     ]
    }
   ],
   "source": [
    "for i in l1:\n",
    "    print(i)"
   ]
  },
  {
   "cell_type": "markdown",
   "id": "00abbc37-ddf0-4e03-bb02-ee4b6f52a9c8",
   "metadata": {},
   "source": [
    "Example of while loop :-"
   ]
  },
  {
   "cell_type": "code",
   "execution_count": 5,
   "id": "4164ca01-95c1-4b03-aa93-c66b935522a1",
   "metadata": {},
   "outputs": [],
   "source": [
    "l2 = 0"
   ]
  },
  {
   "cell_type": "code",
   "execution_count": 6,
   "id": "10470e9e-b5f4-4874-92fc-7126f3893d16",
   "metadata": {},
   "outputs": [
    {
     "name": "stdout",
     "output_type": "stream",
     "text": [
      "0\n",
      "1\n",
      "2\n",
      "3\n",
      "4\n",
      "5\n",
      "6\n",
      "7\n",
      "8\n",
      "9\n"
     ]
    }
   ],
   "source": [
    "while( l2 < 10 ):\n",
    "    print (l2)\n",
    "    l2 += 1"
   ]
  },
  {
   "cell_type": "markdown",
   "id": "fc3bb2aa-83e5-4167-b35f-e320c68b30f6",
   "metadata": {},
   "source": [
    "Q2. Write a python program to print the sum and product of the first 10 natural numbers using for\n",
    "and while loop."
   ]
  },
  {
   "cell_type": "markdown",
   "id": "8d8e7349-a8a3-4267-b056-84d5fd2cc5cd",
   "metadata": {},
   "source": [
    "Python program to print the sum of first 10 natural numbers using while loop -"
   ]
  },
  {
   "cell_type": "code",
   "execution_count": 39,
   "id": "98de6e6d-9946-4812-ba5d-27da3f513b8d",
   "metadata": {},
   "outputs": [
    {
     "name": "stdout",
     "output_type": "stream",
     "text": [
      "55\n"
     ]
    }
   ],
   "source": [
    "n = 10\n",
    "i = 1\n",
    "sum = 0\n",
    "while (i <= 10):\n",
    "    sum = sum + i\n",
    "    i = i + 1\n",
    "print(sum)"
   ]
  },
  {
   "cell_type": "markdown",
   "id": "e90cf614-af7c-4466-a740-973748737478",
   "metadata": {},
   "source": [
    "Python program to print the product of first 10 natural numbers using while loop -"
   ]
  },
  {
   "cell_type": "code",
   "execution_count": 38,
   "id": "3911ea1c-959c-456c-a1bb-493097c976eb",
   "metadata": {},
   "outputs": [
    {
     "name": "stdout",
     "output_type": "stream",
     "text": [
      "3628800\n"
     ]
    }
   ],
   "source": [
    "fact = 1\n",
    "i = 1 \n",
    "num = 10\n",
    "while i <= num :\n",
    "    fact = fact * i\n",
    "    i = i + 1\n",
    "print (fact)"
   ]
  },
  {
   "cell_type": "markdown",
   "id": "6ec8f69b-9bb0-4656-8492-41ed419270dd",
   "metadata": {},
   "source": [
    "Python program to print the sum of first 10 natural numbers using for loop - "
   ]
  },
  {
   "cell_type": "code",
   "execution_count": 42,
   "id": "7bf68ba8-0509-4857-825b-9acd8d3db5b4",
   "metadata": {},
   "outputs": [
    {
     "name": "stdout",
     "output_type": "stream",
     "text": [
      "55\n"
     ]
    }
   ],
   "source": [
    "n = 10\n",
    "i = 1\n",
    "sum = 0\n",
    "for i in range(1,11):\n",
    "    sum = sum + i\n",
    "    i = i + 1\n",
    "print(sum)"
   ]
  },
  {
   "cell_type": "markdown",
   "id": "692617a3-9df6-4cb8-9ff4-ba6418da7572",
   "metadata": {},
   "source": [
    "Python program to print the product of first 10 natural numbers using for loop -"
   ]
  },
  {
   "cell_type": "code",
   "execution_count": 44,
   "id": "a09b5808-6552-46e2-9103-f2c10850f432",
   "metadata": {},
   "outputs": [
    {
     "name": "stdout",
     "output_type": "stream",
     "text": [
      "3628800\n"
     ]
    }
   ],
   "source": [
    "fact = 1\n",
    "i = 1 \n",
    "num = 10\n",
    "for i in range (1,11) :\n",
    "    fact = fact * i\n",
    "    i = i + 1\n",
    "print (fact)"
   ]
  },
  {
   "cell_type": "markdown",
   "id": "0c304058-b342-446d-9730-45e80491ab1f",
   "metadata": {},
   "source": [
    "Q3. Create a python program to compute the electricity bill for a household.\n",
    "\n",
    "The per-unit charges in rupees are as follows: For the first 100 units, the user will be charged Rs. 4.5 per\n",
    "unit, for the next 100 units, the user will be charged Rs. 6 per unit, and for the next 100 units, the user will\n",
    "be charged Rs. 10 per unit, After 300 units and above the user will be charged Rs. 20 per unit.\n",
    "\n",
    "You are required to take the units of electricity consumed in a month from the user as input.\n",
    "\n",
    "Your program must pass this test case: when the unit of electricity consumed by the user in a month is\n",
    "310, the total electricity bill should be 2250."
   ]
  },
  {
   "cell_type": "code",
   "execution_count": 48,
   "id": "6536fa3d-cb79-4222-9d81-3721d0b65738",
   "metadata": {},
   "outputs": [
    {
     "name": "stdin",
     "output_type": "stream",
     "text": [
      "Enter your unit :  310\n"
     ]
    },
    {
     "name": "stdout",
     "output_type": "stream",
     "text": [
      "2250.0\n"
     ]
    }
   ],
   "source": [
    "unit = int(input(\"Enter your unit : \"))\n",
    "if unit <= 100 :\n",
    "    print (unit * 4.5)\n",
    "elif unit > 100 and unit <= 200 :\n",
    "    print ((100 * 4.5) + ((unit - 100) * 6))\n",
    "elif unit > 200 and unit <= 300 :\n",
    "    print ((100 * 4.5) + (100 * 6) + ((unit - 200) * 10))\n",
    "elif unit >= 300 :\n",
    "    print ((100 * 4.5) + (100 * 6) + (100 * 10) + ((unit - 300) * 20))\n",
    "else :\n",
    "    print (\"invalid input\")"
   ]
  },
  {
   "cell_type": "markdown",
   "id": "504bd53c-dca8-489c-bb95-61f3a06a089a",
   "metadata": {},
   "source": [
    "Q4. Create a list of numbers from 1 to 100. Use for loop and while loop to calculate the cube of each\n",
    "number and if the cube of that number is divisible by 4 or 5 then append that number in a list and print\n",
    "that list."
   ]
  },
  {
   "cell_type": "code",
   "execution_count": 84,
   "id": "a41e3743-c084-4117-a28b-d92b6eec4a2a",
   "metadata": {},
   "outputs": [
    {
     "name": "stdout",
     "output_type": "stream",
     "text": [
      "[2, 4, 5, 6, 8, 10, 12, 14, 15, 16, 18, 20, 22, 24, 25, 26, 28, 30, 32, 34, 35, 36, 38, 40, 42, 44, 45, 46, 48, 50, 52, 54, 55, 56, 58, 60, 62, 64, 65, 66, 68, 70, 72, 74, 75, 76, 78, 80, 82, 84, 85, 86, 88, 90, 92, 94, 95, 96, 98, 100]\n"
     ]
    }
   ],
   "source": [
    "l = []\n",
    "l1 = []\n",
    "for i in range(1,101) :\n",
    "    l.append(i)\n",
    "    if ((i*i*i)%5==0 or (i*i*i)%4==0) :\n",
    "        l1.append(i)\n",
    "print (l1)"
   ]
  },
  {
   "cell_type": "markdown",
   "id": "c99bf186-b6ed-429e-83ec-2e43ce7170e0",
   "metadata": {},
   "source": [
    "Q5. Write a program to filter count vowels in the below-given string.\n",
    "string = \"I want to become a data scientist\""
   ]
  },
  {
   "cell_type": "code",
   "execution_count": 86,
   "id": "1c61d569-ba7b-47c5-8d99-8787a5b0864e",
   "metadata": {},
   "outputs": [
    {
     "data": {
      "text/plain": [
       "12"
      ]
     },
     "execution_count": 86,
     "metadata": {},
     "output_type": "execute_result"
    }
   ],
   "source": [
    "string = \"I want to become a data scientist\"\n",
    "count = 0\n",
    "for i in string :\n",
    "    if i == \"a\" or i == \"A\" or i == \"e\" or i == \"E\" or i == \"i\" or i == \"I\" or i == \"o\" or i == \"O\" or i == \"u\" or i == \"U\" :\n",
    "        count = count + 1\n",
    "count        \n",
    "    "
   ]
  }
 ],
 "metadata": {
  "kernelspec": {
   "display_name": "Python 3 (ipykernel)",
   "language": "python",
   "name": "python3"
  },
  "language_info": {
   "codemirror_mode": {
    "name": "ipython",
    "version": 3
   },
   "file_extension": ".py",
   "mimetype": "text/x-python",
   "name": "python",
   "nbconvert_exporter": "python",
   "pygments_lexer": "ipython3",
   "version": "3.10.8"
  }
 },
 "nbformat": 4,
 "nbformat_minor": 5
}
