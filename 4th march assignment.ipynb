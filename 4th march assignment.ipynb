{
 "cells": [
  {
   "cell_type": "markdown",
   "id": "a23b89fd-e94c-4167-9923-9efdd1d39109",
   "metadata": {},
   "source": [
    "Q1. Load the \"titanic\" dataset using the load_dataset function of seaborn. Use Plotly express to plot a scatter plot for age and fare columns in the titanic dataset."
   ]
  },
  {
   "cell_type": "code",
   "execution_count": null,
   "id": "ff99f97e-ae40-4da2-af39-d7a91f992d69",
   "metadata": {},
   "outputs": [],
   "source": [
    "import seaborn as sns\n",
    "\n",
    "import plotly.graph_objects as go\n",
    "\n",
    "titanic_data = sns.load_dataset('titanic')\n",
    "\n",
    "fig = go.Figure()\n",
    "fig.add_trace(go.Scatter(x=titanic_data.age, y=titanic_data.fare, mode='markers'   ))\n",
    "fig.show()"
   ]
  },
  {
   "cell_type": "code",
   "execution_count": null,
   "id": "307cc147-6e3e-462f-aba0-89d2f046a8f5",
   "metadata": {},
   "outputs": [],
   "source": []
  },
  {
   "cell_type": "markdown",
   "id": "c7def673-2358-4c27-b3f3-11b8311b1049",
   "metadata": {},
   "source": [
    "Q2. Using the tips dataset in the Plotly library, plot a box plot using Plotly express."
   ]
  },
  {
   "cell_type": "code",
   "execution_count": null,
   "id": "64ded5bc-8000-4876-9a15-22882a37b699",
   "metadata": {},
   "outputs": [],
   "source": [
    "import plotly.express as px\n",
    "import seaborn as sns\n",
    "\n",
    "tips_data = sns.load_dataset('tips')\n",
    "\n",
    "fig = px.box(tips_data, x=\"day\", y=\"total_bill\", color=\"smoker\")\n",
    "fig.show()\n"
   ]
  },
  {
   "cell_type": "code",
   "execution_count": null,
   "id": "b7c14367-677d-41fb-82e2-acfdd1d3322b",
   "metadata": {},
   "outputs": [],
   "source": []
  },
  {
   "cell_type": "markdown",
   "id": "ec01d531-5f74-4d29-b21b-5b5016fe3ea6",
   "metadata": {},
   "source": [
    "Q3. Using the tips dataset in the Plotly library, Plot a histogram for x= \"sex\" and y=\"total_bill\" column in the tips dataset. Also, use the \"smoker\" column with the pattern_shape parameter and the \"day\" column with the color parameter."
   ]
  },
  {
   "cell_type": "code",
   "execution_count": null,
   "id": "c4f452e5-46fe-4a80-9719-596d0f0c8d72",
   "metadata": {},
   "outputs": [],
   "source": [
    "import plotly.express as px\n",
    "tips = px.data.tips()\n",
    "\n",
    "fig = px.histogram(tips, x=\"sex\", y=\"total_bill\", color=\"day\",barmode=\"group\",\n",
    "                   pattern_shape=\"smoker\")\n",
    "fig.show()\n"
   ]
  },
  {
   "cell_type": "code",
   "execution_count": null,
   "id": "883685c4-72bb-4076-80d8-bb2515cad220",
   "metadata": {},
   "outputs": [],
   "source": []
  },
  {
   "cell_type": "markdown",
   "id": "5a16881d-ac9e-499b-91f4-6d909f362ddd",
   "metadata": {},
   "source": [
    "Q4. Using the iris dataset in the Plotly library, Plot a scatter matrix plot, using the \"species\" column for the color parameter. Note: Use \"sepal_length\", \"sepal_width\", \"petal_length\", \"petal_width\" columns only with the dimensions parameter."
   ]
  },
  {
   "cell_type": "code",
   "execution_count": 2,
   "id": "5807de2f-5d46-45d5-a5c1-ea350b51e79b",
   "metadata": {},
   "outputs": [],
   "source": [
    "iris=sns.load_dataset(\"iris\")"
   ]
  },
  {
   "cell_type": "code",
   "execution_count": null,
   "id": "4f844c9f-eba9-4a04-a216-d996ac213680",
   "metadata": {},
   "outputs": [],
   "source": [
    "fig = px.scatter_matrix(iris , dimensions=[\"sepal_length\", \"sepal_width\", \"petal_length\", \"petal_width\"], color=\"species\")\n",
    "fig.show()"
   ]
  },
  {
   "cell_type": "code",
   "execution_count": null,
   "id": "1cdae6b6-0c49-4288-a21c-291b3d326dc8",
   "metadata": {},
   "outputs": [],
   "source": []
  },
  {
   "cell_type": "markdown",
   "id": "f81fc6d1-98b1-4753-954e-569854181490",
   "metadata": {},
   "source": [
    "Q5. What is Distplot? Using Plotly express, plot a distplot.\n",
    "\n",
    "Distplot is a type of histogram that displays the distribution of a numerical variable by dividing it into a set of intervals (bins) and counting the number of observations that fall into each bin. Additionally, a density curve can be overlaid on top of the histogram to show the estimated probability density function."
   ]
  },
  {
   "cell_type": "code",
   "execution_count": null,
   "id": "fc9101de-1005-41e6-9bee-71f0de51ea14",
   "metadata": {},
   "outputs": [],
   "source": [
    "\n",
    "import plotly.express as px\n",
    "import pandas as pd\n",
    "\n",
    "\n",
    "data = pd.DataFrame({\n",
    "    'values': [1, 2, 3, 3, 3, 4, 5, 6, 7, 7, 8, 9, 9, 9, 10]\n",
    "})\n",
    "\n",
    "\n",
    "fig = px.histogram(data, x='values', nbins=10)\n",
    "\n",
    "\n",
    "fig.show()"
   ]
  },
  {
   "cell_type": "code",
   "execution_count": null,
   "id": "57bc10d8-3285-423d-93f0-3d0b14765b40",
   "metadata": {},
   "outputs": [],
   "source": []
  }
 ],
 "metadata": {
  "kernelspec": {
   "display_name": "Python 3 (ipykernel)",
   "language": "python",
   "name": "python3"
  },
  "language_info": {
   "codemirror_mode": {
    "name": "ipython",
    "version": 3
   },
   "file_extension": ".py",
   "mimetype": "text/x-python",
   "name": "python",
   "nbconvert_exporter": "python",
   "pygments_lexer": "ipython3",
   "version": "3.10.8"
  }
 },
 "nbformat": 4,
 "nbformat_minor": 5
}
