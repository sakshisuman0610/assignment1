{
 "cells": [
  {
   "cell_type": "markdown",
   "id": "cafa4615-1ebf-426e-8ef0-56d6426cd89a",
   "metadata": {},
   "source": [
    "Q1. What is an API? Give an example, where an API is used in real life."
   ]
  },
  {
   "cell_type": "markdown",
   "id": "6d2d8f49-11bf-40d1-8693-d88f5494e25d",
   "metadata": {},
   "source": [
    "An API is a communication interface that allows two separate software components to share data. An API operates as a bridge between internal and \n",
    "\n",
    "external software operations, allowing for a fluid interchange of data that frequently passes undetected by the end-user. Simply said, an API acts as \n",
    "\n",
    "a virtual middleman, transferring data from one interface, such as a mobile app, to another. APIs connect various sections of a software platform to \n",
    "\n",
    "guarantee that information is sent correctly. These connection points serve as an internal communication route, and a way for external tools to access \n",
    "\n",
    "the same data. \n",
    "\n",
    "APIs may be classified into two types :-\n",
    "\n",
    "\n",
    "a) Private APIs: A private API is only available to developers and users within a company. These APIs are often used to link internal team operations \n",
    "\n",
    "   to remove silos and streamline communication.\n",
    "\n",
    "\n",
    "b) Open APIs: On the other hand, open APIs allow third-party developers to quickly access and merge data from one tool to another. An open or public       \n",
    "   API saves time for developers by allowing them to link their platform with already existing tools, minimizing the need to construct new services."
   ]
  },
  {
   "cell_type": "markdown",
   "id": "c2428429-2ac7-4998-b0e9-b9b6740642c7",
   "metadata": {},
   "source": [
    "Example where an API used in real life :-"
   ]
  },
  {
   "cell_type": "markdown",
   "id": "cab9a194-3487-438a-9a6e-84487d4c952f",
   "metadata": {},
   "source": [
    "Log-in Using XYZ -\n",
    "\n",
    "Another well-known API example usage is the \"log in with Facebook/Twitter/Google/GitHub\" capability seen on many websites. It's quite useful, but have \n",
    "\n",
    "you ever pondered how it works? Rather than entering into users' social media accounts (which would be a severe security risk), applications with this \n",
    "\n",
    "capability use the APIs of these platforms to authenticate the user with each login.\n",
    "\n",
    "\n",
    "It operates in a straightforward manner. When the program loads, it checks the API to see whether the user is already logged in to whichever social \n",
    "\n",
    "networking platform. If not, when the user hits the \"Log-in Using XYZ\" button, a pop-up appears asking them to confirm they really want to log in with \n",
    "\n",
    "that social network profile. When the user confirms, the API sends identity information to the application, letting it know who is logging in."
   ]
  },
  {
   "cell_type": "markdown",
   "id": "1012d8bb-2b48-457b-8e51-c9d7edc50494",
   "metadata": {},
   "source": [
    "Q2. Give advantages and disadvantages of using API."
   ]
  },
  {
   "cell_type": "markdown",
   "id": "bc52a396-dafb-400b-9173-729a3b1a78c9",
   "metadata": {},
   "source": [
    "Advantages of REST API :-\n",
    "\n",
    "i) REST API is easy to understand and learn, due to its simplicity, known API.\n",
    "\n",
    "ii) With REST API, being able to organize complicated applications & makes it easy to use resources.\n",
    "\n",
    "iii) The high load can be managed with help out of HTTP proxy server & cache.\n",
    "\n",
    "iv) REST API is easy to explore and discover.\n",
    "\n",
    "v) It makes it simple for new clients to work on other applications, whether it is designed specifically for purpose or not.\n",
    "\n",
    "vi) Use standard HTTP procedure call- outs to retrieve data and requests.\n",
    "\n",
    "vii) REST API depends on codes, can use it to synchronize data with a website without any complications.\n",
    "\n",
    "viii) Users can avail access to the same standard objects and data model when compared to SOAP-based web services.\n",
    "\n",
    "ix) Brings flexibility formats by serializing data in XML or JSON format.\n",
    "\n",
    "x) Allows Standard-based protection with the use of OAuth protocols to verify your REST requests."
   ]
  },
  {
   "cell_type": "markdown",
   "id": "45c8036b-0d72-473e-84be-88ce64c3c77e",
   "metadata": {},
   "source": [
    "Disadvantages or Challenges in REST :-\n",
    "\n",
    "i) Lack of state: most web applications require stateful mechanisms. Suppose you purchase a website which has a mechanism to have a shopping cart. It is required to know the number of items in the shopping cart before the actual purchase is made. This burden of maintaining the state lies on the client, which makes the client application heavy and difficult to maintain.\n",
    "\n",
    "ii) Last of security: REST doest impose security such as SOAP. That is the reason REST is appropriate for public URLs, but it is not good for confidential data passage between client and server. "
   ]
  },
  {
   "cell_type": "markdown",
   "id": "a7358b73-0e3e-448b-bd6f-a48d217c7e63",
   "metadata": {},
   "source": [
    "Q3. What is a Web API? Differentiate between API and Web API."
   ]
  },
  {
   "cell_type": "markdown",
   "id": "731680b3-75a5-4090-9459-38120cd7065f",
   "metadata": {},
   "source": [
    "API is the acronym for Application Programming Interface. It is a software interface that allows two applications to interact with each other without \n",
    "\n",
    "any user intervention.\n",
    "\n",
    "\n",
    "APIs provides product or service to communicate with other products and services without having to know how they’re implemented."
   ]
  },
  {
   "cell_type": "markdown",
   "id": "73a4e825-400c-4878-b135-f06d5d7d2da2",
   "metadata": {},
   "source": [
    "A Web API stands for Application Programming Interface. It is a software application that allows two different applications or machines to interact \n",
    "\n",
    "with each other without any user interference. The API contains a complete set of rules and specifications used when interacting with any web \n",
    "\n",
    "application."
   ]
  },
  {
   "cell_type": "markdown",
   "id": "3beb6b4d-dacf-436d-9ef4-39286f22771b",
   "metadata": {},
   "source": [
    "a) Web Services :-\n",
    "\n",
    "A Web services are any bit of services that makes it accessible over the Internet and normalizes its correspondence through XML encoding. A customer \n",
    "\n",
    "conjures web services by sending a solicitation (for the most part as an XML message), and the services send back an XML response. Web services summon \n",
    "\n",
    "communication over a network, with HTTP as the most widely recognized methods for the network between the two frameworks. Web services are equivalent \n",
    "\n",
    "to SOA (Services Oriented Architecture) and fundamentally depend on measures, for example, XML-RPC and SOAP (Simple Object Access Protocol).\n",
    "\n",
    "\n",
    "Components: All the standard web services work using the following components.\n",
    "\n",
    "(i) SOAP (Simple Object Access Protocol)\n",
    "\n",
    "(ii) UDDI (Universal Description, Discovery and Integration)\n",
    "\n",
    "(iii) WSDL (Web Services Description Language)\n",
    "\n",
    "\n",
    "b) Web APIs :-\n",
    "\n",
    "API stands for Application Programming Interface. It is a collection of communication conventions and subroutines used by various programs to \n",
    "\n",
    "communicate between them. A developer can utilize different API apparatuses to make its program simpler and less complex. Likewise, an API encourages \n",
    "\n",
    "the developers with a proficient method to build up their product programs. Thus, in simple terms, an API determines how programming segments ought to \n",
    "\n",
    "associate with one another. It is a set of protocols and schedules, and its reactions are returned as JSON or XML in data. APIs can utilize any kind \n",
    "\n",
    "of communication convention and are not restricted similarly as a web service is."
   ]
  },
  {
   "cell_type": "markdown",
   "id": "df2ed028-ff17-4f8e-b891-1a912a0dc5a0",
   "metadata": {},
   "source": [
    "Q4. Explain REST and SOAP Architecture. Mention shortcomings of SOAP."
   ]
  },
  {
   "cell_type": "markdown",
   "id": "119e1ea0-2aa7-476c-8745-6ef0e0c92670",
   "metadata": {},
   "source": [
    "REST :-\n",
    "\n",
    "Representational state transfer or Rest was developed to work with components like media, files or objects on a hardware device. Roy Fielding \n",
    "\n",
    "introduced and defined this term in his doctoral dissertation back in 2000. The idea was to detail how a well-designed web application would behave. \n",
    "\n",
    "Web services that are defined on the principles of Rest and therefore called RestFul web services.\n",
    "\n",
    "A resource is the key abstraction of information in Rest. Any information that can be given a name can function as a resource. It can be a collection \n",
    "\n",
    "of other resources, a document, an image, etc.\n",
    "\n",
    "It uses a resource identifier to identify the particular resource that's required in an interaction between components. When HTTP is used in a \n",
    "\n",
    "transition, as it most commonly is, the GET, HEAD, POST, PUT, PATCH, DELETE, CONNECT, OPTIONS and TRACE operations are available. This typical use of \n",
    "\n",
    "HTTP means that developers don't need to install any extra software or libraries when they create a Rest API.\n",
    "\n",
    "\n",
    "SOAP :-\n",
    "\n",
    "SOAP or the Simple Object Access Protocol is a messaging protocol that allows for distributed elements of an application to communicate. This protocol \n",
    "\n",
    "can be carried over multiple transfer methods like HTTP and SMTP. Its data structure is based on XML and since it's largely human readable, it makes \n",
    "\n",
    "it easier to understand a SOAP message.\n",
    "\n",
    "SOAP is a concrete protocol with its own set of rules and security features like integrated ACID compliance and authorization. It's also highly \n",
    "\n",
    "complex since it requires more bandwidth and resources. It performs well in distributed enterprise environments since it doesn't assume direct point-\n",
    "\n",
    "to-point communication."
   ]
  },
  {
   "cell_type": "markdown",
   "id": "f3a31a4e-37d2-4942-bc4b-39695bf71c1e",
   "metadata": {},
   "source": [
    "Shortcomings of SOAP :-\n",
    "\n",
    "\n",
    "a) Highly complex\n",
    "\n",
    "In comparison to Rest, SOAP is significantly more complex. It's also less flexible. This might present a challenge for developers that are not highly \n",
    "\n",
    "skilled. The extensive processing required may also slow down performance.\n",
    "\n",
    "b) No variety of data formats\n",
    "\n",
    "SOAP is also extremely limited in its support of data formats. The formats supported by Rest include HTML, JSON, YAML, XML and others. Meanwhile, SOAP \n",
    "\n",
    "only supports XML.\n",
    "\n",
    "c) API calls are not cached\n",
    "\n",
    "The process where a request is sent after an API is set up with the correct endpoints is referred to as an API call. The process results in the \n",
    "\n",
    "information being transferred, processed and feedback being provided. It's not possible for SOAP API calls to be cached.\n",
    "\n",
    "d) Uses more bandwidth\n",
    "\n",
    "SOAP is generally slower in comparison to Rest and it also uses more bandwidth given its very complex nature. It’s another limiting factor in the \n",
    "\n",
    "efficacy of this technology for certain projects."
   ]
  },
  {
   "cell_type": "markdown",
   "id": "f14d2ee9-2a60-4abe-8e77-73587e1652e3",
   "metadata": {},
   "source": [
    "Q5. Differentiate between REST and SOAP."
   ]
  },
  {
   "cell_type": "markdown",
   "id": "951c0cfd-05ed-49ff-a72f-8b5fc7831b2d",
   "metadata": {},
   "source": [
    "i) SOAP stands for Simple Object Access Protocol and REST stands for Representational State Transfer.\n",
    "\n",
    "ii) Since SOAP is a protocol, it follows a strict standard to allow communication between the client and the server whereas REST is an architectural style that doesn’t follow any strict standard but follows six constraints defined by Roy Fielding in 2000. Those constraints are – Uniform Interface, Client-Server, Stateless, Cacheable, Layered System, Code on Demand.\n",
    "\n",
    "iii) SOAP uses only XML for exchanging information in its message format whereas REST is not restricted to XML and its the choice of implementer which Media-Type to use like XML, JSON, Plain-text. Moreover, REST can use SOAP protocol but SOAP cannot use REST.\n",
    "\n",
    "iv) On behalf of services interfaces to business logic, SOAP uses @WebService whereas REST instead of using interfaces uses URI like @Path.\n",
    "\n",
    "v) SOAP is difficult to implement and it requires more bandwidth whereas REST is easy to implement and requires less bandwidth such as smartphones.\n",
    "\n",
    "vi) Benefits of SOAP over REST as SOAP has ACID compliance transaction. Some of the applications require transaction ability which is accepted by SOAP whereas REST lacks in it.\n",
    "\n",
    "vii) On the basis of Security, SOAP has SSL( Secure Socket Layer) and WS-security whereas REST has SSL and HTTPS. In the case of Bank Account Password, Card Number, etc. SOAP is preferred over REST. The security issue is all about your application requirement, you have to build security on your own. It’s about what type of protocol you use.\n",
    "\n",
    "viii) SOAP cannot make use of REST since SOAP is a protocol without any architectural pattern. REST can make use of SOAP because it is an architectural pattern having protocol."
   ]
  }
 ],
 "metadata": {
  "kernelspec": {
   "display_name": "Python 3 (ipykernel)",
   "language": "python",
   "name": "python3"
  },
  "language_info": {
   "codemirror_mode": {
    "name": "ipython",
    "version": 3
   },
   "file_extension": ".py",
   "mimetype": "text/x-python",
   "name": "python",
   "nbconvert_exporter": "python",
   "pygments_lexer": "ipython3",
   "version": "3.10.8"
  }
 },
 "nbformat": 4,
 "nbformat_minor": 5
}
