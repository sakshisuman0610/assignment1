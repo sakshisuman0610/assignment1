{
 "cells": [
  {
   "cell_type": "markdown",
   "id": "ed35abee-901c-4469-9a3f-77679b486874",
   "metadata": {},
   "source": [
    "Q1. You are writing code for a company. The requirement of the company is that you create a python\n",
    "function that will check whether the password entered by the user is correct or not. The function should\n",
    "take the password as input and return the string “Valid Password” if the entered password follows the\n",
    "below-given password guidelines else it should return “Invalid Password”.\n",
    "\n",
    "Note: 1. The Password should contain at least two uppercase letters and at least two lowercase letters.\n",
    "2. The Password should contain at least a number and three special characters.\n",
    "3. The length of the password should be 10 characters long."
   ]
  },
  {
   "cell_type": "code",
   "execution_count": 19,
   "id": "946d926c-74fc-49a9-a039-f06d66946b91",
   "metadata": {},
   "outputs": [
    {
     "name": "stdin",
     "output_type": "stream",
     "text": [
      "Input your password :-  Sakshi@610\n"
     ]
    },
    {
     "name": "stdout",
     "output_type": "stream",
     "text": [
      "Valid Password\n"
     ]
    }
   ],
   "source": [
    "import re\n",
    "Password = input(\"Input your password :- \")\n",
    "def password() :\n",
    "    x = True\n",
    "    while x:\n",
    "        if (len(Password)<1 or len(Password)>10):\n",
    "            break\n",
    "        elif not re.search(\"[a-z]\",Password):\n",
    "            break\n",
    "        elif not re.search(\"[0-9]\",Password):\n",
    "            break\n",
    "        elif not re.search(\"[A-Z]\",Password):\n",
    "            break\n",
    "        elif not re.search(\"[$#@]\",Password):\n",
    "            break\n",
    "        elif re.search(\"\\s\",Password):\n",
    "            break\n",
    "        else:\n",
    "            print(\"Valid Password\")\n",
    "            x=False\n",
    "            break\n",
    "    if x:\n",
    "        print(\"invalid Password\")\n",
    "\n",
    "password()        \n"
   ]
  },
  {
   "cell_type": "markdown",
   "id": "462b79ef-1d2d-4c54-b417-8f76dda1f2d1",
   "metadata": {},
   "source": [
    "Q2. Solve the below-given questions using at least one of the following:\n",
    "\n",
    "1. Lambda function\n",
    "\n",
    "2. Filter function\n",
    "\n",
    "3. Map function\n",
    "\n",
    "4. List Comprehension\n",
    "\n",
    "a) Check if the string starts with a particular letter.\n",
    "\n",
    "b) Check if the string is numeric.\n",
    "\n",
    "c) Sort a list of tuples having fruit names and their quantity. [(\"mango\",99),(\"orange\",80), (\"grapes\", 1000)]\n",
    "\n",
    "d) Find the squares of numbers from 1 to 10.\n",
    "\n",
    "e) Find the cube root of numbers from 1 to 10.\n",
    "\n",
    "f) Check if a given number is even.\n",
    "\n",
    "g) Filter odd numbers from the given list.\n",
    "\n",
    "[1,2,3,4,5,6,7,8,9,10]\n",
    "\n",
    "h) Sort a list of integers into positive and negative integers lists.\n",
    "\n",
    "[1,2,3,4,5,6,-1,-2,-3,-4,-5,0]\n"
   ]
  },
  {
   "cell_type": "markdown",
   "id": "11d34615-7d28-41af-823b-872caf8a120d",
   "metadata": {},
   "source": [
    "a)"
   ]
  },
  {
   "cell_type": "code",
   "execution_count": 3,
   "id": "4c3204ab-6059-4c5d-91eb-253b77f96625",
   "metadata": {},
   "outputs": [
    {
     "name": "stdout",
     "output_type": "stream",
     "text": [
      "True\n"
     ]
    }
   ],
   "source": [
    "str = lambda x : True if x.startswith('S') else False\n",
    "print(str('Sakshi'))"
   ]
  },
  {
   "cell_type": "markdown",
   "id": "9b5cdc65-0e63-49eb-94ea-fed139d17357",
   "metadata": {},
   "source": [
    "b)"
   ]
  },
  {
   "cell_type": "code",
   "execution_count": 2,
   "id": "30a31fcc-b7c9-4a8a-9fee-808c4722d385",
   "metadata": {},
   "outputs": [
    {
     "name": "stdout",
     "output_type": "stream",
     "text": [
      "True\n",
      "False\n"
     ]
    }
   ],
   "source": [
    "is_num = lambda a : a.replace('.','',1).isdigit()\n",
    "print(is_num('0610'))\n",
    "print(is_num('aaaaa'))"
   ]
  },
  {
   "cell_type": "markdown",
   "id": "e6f545e9-72c3-4c8a-a52a-aa26695004c3",
   "metadata": {},
   "source": [
    "c)"
   ]
  },
  {
   "cell_type": "code",
   "execution_count": 22,
   "id": "105a6e79-d266-4fbc-b627-e4380c91889f",
   "metadata": {},
   "outputs": [],
   "source": [
    "def sort_tuple(tup) :\n",
    "    tup.sort(key = lambda x : x[1])\n",
    "    return tup"
   ]
  },
  {
   "cell_type": "code",
   "execution_count": 23,
   "id": "553dfa18-b31f-45e9-b8f0-7fbfbb7e3c31",
   "metadata": {},
   "outputs": [
    {
     "name": "stdout",
     "output_type": "stream",
     "text": [
      "[('orange', 80), ('mango', 99), ('grapes', 1000)]\n"
     ]
    }
   ],
   "source": [
    "tup = [(\"mango\",99),(\"orange\",80), (\"grapes\", 1000)]\n",
    "print(sort_tuple(tup))"
   ]
  },
  {
   "cell_type": "markdown",
   "id": "5ee71584-33af-4176-9c6e-9889c40df892",
   "metadata": {},
   "source": [
    "d)"
   ]
  },
  {
   "cell_type": "code",
   "execution_count": 59,
   "id": "57c7ed25-85d0-4319-a733-0f7e0741feb8",
   "metadata": {},
   "outputs": [],
   "source": [
    "l4 = [1,2,3,4,5,6,7,8,9,10]"
   ]
  },
  {
   "cell_type": "code",
   "execution_count": 58,
   "id": "9041840d-f9d6-4fe0-91dc-dfd53a3a7356",
   "metadata": {},
   "outputs": [],
   "source": [
    "#[i*i for i in range (1,10)]\n",
    "\n",
    "def sq(x):\n",
    "    return x**2"
   ]
  },
  {
   "cell_type": "code",
   "execution_count": 61,
   "id": "5fb5151c-ac15-4fe8-843f-602752d39a66",
   "metadata": {},
   "outputs": [
    {
     "data": {
      "text/plain": [
       "[1, 4, 9, 16, 25, 36, 49, 64, 81, 100]"
      ]
     },
     "execution_count": 61,
     "metadata": {},
     "output_type": "execute_result"
    }
   ],
   "source": [
    "list(map(sq , l4))"
   ]
  },
  {
   "cell_type": "markdown",
   "id": "a6995e41-4f1a-4c2e-8ded-23afd569bb35",
   "metadata": {},
   "source": [
    "e)"
   ]
  },
  {
   "cell_type": "code",
   "execution_count": 27,
   "id": "16978461-d3c6-43f0-b6a6-e83a8554ccbd",
   "metadata": {},
   "outputs": [
    {
     "data": {
      "text/plain": [
       "[1, 8, 27, 64, 125, 216, 343, 512, 729]"
      ]
     },
     "execution_count": 27,
     "metadata": {},
     "output_type": "execute_result"
    }
   ],
   "source": [
    "[i*i*i for i in range (1,10)]"
   ]
  },
  {
   "cell_type": "markdown",
   "id": "91770ab7-d61c-422d-9502-cfcae86c2c6a",
   "metadata": {},
   "source": [
    "f)"
   ]
  },
  {
   "cell_type": "code",
   "execution_count": 28,
   "id": "abfda094-21d7-4db0-9ed2-b63d7d2f32d0",
   "metadata": {},
   "outputs": [],
   "source": [
    "l = [1,2,3,4]"
   ]
  },
  {
   "cell_type": "code",
   "execution_count": 31,
   "id": "05a2838e-5003-4c8d-8225-263a645e1a1d",
   "metadata": {},
   "outputs": [
    {
     "data": {
      "text/plain": [
       "[2, 4]"
      ]
     },
     "execution_count": 31,
     "metadata": {},
     "output_type": "execute_result"
    }
   ],
   "source": [
    "[i for i in l if i%2 == 0]"
   ]
  },
  {
   "cell_type": "markdown",
   "id": "6335337f-a673-43a7-9ecb-262c33df3ab0",
   "metadata": {},
   "source": [
    "g)"
   ]
  },
  {
   "cell_type": "code",
   "execution_count": 37,
   "id": "f572ca50-5bfc-4d83-92cc-a0eac193e2fe",
   "metadata": {},
   "outputs": [],
   "source": [
    "l1 = [1,2,3,4,5,6,7,8,9,10]"
   ]
  },
  {
   "cell_type": "code",
   "execution_count": 39,
   "id": "c174a42a-b40a-4fda-833f-38b057eb6665",
   "metadata": {},
   "outputs": [
    {
     "data": {
      "text/plain": [
       "[1, 3, 5, 7, 9]"
      ]
     },
     "execution_count": 39,
     "metadata": {},
     "output_type": "execute_result"
    }
   ],
   "source": [
    "list(filter(lambda x : x % 2 != 0 , l1))"
   ]
  },
  {
   "cell_type": "markdown",
   "id": "113f9f5b-a619-4bf7-ba5f-60606f6838e4",
   "metadata": {},
   "source": [
    "h)"
   ]
  },
  {
   "cell_type": "code",
   "execution_count": 63,
   "id": "d77e0455-72fb-4e49-8008-37f7695c4e27",
   "metadata": {},
   "outputs": [
    {
     "data": {
      "text/plain": [
       "[1, 2, 3, 4, 5, 6, 0, -1, -2, -3, -4, -5]"
      ]
     },
     "execution_count": 63,
     "metadata": {},
     "output_type": "execute_result"
    }
   ],
   "source": [
    "l3 = [1,2,3,4,5,6,-1,-2,-3,-4,-5,0]\n",
    "rearrange_no = lambda arr : [x for x in l3 if x >= 0] + [x for x in l3 if x < 0]\n",
    "rearrange_no(l3)"
   ]
  }
 ],
 "metadata": {
  "kernelspec": {
   "display_name": "Python 3 (ipykernel)",
   "language": "python",
   "name": "python3"
  },
  "language_info": {
   "codemirror_mode": {
    "name": "ipython",
    "version": 3
   },
   "file_extension": ".py",
   "mimetype": "text/x-python",
   "name": "python",
   "nbconvert_exporter": "python",
   "pygments_lexer": "ipython3",
   "version": "3.10.8"
  }
 },
 "nbformat": 4,
 "nbformat_minor": 5
}
