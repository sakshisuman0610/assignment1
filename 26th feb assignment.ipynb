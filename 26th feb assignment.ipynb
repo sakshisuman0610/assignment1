{
 "cells": [
  {
   "cell_type": "markdown",
   "id": "1888a702-476b-47c3-bebb-0d87f85c8d07",
   "metadata": {},
   "source": [
    "Q1. Is there any difference in the data type of variables list_ and array_list? If there is then write a code to print the data types of both the variables."
   ]
  },
  {
   "cell_type": "code",
   "execution_count": 2,
   "id": "d4c59525-984d-44cc-b975-56a7b33baf90",
   "metadata": {},
   "outputs": [],
   "source": [
    "import numpy as np\n",
    "list_ = [ '1' , '2' , '3' , '4' , '5' ]\n",
    "array_list = np.array(object = list_)"
   ]
  },
  {
   "cell_type": "code",
   "execution_count": 3,
   "id": "ea245807-798f-41c2-a2da-4aefe524c73e",
   "metadata": {},
   "outputs": [
    {
     "data": {
      "text/plain": [
       "list"
      ]
     },
     "execution_count": 3,
     "metadata": {},
     "output_type": "execute_result"
    }
   ],
   "source": [
    "type(list_)"
   ]
  },
  {
   "cell_type": "code",
   "execution_count": 4,
   "id": "79a7c611-e309-4998-a3ae-76a2a67ad26d",
   "metadata": {},
   "outputs": [
    {
     "data": {
      "text/plain": [
       "numpy.ndarray"
      ]
     },
     "execution_count": 4,
     "metadata": {},
     "output_type": "execute_result"
    }
   ],
   "source": [
    "type(array_list)\n"
   ]
  },
  {
   "cell_type": "markdown",
   "id": "07d79886-d613-4d10-9f84-fd1ab8adfa32",
   "metadata": {},
   "source": [
    "Yes;\n",
    "\n",
    "Here we can see that list_ has a data type of list, while array_list has a data type of numpy.ndarray."
   ]
  },
  {
   "cell_type": "markdown",
   "id": "9716f762-7eba-45c3-88db-b2f926036f54",
   "metadata": {},
   "source": [
    "Q2. Write a code to print the data type of each and every element of both the variables list_ and arra_list."
   ]
  },
  {
   "cell_type": "code",
   "execution_count": 5,
   "id": "ace507fb-de7e-41fa-ae6c-191e17d78cd4",
   "metadata": {},
   "outputs": [
    {
     "name": "stdout",
     "output_type": "stream",
     "text": [
      "<class 'str'>\n",
      "<class 'str'>\n",
      "<class 'str'>\n",
      "<class 'str'>\n",
      "<class 'str'>\n"
     ]
    }
   ],
   "source": [
    "# data types of elements of list\n",
    "for i in list_:\n",
    "    print(type(i))"
   ]
  },
  {
   "cell_type": "code",
   "execution_count": 6,
   "id": "29fd015d-104e-43f1-9cd0-02d233907892",
   "metadata": {},
   "outputs": [
    {
     "name": "stdout",
     "output_type": "stream",
     "text": [
      "<class 'numpy.str_'>\n",
      "<class 'numpy.str_'>\n",
      "<class 'numpy.str_'>\n",
      "<class 'numpy.str_'>\n",
      "<class 'numpy.str_'>\n"
     ]
    }
   ],
   "source": [
    "# data types of elements of array_list\n",
    "for i in array_list:\n",
    "    print(type(i))"
   ]
  },
  {
   "cell_type": "markdown",
   "id": "d3872590-6a6f-4116-ae9a-7b84f1d44a43",
   "metadata": {},
   "source": [
    "Q3. Considering the following changes in the variable, array_list: array_list = np.array(object = list_, dtype = int) Will there be any difference in the data type of the elements present in both the variables, list_ and arra_list? If so then print the data types of each and every element present in both the variables, list_ and arra_list. Consider the below code to answer further questions: import numpy as np num_list = [ [ 1 , 2 , 3 ] , [ 4 , 5 , 6 ] ] num_array = np.array(object = num_list)"
   ]
  },
  {
   "cell_type": "code",
   "execution_count": 7,
   "id": "8d6fc0eb-06f4-4a7a-9c27-d0135eda72cb",
   "metadata": {},
   "outputs": [],
   "source": [
    "import numpy as np\n",
    "num_list = [ [ 1 , 2 , 3 ] , [ 4 , 5 , 6 ] ]\n",
    "num_array = np.array(object = num_list)\n",
    "array_list = np.array(object = list_, dtype = int)"
   ]
  },
  {
   "cell_type": "code",
   "execution_count": 8,
   "id": "5a659fc1-898c-432e-936e-9fe0154c2a45",
   "metadata": {},
   "outputs": [
    {
     "name": "stdout",
     "output_type": "stream",
     "text": [
      "<class 'int'>\n",
      "<class 'int'>\n",
      "<class 'int'>\n",
      "<class 'int'>\n",
      "<class 'int'>\n",
      "<class 'int'>\n"
     ]
    }
   ],
   "source": [
    "# data types of elements of num_list\n",
    "for i in num_list:\n",
    "    for j in i:\n",
    "        \n",
    "        print(type(j))"
   ]
  },
  {
   "cell_type": "code",
   "execution_count": 9,
   "id": "69b0dfa6-bd14-44b4-8ca0-738ed7bc888e",
   "metadata": {},
   "outputs": [
    {
     "name": "stdout",
     "output_type": "stream",
     "text": [
      "<class 'numpy.int64'>\n",
      "<class 'numpy.int64'>\n",
      "<class 'numpy.int64'>\n",
      "<class 'numpy.int64'>\n",
      "<class 'numpy.int64'>\n"
     ]
    }
   ],
   "source": [
    "# data types of elements of array_list\n",
    "for i in array_list:\n",
    "    print(type(i))"
   ]
  },
  {
   "cell_type": "markdown",
   "id": "1816001c-77df-4d4a-af87-0276163f0ebb",
   "metadata": {},
   "source": [
    "Both are integer but data types of num_list is int but the data types of array_list is numpy.int64\n",
    "\n",
    "Python integers are flexible-sized.\n",
    "\n",
    "The numpy integers, on the other hand, are fixed-sized. This means there is a maximum value they can hold. This is defined by the number of bytes in the integer (int32 vs. int64), with more bytes holding larger numbers\n",
    "\n",
    "Q4. Write a code to find the following characteristics of variable, num_array: (i) shape (ii) size"
   ]
  },
  {
   "cell_type": "code",
   "execution_count": 10,
   "id": "359a5061-17cd-42e6-bebb-7aa1cad96310",
   "metadata": {},
   "outputs": [
    {
     "data": {
      "text/plain": [
       "(2, 3)"
      ]
     },
     "execution_count": 10,
     "metadata": {},
     "output_type": "execute_result"
    }
   ],
   "source": [
    "# shape : it declares the shape of array by showing (Row , Column) of array\n",
    "\n",
    "np.shape(num_array)"
   ]
  },
  {
   "cell_type": "code",
   "execution_count": 11,
   "id": "45333754-01e6-437a-b916-1ba4e737ef59",
   "metadata": {},
   "outputs": [
    {
     "data": {
      "text/plain": [
       "6"
      ]
     },
     "execution_count": 11,
     "metadata": {},
     "output_type": "execute_result"
    }
   ],
   "source": [
    "# size : it declares the total element present in the array\n",
    "\n",
    "np.size(num_array)"
   ]
  },
  {
   "cell_type": "markdown",
   "id": "61726e51-4ff0-4664-a309-44dc3706b430",
   "metadata": {},
   "source": [
    "Q5. Write a code to create numpy array of 3*3 matrix containing zeros only, using a numpy array creation function. [Hint: The size of the array will be 9 and the shape will be (3,3).]"
   ]
  },
  {
   "cell_type": "code",
   "execution_count": 12,
   "id": "8bd32a05-0985-435c-9d11-72235416cffa",
   "metadata": {},
   "outputs": [
    {
     "name": "stdout",
     "output_type": "stream",
     "text": [
      "<class 'numpy.ndarray'>\n"
     ]
    },
    {
     "data": {
      "text/plain": [
       "array([[0., 0., 0.],\n",
       "       [0., 0., 0.],\n",
       "       [0., 0., 0.]])"
      ]
     },
     "execution_count": 12,
     "metadata": {},
     "output_type": "execute_result"
    }
   ],
   "source": [
    "arr = np.zeros((3, 3))\n",
    "\n",
    "print(type(arr))\n",
    "arr"
   ]
  },
  {
   "cell_type": "code",
   "execution_count": 13,
   "id": "4484df6c-682c-4d1c-9792-d0feef918a5a",
   "metadata": {},
   "outputs": [
    {
     "data": {
      "text/plain": [
       "9"
      ]
     },
     "execution_count": 13,
     "metadata": {},
     "output_type": "execute_result"
    }
   ],
   "source": [
    "np.size(arr)"
   ]
  },
  {
   "cell_type": "code",
   "execution_count": 14,
   "id": "7e4328fe-b1ba-49e5-9422-3b24de810ada",
   "metadata": {},
   "outputs": [
    {
     "data": {
      "text/plain": [
       "(3, 3)"
      ]
     },
     "execution_count": 14,
     "metadata": {},
     "output_type": "execute_result"
    }
   ],
   "source": [
    "np.shape(arr)"
   ]
  },
  {
   "cell_type": "code",
   "execution_count": 15,
   "id": "900d4b2a-9c67-4f83-b41b-4db688e24e5c",
   "metadata": {},
   "outputs": [
    {
     "name": "stdout",
     "output_type": "stream",
     "text": [
      "<class 'numpy.matrix'>\n"
     ]
    },
    {
     "data": {
      "text/plain": [
       "matrix([[0., 0., 0.],\n",
       "        [0., 0., 0.],\n",
       "        [0., 0., 0.]])"
      ]
     },
     "execution_count": 15,
     "metadata": {},
     "output_type": "execute_result"
    }
   ],
   "source": [
    "# in term of matrix\n",
    "import numpy.matlib as nm\n",
    "print(type(nm.zeros((3,3))))\n",
    "nm.zeros((3,3))"
   ]
  },
  {
   "cell_type": "code",
   "execution_count": 16,
   "id": "3cbf6bbd-3107-4600-bae2-31c75c397b05",
   "metadata": {},
   "outputs": [
    {
     "name": "stdout",
     "output_type": "stream",
     "text": [
      "(3, 3)\n"
     ]
    },
    {
     "data": {
      "text/plain": [
       "9"
      ]
     },
     "execution_count": 16,
     "metadata": {},
     "output_type": "execute_result"
    }
   ],
   "source": [
    "print(nm.zeros((3,3)).shape)\n",
    "nm.zeros((3,3)).size"
   ]
  },
  {
   "cell_type": "markdown",
   "id": "0e77c91b-a901-425a-b464-6eaedcc7ee90",
   "metadata": {},
   "source": [
    "Q6. Create an identity matrix of shape (5,5) using numpy functions? [Hint: An identity matrix is a matrix containing 1 diagonally and other elements will be 0.]"
   ]
  },
  {
   "cell_type": "code",
   "execution_count": 17,
   "id": "7c8d93dc-e49b-45c9-b19e-7903ce2197ea",
   "metadata": {},
   "outputs": [
    {
     "name": "stdout",
     "output_type": "stream",
     "text": [
      "[[1. 0. 0. 0. 0.]\n",
      " [0. 1. 0. 0. 0.]\n",
      " [0. 0. 1. 0. 0.]\n",
      " [0. 0. 0. 1. 0.]\n",
      " [0. 0. 0. 0. 1.]]\n",
      "\n",
      "(5, 5)\n",
      "<class 'numpy.ndarray'>\n"
     ]
    }
   ],
   "source": [
    "# in term of array\n",
    "arr1=np.eye(5,5)\n",
    "\n",
    "print(arr1)\n",
    "print(\"\")\n",
    "print(np.shape(arr1))\n",
    "np.size(arr1)\n",
    "print(type(arr1))"
   ]
  },
  {
   "cell_type": "code",
   "execution_count": 18,
   "id": "107ea516-5a96-4ace-9fad-6b91c706cdd9",
   "metadata": {},
   "outputs": [
    {
     "name": "stdout",
     "output_type": "stream",
     "text": [
      "[[1. 0. 0. 0. 0.]\n",
      " [0. 1. 0. 0. 0.]\n",
      " [0. 0. 1. 0. 0.]\n",
      " [0. 0. 0. 1. 0.]\n",
      " [0. 0. 0. 0. 1.]]\n",
      "\n",
      "(5, 5)\n",
      "<class 'numpy.matrix'>\n"
     ]
    }
   ],
   "source": [
    "# in term of matrix\n",
    "mat=nm.eye(5,5)\n",
    "print(arr1)\n",
    "print(\"\")\n",
    "print(nm.shape(arr1))\n",
    "nm.size(arr1)\n",
    "print(type(mat))"
   ]
  }
 ],
 "metadata": {
  "kernelspec": {
   "display_name": "Python 3 (ipykernel)",
   "language": "python",
   "name": "python3"
  },
  "language_info": {
   "codemirror_mode": {
    "name": "ipython",
    "version": 3
   },
   "file_extension": ".py",
   "mimetype": "text/x-python",
   "name": "python",
   "nbconvert_exporter": "python",
   "pygments_lexer": "ipython3",
   "version": "3.10.8"
  }
 },
 "nbformat": 4,
 "nbformat_minor": 5
}
