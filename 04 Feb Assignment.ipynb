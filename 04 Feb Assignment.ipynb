{
 "cells": [
  {
   "cell_type": "markdown",
   "id": "c56e6712-93ab-4aad-b2a0-a4000790981f",
   "metadata": {},
   "source": [
    "Q1. Create a python program to sort the given list of tuples based on integer value using a\n",
    "lambda function.\n",
    "\n",
    "[('Sachin Tendulkar', 34357), ('Ricky Ponting', 27483), ('Jack Kallis', 25534), ('Virat Kohli', 24936)]"
   ]
  },
  {
   "cell_type": "code",
   "execution_count": 6,
   "id": "541b9f69-1165-4454-8bfb-c728a8ca6166",
   "metadata": {},
   "outputs": [],
   "source": [
    "l = [('Sachin Tendulkar', 34357), ('Ricky Ponting', 27483), ('Jack Kallis', 25534), ('Virat Kohli', 24936)]"
   ]
  },
  {
   "cell_type": "code",
   "execution_count": 13,
   "id": "da682d66-6629-498c-b3cc-1305cd65f9eb",
   "metadata": {},
   "outputs": [],
   "source": [
    "l.sort(key = lambda x : x[1] )"
   ]
  },
  {
   "cell_type": "code",
   "execution_count": 11,
   "id": "86f98c69-8345-4935-b09a-da6aefdf6cab",
   "metadata": {},
   "outputs": [
    {
     "data": {
      "text/plain": [
       "[('Virat Kohli', 24936),\n",
       " ('Jack Kallis', 25534),\n",
       " ('Ricky Ponting', 27483),\n",
       " ('Sachin Tendulkar', 34357)]"
      ]
     },
     "execution_count": 11,
     "metadata": {},
     "output_type": "execute_result"
    }
   ],
   "source": [
    "l"
   ]
  },
  {
   "cell_type": "markdown",
   "id": "c9f20517-1b4c-4207-9617-8acd72655b88",
   "metadata": {},
   "source": [
    "Q2. Write a Python Program to find the squares of all the numbers in the given list of integers using\n",
    "lambda and map functions.\n",
    "\n",
    "[1, 2, 3, 4, 5, 6, 7, 8, 9, 10]"
   ]
  },
  {
   "cell_type": "code",
   "execution_count": 29,
   "id": "3de5dd61-aa6f-4448-ab77-7932a5845d62",
   "metadata": {},
   "outputs": [],
   "source": [
    "l = [1,2,3,4,5,6,7,8,9,10]"
   ]
  },
  {
   "cell_type": "code",
   "execution_count": 5,
   "id": "551d328a-d4d8-4ab7-81b5-8e0eab5933b7",
   "metadata": {},
   "outputs": [],
   "source": [
    "square = list(map(lambda x : x**2 , l))"
   ]
  },
  {
   "cell_type": "code",
   "execution_count": 8,
   "id": "3458ebf6-2dee-4db7-9d53-c16288ed04f6",
   "metadata": {},
   "outputs": [
    {
     "data": {
      "text/plain": [
       "[1, 4, 9, 16, 25, 36, 49, 64, 81, 100]"
      ]
     },
     "execution_count": 8,
     "metadata": {},
     "output_type": "execute_result"
    }
   ],
   "source": [
    "square"
   ]
  },
  {
   "cell_type": "markdown",
   "id": "af864cc3-dadf-4543-adf5-475e8e82bb26",
   "metadata": {},
   "source": [
    "Q3. Write a python program to convert the given list of integers into a tuple of strings. Use map and\n",
    "lambda functions\n",
    "\n",
    "Given String: [1, 2, 3, 4, 5, 6, 7, 8, 9, 10]\n",
    "\n",
    "Expected output: ('1', '2', '3', '4', '5', '6', '7', '8', '9', '10')"
   ]
  },
  {
   "cell_type": "code",
   "execution_count": 9,
   "id": "08a6e870-891a-4e0a-bce8-84e16be3fb0f",
   "metadata": {},
   "outputs": [],
   "source": [
    "string = [1,2,3,4,5,6,7,8,9,10]"
   ]
  },
  {
   "cell_type": "code",
   "execution_count": 18,
   "id": "8b3e5ad0-60f1-4627-87f5-94d558a33ad8",
   "metadata": {},
   "outputs": [],
   "source": [
    "tuple_of_strings = tuple(map( str , string))"
   ]
  },
  {
   "cell_type": "code",
   "execution_count": 15,
   "id": "4cb7663e-9609-4291-845b-49611ed53105",
   "metadata": {},
   "outputs": [
    {
     "data": {
      "text/plain": [
       "('1', '2', '3', '4', '5', '6', '7', '8', '9', '10')"
      ]
     },
     "execution_count": 15,
     "metadata": {},
     "output_type": "execute_result"
    }
   ],
   "source": [
    "tuple_of_strings"
   ]
  },
  {
   "cell_type": "markdown",
   "id": "a0e65ef9-001d-4557-b8a0-016ca08f16d2",
   "metadata": {},
   "source": [
    "Q4. Write a python program using reduce function to compute the product of a list containing numbers\n",
    "from 1 to 25."
   ]
  },
  {
   "cell_type": "code",
   "execution_count": 22,
   "id": "240abdcd-260d-4bf6-891a-19f4f3a4bfed",
   "metadata": {},
   "outputs": [],
   "source": [
    "l = [1,2,3,4,5,6,7,8,9,10,11,12,13,14,15,16,17,18,19,20,21,22,23,24,25]"
   ]
  },
  {
   "cell_type": "code",
   "execution_count": 24,
   "id": "e5a913aa-d50c-4363-8836-2580452e745c",
   "metadata": {},
   "outputs": [],
   "source": [
    "from functools import reduce"
   ]
  },
  {
   "cell_type": "code",
   "execution_count": 28,
   "id": "51631445-f159-4982-97da-498920774f19",
   "metadata": {},
   "outputs": [
    {
     "data": {
      "text/plain": [
       "15511210043330985984000000"
      ]
     },
     "execution_count": 28,
     "metadata": {},
     "output_type": "execute_result"
    }
   ],
   "source": [
    "reduce(lambda x , y : x * y , l)"
   ]
  },
  {
   "cell_type": "markdown",
   "id": "5ff7791a-db75-40a9-b1dc-fdb92861e1bc",
   "metadata": {},
   "source": [
    "Q5. Write a python program to filter the numbers in a given list that are divisible by 2 and 3 using the\n",
    "filter function.\n",
    "\n",
    "[2, 3, 6, 9, 27, 60, 90, 120, 55, 46]"
   ]
  },
  {
   "cell_type": "code",
   "execution_count": 39,
   "id": "cc768026-936e-4ecb-8111-748c9df5108c",
   "metadata": {},
   "outputs": [],
   "source": [
    "l1 = [2,3,6,9,27,60,90,120,55,46]"
   ]
  },
  {
   "cell_type": "code",
   "execution_count": 50,
   "id": "d666b84f-0c70-4938-800b-e4f8939ba0b7",
   "metadata": {},
   "outputs": [
    {
     "data": {
      "text/plain": [
       "[6, 60, 90, 120]"
      ]
     },
     "execution_count": 50,
     "metadata": {},
     "output_type": "execute_result"
    }
   ],
   "source": [
    "list(filter(lambda x : x%3==0 and x%2==0 , l))"
   ]
  },
  {
   "cell_type": "markdown",
   "id": "45e2fce2-b4ae-4cc6-bb77-d1f1c936ac44",
   "metadata": {},
   "source": [
    "Q6. Write a python program to find palindromes in the given list of strings using lambda and filter\n",
    "function.\n",
    "\n",
    "['python', 'php', 'aba', 'radar', 'level']"
   ]
  },
  {
   "cell_type": "code",
   "execution_count": 51,
   "id": "d769adb1-72ef-4ea3-b3e2-61564abff649",
   "metadata": {},
   "outputs": [],
   "source": [
    "l2 = ['python','php','aba','radar','level']"
   ]
  },
  {
   "cell_type": "code",
   "execution_count": 53,
   "id": "7529adc2-4050-4adb-b1a6-210545595db6",
   "metadata": {},
   "outputs": [],
   "source": [
    "palindrome_no = list(filter(lambda x: (x == \"\".join(reversed(x))), l2)) "
   ]
  },
  {
   "cell_type": "code",
   "execution_count": 56,
   "id": "75269bc6-569e-44f6-a373-6031370eb776",
   "metadata": {},
   "outputs": [
    {
     "data": {
      "text/plain": [
       "['php', 'aba', 'radar', 'level']"
      ]
     },
     "execution_count": 56,
     "metadata": {},
     "output_type": "execute_result"
    }
   ],
   "source": [
    "palindrome_no"
   ]
  }
 ],
 "metadata": {
  "kernelspec": {
   "display_name": "Python 3 (ipykernel)",
   "language": "python",
   "name": "python3"
  },
  "language_info": {
   "codemirror_mode": {
    "name": "ipython",
    "version": 3
   },
   "file_extension": ".py",
   "mimetype": "text/x-python",
   "name": "python",
   "nbconvert_exporter": "python",
   "pygments_lexer": "ipython3",
   "version": "3.10.8"
  }
 },
 "nbformat": 4,
 "nbformat_minor": 5
}
