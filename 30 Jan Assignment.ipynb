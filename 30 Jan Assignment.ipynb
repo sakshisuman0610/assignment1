{
 "cells": [
  {
   "cell_type": "markdown",
   "id": "6f8a54cc-0840-4604-a5fc-c65b0a297e0d",
   "metadata": {},
   "source": [
    "1."
   ]
  },
  {
   "cell_type": "code",
   "execution_count": 1,
   "id": "eabc81b4-db43-4d12-9421-ca5188287f7d",
   "metadata": {},
   "outputs": [
    {
     "name": "stdin",
     "output_type": "stream",
     "text": [
      "Enter marks -  80\n"
     ]
    },
    {
     "name": "stdout",
     "output_type": "stream",
     "text": [
      "C\n"
     ]
    }
   ],
   "source": [
    "marks = int(input(\"Enter marks - \"))\n",
    "\n",
    "if (marks > 90) :\n",
    "    print(\"A\")\n",
    "elif (marks > 80 and marks <= 90) :\n",
    "    print(\"B\")\n",
    "elif (marks >= 60 and marks <= 80) :\n",
    "    print(\"C\")\n",
    "elif (marks < 60) :\n",
    "    print(\"D\")\n"
   ]
  },
  {
   "cell_type": "markdown",
   "id": "3f0b85c7-4257-4c74-a18c-d22ba21ea855",
   "metadata": {},
   "source": [
    "2."
   ]
  },
  {
   "cell_type": "code",
   "execution_count": 2,
   "id": "91128929-9f61-4cb2-b905-1e468433a735",
   "metadata": {},
   "outputs": [
    {
     "name": "stdin",
     "output_type": "stream",
     "text": [
      "Enter Cost price of a bike = Rs  600000\n"
     ]
    },
    {
     "name": "stdout",
     "output_type": "stream",
     "text": [
      "Road tax to be paid = 15%\n"
     ]
    }
   ],
   "source": [
    "CP = int(input(\"Enter Cost price of a bike = Rs \"))\n",
    "\n",
    "if (CP > 100000) :\n",
    "    print(\"Road tax to be paid = 15%\")\n",
    "elif (CP > 50000 and CP <= 100000) :\n",
    "    print(\"Road tax to be paid = 10%\")\n",
    "elif (CP <= 50000) :\n",
    "    print(\"Road tax to be paid = 5%\")"
   ]
  },
  {
   "cell_type": "markdown",
   "id": "8c6cfb58-ba76-4635-b7b7-8fdf5744256b",
   "metadata": {},
   "source": [
    "3."
   ]
  },
  {
   "cell_type": "code",
   "execution_count": 2,
   "id": "c0c0cb32-ba67-41b1-9b72-0e77ed7a7c70",
   "metadata": {},
   "outputs": [
    {
     "name": "stdin",
     "output_type": "stream",
     "text": [
      "Enter city =  delhi\n"
     ]
    },
    {
     "name": "stdout",
     "output_type": "stream",
     "text": [
      "Monument = Red Fort\n"
     ]
    }
   ],
   "source": [
    "city = input(\"Enter city = \")\n",
    "\n",
    "if (city == \"delhi\") :\n",
    "    print(\"Monument = Red Fort\")\n",
    "elif (city == \"agra\") :\n",
    "    print(\"Monument = Taj Mahal\")\n",
    "elif (city == \"jaipur\") :\n",
    "    print(\"Monument = Jal Mahal\")\n",
    "else :\n",
    "    print(\"Enter correct name of the city\")"
   ]
  },
  {
   "cell_type": "markdown",
   "id": "0f0c575e-29ea-472d-b267-e551f3d555b9",
   "metadata": {},
   "source": [
    "4."
   ]
  },
  {
   "cell_type": "code",
   "execution_count": 4,
   "id": "04417d81-c397-48e9-89e4-53ac1009a616",
   "metadata": {},
   "outputs": [
    {
     "name": "stdin",
     "output_type": "stream",
     "text": [
      "Enter a no. -  67\n"
     ]
    },
    {
     "name": "stdout",
     "output_type": "stream",
     "text": [
      "Not divisible by 3\n"
     ]
    }
   ],
   "source": [
    "num = int(input(\"Enter a no. - \"))\n",
    "\n",
    "if (num % 3 == 0) :\n",
    "    print(\"Divisible by 3\")\n",
    "else :\n",
    "    print(\"Not divisible by 3\")"
   ]
  },
  {
   "cell_type": "markdown",
   "id": "d9f1961e-119f-4fe9-9101-6531fc35fda7",
   "metadata": {},
   "source": [
    "5."
   ]
  },
  {
   "cell_type": "markdown",
   "id": "65dfa71f-623b-4422-9b50-2fb3c0caac77",
   "metadata": {},
   "source": [
    "A While loop in Python allows a part of the code to be executed repeatedly as long as a given condition is true.\n",
    "The While loop in Python is also called a pre-tested loop. \n",
    "It is typically used when the number of iterations is not known."
   ]
  },
  {
   "cell_type": "markdown",
   "id": "4e0636d8-b688-4e59-a2e7-1e946ed6058b",
   "metadata": {},
   "source": [
    "Example :- "
   ]
  },
  {
   "cell_type": "code",
   "execution_count": 2,
   "id": "7457e207-8003-49cc-8b72-134c9f9361af",
   "metadata": {},
   "outputs": [
    {
     "name": "stdout",
     "output_type": "stream",
     "text": [
      "1\n",
      "2\n",
      "3\n",
      "4\n"
     ]
    }
   ],
   "source": [
    "i = 1\n",
    "\n",
    "while i < 5 :\n",
    "    print(i)\n",
    "    i += 1"
   ]
  },
  {
   "cell_type": "markdown",
   "id": "ba46328d-2607-496d-8fd2-10f76fd26f62",
   "metadata": {},
   "source": [
    "6."
   ]
  },
  {
   "cell_type": "code",
   "execution_count": 3,
   "id": "35d76a26-78f7-4e1f-86f9-ae1f7590f2ce",
   "metadata": {},
   "outputs": [
    {
     "name": "stdin",
     "output_type": "stream",
     "text": [
      "Enter number of rows :  5\n"
     ]
    },
    {
     "name": "stdout",
     "output_type": "stream",
     "text": [
      "* \n",
      "* * \n",
      "* * * \n",
      "* * * * \n",
      "* * * * * \n"
     ]
    }
   ],
   "source": [
    "# FIRST PATTERN\n",
    "\n",
    "n = int(input('Enter number of rows : '))\n",
    "\n",
    "i = 1\n",
    "while i <= n :\n",
    "    j = 1\n",
    "    while j <= i:\n",
    "        print(\"*\", end = \" \")\n",
    "        j += 1\n",
    "    print()\n",
    "    i += 1"
   ]
  },
  {
   "cell_type": "code",
   "execution_count": 4,
   "id": "757eaa9c-8af8-4432-8651-cc06505d1316",
   "metadata": {},
   "outputs": [
    {
     "name": "stdin",
     "output_type": "stream",
     "text": [
      "Enter number of rows :  5\n"
     ]
    },
    {
     "name": "stdout",
     "output_type": "stream",
     "text": [
      "* * * * * \n",
      "* * * * \n",
      "* * * \n",
      "* * \n",
      "* \n"
     ]
    }
   ],
   "source": [
    "# SECOND PATTERN\n",
    "\n",
    "n = int(input('Enter number of rows : '))\n",
    " \n",
    "i = 1\n",
    "while i <= n :\n",
    "    j = n\n",
    "    while j >= i:\n",
    "        print(\"*\", end = \" \")\n",
    "        j -= 1\n",
    "    print()\n",
    "    i += 1"
   ]
  },
  {
   "cell_type": "code",
   "execution_count": 6,
   "id": "7359467e-42c5-465d-a826-ac8bedd872e9",
   "metadata": {},
   "outputs": [
    {
     "name": "stdin",
     "output_type": "stream",
     "text": [
      "Enter number of rows :  5\n"
     ]
    },
    {
     "name": "stdout",
     "output_type": "stream",
     "text": [
      "1 \n",
      "2 3 \n",
      "4 5 6 \n",
      "7 8 9 10 \n",
      "11 12 13 14 15 \n"
     ]
    }
   ],
   "source": [
    "# THIRD PATTERN\n",
    "\n",
    "n = int(input('Enter number of rows : '))\n",
    " \n",
    "k = 1\n",
    "i = 1\n",
    "while i <= n :\n",
    "    j = 1\n",
    "    while j <= i:\n",
    "        print((k), end = \" \")\n",
    "        j += 1\n",
    "        k += 1\n",
    "    print()\n",
    "    i += 1"
   ]
  },
  {
   "cell_type": "markdown",
   "id": "df32b2df-c1ad-4c37-bc29-4e094f998cb1",
   "metadata": {},
   "source": [
    "7."
   ]
  },
  {
   "cell_type": "code",
   "execution_count": 11,
   "id": "42682809-c84e-44ab-aadf-6aa71168c4be",
   "metadata": {},
   "outputs": [
    {
     "name": "stdout",
     "output_type": "stream",
     "text": [
      "10\n",
      "9\n",
      "8\n",
      "7\n",
      "6\n",
      "5\n",
      "4\n",
      "3\n",
      "2\n",
      "1\n"
     ]
    }
   ],
   "source": [
    "n=10\n",
    "while (n > 0) :\n",
    "    print (n)\n",
    "    n = n-1"
   ]
  },
  {
   "cell_type": "code",
   "execution_count": null,
   "id": "5137817d-48fc-4b58-a7f5-50183d5d2251",
   "metadata": {},
   "outputs": [],
   "source": []
  },
  {
   "cell_type": "code",
   "execution_count": null,
   "id": "d94f68f0-b675-4192-9d03-285465abe733",
   "metadata": {},
   "outputs": [],
   "source": []
  }
 ],
 "metadata": {
  "kernelspec": {
   "display_name": "Python 3 (ipykernel)",
   "language": "python",
   "name": "python3"
  },
  "language_info": {
   "codemirror_mode": {
    "name": "ipython",
    "version": 3
   },
   "file_extension": ".py",
   "mimetype": "text/x-python",
   "name": "python",
   "nbconvert_exporter": "python",
   "pygments_lexer": "ipython3",
   "version": "3.10.8"
  }
 },
 "nbformat": 4,
 "nbformat_minor": 5
}
