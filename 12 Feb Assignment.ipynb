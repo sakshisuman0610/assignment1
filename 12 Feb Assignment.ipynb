{
 "cells": [
  {
   "cell_type": "markdown",
   "id": "f8dcd803-5e05-425d-9039-498dc25cf282",
   "metadata": {},
   "source": [
    "Q1. What is an Exception in python? Write the difference between Exceptions and syntax errors."
   ]
  },
  {
   "cell_type": "markdown",
   "id": "20a0bcb7-f2bd-41f6-bb20-373f1d27a035",
   "metadata": {},
   "source": [
    "An exception in Python is an incident that happens while executing a program that causes the regular course of the program's commands to be disrupted. When a Python code comes across a condition it can't handle, it raises an exception. An object in Python that describes an error is called an exception.\n",
    "\n",
    "When a Python code throws an exception, it has two options: handle the exception immediately or stop and quit."
   ]
  },
  {
   "cell_type": "markdown",
   "id": "5b53e5b0-ad3a-4105-981b-77d3be854310",
   "metadata": {},
   "source": [
    "a) Syntax errors :-"
   ]
  },
  {
   "cell_type": "markdown",
   "id": "23768663-3312-4b4b-83e7-d6434a37145e",
   "metadata": {},
   "source": [
    "Syntax errors are perhaps the most common kind of complaint you get while you are still learning Python.\n",
    "\n",
    "Python returns the offending line and displays a little ‘arrow’ pointing at the earliest point in the line where the error was detected.\n",
    "\n",
    "The error is caused by (or at least detected at) the function, command, or token preceding the arrow.\n",
    "\n",
    "In the example above, the error is detected at the function print(), since a colon (':') is missing before theprint()function and after the while Truestatement. File name and line number are also printed so you know where to look in case the input came from a script."
   ]
  },
  {
   "cell_type": "markdown",
   "id": "5e56bfbb-a5e1-4c86-ae4b-cbe2dc528976",
   "metadata": {},
   "source": [
    "Example :-"
   ]
  },
  {
   "cell_type": "code",
   "execution_count": 1,
   "id": "4220aba8-c722-4cc8-a2b9-ee181052a3c9",
   "metadata": {},
   "outputs": [
    {
     "ename": "SyntaxError",
     "evalue": "invalid syntax (558363064.py, line 1)",
     "output_type": "error",
     "traceback": [
      "\u001b[0;36m  Cell \u001b[0;32mIn[1], line 1\u001b[0;36m\u001b[0m\n\u001b[0;31m    while True print('Hello world')\u001b[0m\n\u001b[0m               ^\u001b[0m\n\u001b[0;31mSyntaxError\u001b[0m\u001b[0;31m:\u001b[0m invalid syntax\n"
     ]
    }
   ],
   "source": [
    "while True print('Hello world')\n",
    "  File \"<stdin>\", line 1\n",
    "    while True print('Hello world')"
   ]
  },
  {
   "cell_type": "markdown",
   "id": "93fef5aa-f479-4942-affb-8ebe25a8aee9",
   "metadata": {},
   "source": [
    "b) Exceptions :-"
   ]
  },
  {
   "cell_type": "markdown",
   "id": "350a3ff8-f1a6-4011-84b5-3f9923030a93",
   "metadata": {},
   "source": [
    "Even if a statement or expression is syntactically correct, it may cause an error when an attempt is made to execute it.\n",
    "\n",
    "Errors detected during code execution are called exceptions and are not unconditionally fatal. Most exceptions are not handled by programs, however, and result in error messages as shown here:"
   ]
  },
  {
   "cell_type": "code",
   "execution_count": 5,
   "id": "1d1143e8-2778-4834-8482-d1dd3481a3d7",
   "metadata": {},
   "outputs": [
    {
     "ename": "ZeroDivisionError",
     "evalue": "division by zero",
     "output_type": "error",
     "traceback": [
      "\u001b[0;31m---------------------------------------------------------------------------\u001b[0m",
      "\u001b[0;31mZeroDivisionError\u001b[0m                         Traceback (most recent call last)",
      "Cell \u001b[0;32mIn[5], line 1\u001b[0m\n\u001b[0;32m----> 1\u001b[0m \u001b[38;5;241m10\u001b[39m \u001b[38;5;241m*\u001b[39m (\u001b[38;5;241;43m1\u001b[39;49m\u001b[38;5;241;43m/\u001b[39;49m\u001b[38;5;241;43m0\u001b[39;49m)\n",
      "\u001b[0;31mZeroDivisionError\u001b[0m: division by zero"
     ]
    }
   ],
   "source": [
    "10 * (1/0)"
   ]
  },
  {
   "cell_type": "code",
   "execution_count": 3,
   "id": "620f4edf-be5e-4970-a688-c877249d8ec1",
   "metadata": {},
   "outputs": [
    {
     "ename": "NameError",
     "evalue": "name 'spam' is not defined",
     "output_type": "error",
     "traceback": [
      "\u001b[0;31m---------------------------------------------------------------------------\u001b[0m",
      "\u001b[0;31mNameError\u001b[0m                                 Traceback (most recent call last)",
      "Cell \u001b[0;32mIn[3], line 1\u001b[0m\n\u001b[0;32m----> 1\u001b[0m \u001b[38;5;241m4\u001b[39m \u001b[38;5;241m+\u001b[39m \u001b[43mspam\u001b[49m\u001b[38;5;241m*\u001b[39m\u001b[38;5;241m3\u001b[39m\n",
      "\u001b[0;31mNameError\u001b[0m: name 'spam' is not defined"
     ]
    }
   ],
   "source": [
    "4 + spam*3"
   ]
  },
  {
   "cell_type": "code",
   "execution_count": 4,
   "id": "2e3f4ab1-b65d-44e2-b89a-f2e3e5b98602",
   "metadata": {},
   "outputs": [
    {
     "ename": "TypeError",
     "evalue": "can only concatenate str (not \"int\") to str",
     "output_type": "error",
     "traceback": [
      "\u001b[0;31m---------------------------------------------------------------------------\u001b[0m",
      "\u001b[0;31mTypeError\u001b[0m                                 Traceback (most recent call last)",
      "Cell \u001b[0;32mIn[4], line 1\u001b[0m\n\u001b[0;32m----> 1\u001b[0m \u001b[38;5;124;43m'\u001b[39;49m\u001b[38;5;124;43m2\u001b[39;49m\u001b[38;5;124;43m'\u001b[39;49m\u001b[43m \u001b[49m\u001b[38;5;241;43m+\u001b[39;49m\u001b[43m \u001b[49m\u001b[38;5;241;43m2\u001b[39;49m\n",
      "\u001b[0;31mTypeError\u001b[0m: can only concatenate str (not \"int\") to str"
     ]
    }
   ],
   "source": [
    "'2' + 2"
   ]
  },
  {
   "cell_type": "markdown",
   "id": "6320d62b-945e-4f19-849f-075467ebc3f5",
   "metadata": {},
   "source": [
    "The last line of the error message indicates what happened. Here you see three different exceptions and the type is printed as part of the message. The types in the example are ZeroDivisionError, NameError and TypeError.\n",
    "\n",
    "The string that denotes the exception type is built into the language.This is true for all built-in exceptions, but need not be true for user-defined exceptions (although it is a useful convention). The rest of the line provides detail based on the type of exception and what caused it."
   ]
  },
  {
   "cell_type": "markdown",
   "id": "bcf4e671-9fdf-4935-bd7b-373c05dc920e",
   "metadata": {},
   "source": [
    "Q2. What happens when an exception is not hanndled ? Explain with an example."
   ]
  },
  {
   "cell_type": "markdown",
   "id": "3691f38f-b1e9-47af-8b85-48b341524f65",
   "metadata": {},
   "source": [
    "Exceptions are errors that are detected during execution. Whenever there is an error in a program, exceptions are raised.\n",
    "\n",
    "If these exceptions are not handled, it drives the program into a halt state. Exception handling in python is required to prevent the program from terminating abruptly."
   ]
  },
  {
   "cell_type": "markdown",
   "id": "2fe09c8e-2bff-43aa-891e-be3eb8a039bd",
   "metadata": {},
   "source": [
    "a) Finally :-\n"
   ]
  },
  {
   "cell_type": "markdown",
   "id": "3ca3cf7c-1883-4020-8085-fcf68e2ea15a",
   "metadata": {},
   "source": [
    "If an error occurs while handling something in an except block, the finally block still gives us a chance to handle the situation our way.\n",
    " Once an exception/error is raised in the except block, finally block is triggered but the program still goes into a halt state post to that and the flow is broken."
   ]
  },
  {
   "cell_type": "code",
   "execution_count": 3,
   "id": "5f526537-f0e8-4a28-90f6-1360215cc231",
   "metadata": {},
   "outputs": [
    {
     "name": "stdout",
     "output_type": "stream",
     "text": [
      "finally will execute itself in any situation\n"
     ]
    },
    {
     "ename": "FileNotFoundError",
     "evalue": "[Errno 2] No such file or directory: 'text2.txt'",
     "output_type": "error",
     "traceback": [
      "\u001b[0;31m---------------------------------------------------------------------------\u001b[0m",
      "\u001b[0;31mFileNotFoundError\u001b[0m                         Traceback (most recent call last)",
      "Cell \u001b[0;32mIn[3], line 2\u001b[0m\n\u001b[1;32m      1\u001b[0m \u001b[38;5;28;01mtry\u001b[39;00m:\n\u001b[0;32m----> 2\u001b[0m     f\u001b[38;5;241m=\u001b[39m\u001b[38;5;28;43mopen\u001b[39;49m\u001b[43m(\u001b[49m\u001b[38;5;124;43m\"\u001b[39;49m\u001b[38;5;124;43mtext2.txt\u001b[39;49m\u001b[38;5;124;43m\"\u001b[39;49m\u001b[43m \u001b[49m\u001b[43m,\u001b[49m\u001b[43m \u001b[49m\u001b[38;5;124;43m'\u001b[39;49m\u001b[38;5;124;43mr\u001b[39;49m\u001b[38;5;124;43m'\u001b[39;49m\u001b[43m)\u001b[49m\n\u001b[1;32m      3\u001b[0m     f\u001b[38;5;241m.\u001b[39mwrite(\u001b[38;5;124m\"\u001b[39m\u001b[38;5;124mwrite something\u001b[39m\u001b[38;5;124m\"\u001b[39m)\n\u001b[1;32m      4\u001b[0m \u001b[38;5;28;01mfinally\u001b[39;00m:\n",
      "File \u001b[0;32m/opt/conda/lib/python3.10/site-packages/IPython/core/interactiveshell.py:282\u001b[0m, in \u001b[0;36m_modified_open\u001b[0;34m(file, *args, **kwargs)\u001b[0m\n\u001b[1;32m    275\u001b[0m \u001b[38;5;28;01mif\u001b[39;00m file \u001b[38;5;129;01min\u001b[39;00m {\u001b[38;5;241m0\u001b[39m, \u001b[38;5;241m1\u001b[39m, \u001b[38;5;241m2\u001b[39m}:\n\u001b[1;32m    276\u001b[0m     \u001b[38;5;28;01mraise\u001b[39;00m \u001b[38;5;167;01mValueError\u001b[39;00m(\n\u001b[1;32m    277\u001b[0m         \u001b[38;5;124mf\u001b[39m\u001b[38;5;124m\"\u001b[39m\u001b[38;5;124mIPython won\u001b[39m\u001b[38;5;124m'\u001b[39m\u001b[38;5;124mt let you open fd=\u001b[39m\u001b[38;5;132;01m{\u001b[39;00mfile\u001b[38;5;132;01m}\u001b[39;00m\u001b[38;5;124m by default \u001b[39m\u001b[38;5;124m\"\u001b[39m\n\u001b[1;32m    278\u001b[0m         \u001b[38;5;124m\"\u001b[39m\u001b[38;5;124mas it is likely to crash IPython. If you know what you are doing, \u001b[39m\u001b[38;5;124m\"\u001b[39m\n\u001b[1;32m    279\u001b[0m         \u001b[38;5;124m\"\u001b[39m\u001b[38;5;124myou can use builtins\u001b[39m\u001b[38;5;124m'\u001b[39m\u001b[38;5;124m open.\u001b[39m\u001b[38;5;124m\"\u001b[39m\n\u001b[1;32m    280\u001b[0m     )\n\u001b[0;32m--> 282\u001b[0m \u001b[38;5;28;01mreturn\u001b[39;00m \u001b[43mio_open\u001b[49m\u001b[43m(\u001b[49m\u001b[43mfile\u001b[49m\u001b[43m,\u001b[49m\u001b[43m \u001b[49m\u001b[38;5;241;43m*\u001b[39;49m\u001b[43margs\u001b[49m\u001b[43m,\u001b[49m\u001b[43m \u001b[49m\u001b[38;5;241;43m*\u001b[39;49m\u001b[38;5;241;43m*\u001b[39;49m\u001b[43mkwargs\u001b[49m\u001b[43m)\u001b[49m\n",
      "\u001b[0;31mFileNotFoundError\u001b[0m: [Errno 2] No such file or directory: 'text2.txt'"
     ]
    }
   ],
   "source": [
    "try:\n",
    "    f=open(\"text2.txt\" , 'r')\n",
    "    f.write(\"write something\")\n",
    "finally:\n",
    "    print(\"finally will execute itself in any situation\")"
   ]
  },
  {
   "cell_type": "markdown",
   "id": "62bd57f8-33ad-4066-9148-75b4c1892368",
   "metadata": {},
   "source": [
    "b) Else :-"
   ]
  },
  {
   "cell_type": "markdown",
   "id": "11d5b7f4-58d8-4913-8c80-ec7a4f9f99cc",
   "metadata": {},
   "source": [
    "Sometimes you might have a use case where you want to run some specific code only when there are no exceptions. For such scenarios, the else keyword can be used with the try block. this else keyword and its block are optional."
   ]
  },
  {
   "cell_type": "markdown",
   "id": "cfaf4b9c-1b7c-41c0-9c86-a75c292fe4d1",
   "metadata": {},
   "source": [
    "When an exception is not raised, it flows into the optional else block."
   ]
  },
  {
   "cell_type": "code",
   "execution_count": 5,
   "id": "6b271972-d36a-4e52-a7ec-67fca531ba49",
   "metadata": {},
   "outputs": [
    {
     "name": "stdout",
     "output_type": "stream",
     "text": [
      "this will be executed once your try will execute without error\n"
     ]
    }
   ],
   "source": [
    "try:\n",
    "    f=open(\"text1.txt\" , 'w')\n",
    "    f.write(\"write into my file\")\n",
    "    f.close()\n",
    "except Exception as e :\n",
    "    print(\"this is my except block\",e)\n",
    "else :\n",
    "    f.close()\n",
    "    print(\"this will be executed once your try will execute without error\")"
   ]
  },
  {
   "cell_type": "markdown",
   "id": "7720c2b3-8515-4b37-828b-be0ccad4f7d3",
   "metadata": {},
   "source": [
    "c) Try  :-"
   ]
  },
  {
   "cell_type": "markdown",
   "id": "b53824ef-a19b-413e-a38e-1da0843d2ac7",
   "metadata": {},
   "source": [
    "Except will only work if try is not executed or it will not through any error , if try is excecuted properly except will not work and no need to handle exception in this case."
   ]
  },
  {
   "cell_type": "code",
   "execution_count": 7,
   "id": "06841429-4fa0-4236-8425-af36f2976e3e",
   "metadata": {},
   "outputs": [],
   "source": [
    "try:\n",
    "    f=open(\"text1.txt\" , 'w')\n",
    "    f.write(\"write into my file\")\n",
    "    f.close()\n",
    "except Exception as e :\n",
    "    print(\"this is my except block\",e)"
   ]
  },
  {
   "cell_type": "markdown",
   "id": "6391e9b4-59e3-4522-bf34-7a16df418794",
   "metadata": {},
   "source": [
    "Q3. Which Python statements are used to catch and handle exceptions? Explain with an example."
   ]
  },
  {
   "cell_type": "markdown",
   "id": "5e58fe45-2470-4584-8473-61291b4ff93c",
   "metadata": {},
   "source": [
    "The try...except block is used to handle exceptions in Python.\n",
    "\n",
    "When an exception occurs, it is caught by the except block. The except block cannot be used without the try block.\n"
   ]
  },
  {
   "cell_type": "code",
   "execution_count": 8,
   "id": "a1d129af-50e0-4585-92ba-ba7cb852e92b",
   "metadata": {},
   "outputs": [
    {
     "name": "stdout",
     "output_type": "stream",
     "text": [
      "Error: Denominator cannot be 0.\n"
     ]
    }
   ],
   "source": [
    "try:\n",
    "    numerator = 10\n",
    "    denominator = 0\n",
    "\n",
    "    result = numerator/denominator\n",
    "\n",
    "    print(result)\n",
    "except:\n",
    "    print(\"Error: Denominator cannot be 0.\")"
   ]
  },
  {
   "cell_type": "markdown",
   "id": "70ab4de5-2294-4ba2-949f-d94399cd86dd",
   "metadata": {},
   "source": [
    "In the example, we are trying to divide a number by 0. this code generates an exception.\n",
    "\n",
    "To handle the exception, we have put the code, result = numerator/denominator inside the try block. Now when an exception occurs, the rest of the code inside the try block is skipped.\n",
    "\n",
    "The except block catches the exception and statements inside the except block are executed.\n",
    "\n",
    "If none of the statements in the try block generates an exception, the except block is skipped."
   ]
  },
  {
   "cell_type": "markdown",
   "id": "6135ffe4-63f3-4ffc-83ce-024363213cb1",
   "metadata": {},
   "source": [
    "For each try block, there can be zero or more except blocks. Multiple except blocks allow us to handle each exception differently.\n",
    "\n",
    "The argument type of each except block indicates the type of exception that can be handled by it. \n",
    "\n",
    "For example :-"
   ]
  },
  {
   "cell_type": "code",
   "execution_count": 9,
   "id": "19de6f80-2dc9-449b-b4e4-f25f10d46f8f",
   "metadata": {},
   "outputs": [
    {
     "name": "stdout",
     "output_type": "stream",
     "text": [
      "Index Out of Bound.\n"
     ]
    }
   ],
   "source": [
    "try:\n",
    "    \n",
    "    even_numbers = [2,4,6,8]\n",
    "    print(even_numbers[5])\n",
    "\n",
    "except ZeroDivisionError:\n",
    "    print(\"Denominator cannot be 0.\")\n",
    "    \n",
    "except IndexError:\n",
    "    print(\"Index Out of Bound.\")"
   ]
  },
  {
   "cell_type": "markdown",
   "id": "1a0e4d71-da73-418e-b698-cc23b7212bb0",
   "metadata": {},
   "source": [
    "Q4. Explain with an example:\n",
    "\n",
    "a) try and else\n",
    " \n",
    "b) finally\n",
    " \n",
    "c) raise"
   ]
  },
  {
   "cell_type": "markdown",
   "id": "4b981518-7593-4e5d-897f-9b8b14df2cff",
   "metadata": {},
   "source": [
    "a) try and else :-"
   ]
  },
  {
   "cell_type": "markdown",
   "id": "33d7d00a-db2b-45a1-917f-7a300c0334ff",
   "metadata": {},
   "source": [
    "Try: This block will test the excepted error to occur\n",
    "\n",
    "Except:  Here you can handle the error\n",
    "\n",
    "Else: If there is no exception then this block will be executed"
   ]
  },
  {
   "cell_type": "markdown",
   "id": "c97ff11c-f9f1-427c-b584-a9833de3f214",
   "metadata": {},
   "source": [
    "First try clause is executed i.e. the code between try and except clause.\n",
    "\n",
    "If there is no exception, then only try clause will run, except clause will not get executed.\n",
    "\n",
    "If any exception occurs, the try clause will be skipped and except clause will run.\n",
    "\n",
    "If any exception occurs, but the except clause within the code doesn’t handle it, it is passed on to the outer try statements. If the exception is left unhandled, then the execution stops.\n",
    "\n",
    "The code enters the else block only if the try clause does not raise an exception.\n",
    "\n",
    "You can use the else keyword to define a block of code to be executed if no errors were raised."
   ]
  },
  {
   "cell_type": "code",
   "execution_count": 11,
   "id": "40db34d0-2015-4185-83c7-7b6f3492d4b8",
   "metadata": {},
   "outputs": [
    {
     "name": "stdout",
     "output_type": "stream",
     "text": [
      "Hello\n",
      "Nothing went wrong\n"
     ]
    }
   ],
   "source": [
    "try:\n",
    "    print(\"Hello\")\n",
    "except:\n",
    "    print(\"Something went wrong\")\n",
    "else:\n",
    "    print(\"Nothing went wrong\")"
   ]
  },
  {
   "cell_type": "markdown",
   "id": "9717b35c-41d3-42e9-8462-796d5941e3fd",
   "metadata": {},
   "source": [
    "b) Finally :-"
   ]
  },
  {
   "cell_type": "markdown",
   "id": "f970d84b-f7db-41a7-8c06-38e10c389282",
   "metadata": {},
   "source": [
    "Python provides a keyword finally, which is always executed after try and except blocks. The finally block always executes after normal termination of try block or after try block terminates due to some exception. Even if you return in the except block still the finally block will execute."
   ]
  },
  {
   "cell_type": "markdown",
   "id": "8f82d259-eb82-4aa0-b0db-fe118ab8f3e5",
   "metadata": {},
   "source": [
    "The finally block, if specified, will be executed regardless if the try block raises an error or not."
   ]
  },
  {
   "cell_type": "markdown",
   "id": "212ffe8f-023c-4bc7-963b-b96341bdc570",
   "metadata": {},
   "source": [
    "The finally keyword is used in try...except blocks. It defines a block of code to run when the try...except...else block is final.\n",
    "\n",
    "The finally block will be executed no matter if the try block raises an error or not.\n",
    "\n",
    "This can be useful to close objects and clean up resources."
   ]
  },
  {
   "cell_type": "markdown",
   "id": "6e51f763-c6cd-43ad-9402-71c888eee686",
   "metadata": {},
   "source": [
    "Finally block is always executed after leaving the try statement. In case if some exception was not handled by except block, it is re-raised after execution of finally block.\n",
    "\n",
    "finally block is used to deallocate the system resources.\n",
    "\n",
    "One can use finally just after try without using except block, but no exception is handled in that case."
   ]
  },
  {
   "cell_type": "code",
   "execution_count": 12,
   "id": "bfb0b6f4-ed0e-4673-bcfd-b629e26894a5",
   "metadata": {},
   "outputs": [
    {
     "name": "stdout",
     "output_type": "stream",
     "text": [
      "Can't divide by zero\n",
      "This is always executed\n"
     ]
    }
   ],
   "source": [
    "try:\n",
    "\tk = 5//0 \n",
    "\tprint(k)\n",
    "\n",
    "except ZeroDivisionError:\n",
    "\tprint(\"Can't divide by zero\")\n",
    "\t\n",
    "finally:\n",
    "\tprint('This is always executed')\n"
   ]
  },
  {
   "cell_type": "markdown",
   "id": "64dd3f17-5c27-436a-80f4-eecee52b1d8b",
   "metadata": {},
   "source": [
    "c) raise :-"
   ]
  },
  {
   "cell_type": "markdown",
   "id": "18420acd-78ec-4d68-b166-d42425cfbac8",
   "metadata": {},
   "source": [
    "Python raise Keyword is used to raise exceptions or errors. The raise keyword raises an error and stops the control flow of the program. It is used to bring up the current exception in an exception handler so that it can be handled further up the call stack."
   ]
  },
  {
   "cell_type": "code",
   "execution_count": 13,
   "id": "906d0fd5-d912-4482-a1c5-5c20f5842c4e",
   "metadata": {},
   "outputs": [
    {
     "ename": "Exception",
     "evalue": "The number shouldn't be an odd integer",
     "output_type": "error",
     "traceback": [
      "\u001b[0;31m---------------------------------------------------------------------------\u001b[0m",
      "\u001b[0;31mException\u001b[0m                                 Traceback (most recent call last)",
      "Cell \u001b[0;32mIn[13], line 4\u001b[0m\n\u001b[1;32m      1\u001b[0m a \u001b[38;5;241m=\u001b[39m \u001b[38;5;241m5\u001b[39m\n\u001b[1;32m      3\u001b[0m \u001b[38;5;28;01mif\u001b[39;00m a \u001b[38;5;241m%\u001b[39m \u001b[38;5;241m2\u001b[39m \u001b[38;5;241m!=\u001b[39m \u001b[38;5;241m0\u001b[39m:\n\u001b[0;32m----> 4\u001b[0m \t\u001b[38;5;28;01mraise\u001b[39;00m \u001b[38;5;167;01mException\u001b[39;00m(\u001b[38;5;124m\"\u001b[39m\u001b[38;5;124mThe number shouldn\u001b[39m\u001b[38;5;124m'\u001b[39m\u001b[38;5;124mt be an odd integer\u001b[39m\u001b[38;5;124m\"\u001b[39m)\n",
      "\u001b[0;31mException\u001b[0m: The number shouldn't be an odd integer"
     ]
    }
   ],
   "source": [
    "a = 5\n",
    "\n",
    "if a % 2 != 0:\n",
    "\traise Exception(\"The number shouldn't be an odd integer\")\n"
   ]
  },
  {
   "cell_type": "markdown",
   "id": "bbe08be7-f0dc-4fca-acaf-138181b4151d",
   "metadata": {},
   "source": [
    "While raising an error we can also what kind of error we need to raise, and if necessary print out a text."
   ]
  },
  {
   "cell_type": "code",
   "execution_count": 14,
   "id": "f6c4ce8d-26dd-47d9-9f07-e00909c4f5d2",
   "metadata": {},
   "outputs": [
    {
     "ename": "ValueError",
     "evalue": "String can't be changed into integer",
     "output_type": "error",
     "traceback": [
      "\u001b[0;31m---------------------------------------------------------------------------\u001b[0m",
      "\u001b[0;31mValueError\u001b[0m                                Traceback (most recent call last)",
      "Cell \u001b[0;32mIn[14], line 4\u001b[0m\n\u001b[1;32m      3\u001b[0m \u001b[38;5;28;01mtry\u001b[39;00m:\n\u001b[0;32m----> 4\u001b[0m \tnum \u001b[38;5;241m=\u001b[39m \u001b[38;5;28;43mint\u001b[39;49m\u001b[43m(\u001b[49m\u001b[43ms\u001b[49m\u001b[43m)\u001b[49m\n\u001b[1;32m      5\u001b[0m \u001b[38;5;28;01mexcept\u001b[39;00m \u001b[38;5;167;01mValueError\u001b[39;00m:\n",
      "\u001b[0;31mValueError\u001b[0m: invalid literal for int() with base 10: 'apple'",
      "\nDuring handling of the above exception, another exception occurred:\n",
      "\u001b[0;31mValueError\u001b[0m                                Traceback (most recent call last)",
      "Cell \u001b[0;32mIn[14], line 6\u001b[0m\n\u001b[1;32m      4\u001b[0m \tnum \u001b[38;5;241m=\u001b[39m \u001b[38;5;28mint\u001b[39m(s)\n\u001b[1;32m      5\u001b[0m \u001b[38;5;28;01mexcept\u001b[39;00m \u001b[38;5;167;01mValueError\u001b[39;00m:\n\u001b[0;32m----> 6\u001b[0m \t\u001b[38;5;28;01mraise\u001b[39;00m \u001b[38;5;167;01mValueError\u001b[39;00m(\u001b[38;5;124m\"\u001b[39m\u001b[38;5;124mString can\u001b[39m\u001b[38;5;124m'\u001b[39m\u001b[38;5;124mt be changed into integer\u001b[39m\u001b[38;5;124m\"\u001b[39m)\n",
      "\u001b[0;31mValueError\u001b[0m: String can't be changed into integer"
     ]
    }
   ],
   "source": [
    "s = 'apple'\n",
    "\n",
    "try:\n",
    "\tnum = int(s)\n",
    "except ValueError:\n",
    "\traise ValueError(\"String can't be changed into integer\")\n"
   ]
  },
  {
   "cell_type": "markdown",
   "id": "515dc9e4-3578-47af-a55f-43675e8762a5",
   "metadata": {},
   "source": [
    "When we use the raise keyword, there’s no compulsion to give an exception class along with it. When we do not give any exception class name with the raise keyword, it reraises the exception that last occurred."
   ]
  },
  {
   "cell_type": "markdown",
   "id": "8003bde3-67a0-4811-bf39-bb34ebe54dee",
   "metadata": {},
   "source": [
    "In the above code, we tried changing the string ‘apple’ to integer and wrote a try-except clause to raise the ValueError. The code is the same as before except that we don’t provide an exception class, it reraises the exception that was last occurred."
   ]
  },
  {
   "cell_type": "code",
   "execution_count": 16,
   "id": "81b4ba7d-19e2-4545-b4a8-670a1f32c8d1",
   "metadata": {},
   "outputs": [
    {
     "ename": "ValueError",
     "evalue": "invalid literal for int() with base 10: 'apple'",
     "output_type": "error",
     "traceback": [
      "\u001b[0;31m---------------------------------------------------------------------------\u001b[0m",
      "\u001b[0;31mValueError\u001b[0m                                Traceback (most recent call last)",
      "Cell \u001b[0;32mIn[16], line 4\u001b[0m\n\u001b[1;32m      1\u001b[0m s \u001b[38;5;241m=\u001b[39m \u001b[38;5;124m'\u001b[39m\u001b[38;5;124mapple\u001b[39m\u001b[38;5;124m'\u001b[39m\n\u001b[1;32m      3\u001b[0m \u001b[38;5;28;01mtry\u001b[39;00m:\n\u001b[0;32m----> 4\u001b[0m \tnum \u001b[38;5;241m=\u001b[39m \u001b[38;5;28;43mint\u001b[39;49m\u001b[43m(\u001b[49m\u001b[43ms\u001b[49m\u001b[43m)\u001b[49m\n\u001b[1;32m      5\u001b[0m \u001b[38;5;28;01mexcept\u001b[39;00m:\n\u001b[1;32m      6\u001b[0m \t\u001b[38;5;28;01mraise\u001b[39;00m\n",
      "\u001b[0;31mValueError\u001b[0m: invalid literal for int() with base 10: 'apple'"
     ]
    }
   ],
   "source": [
    "s = 'apple'\n",
    "\n",
    "try:\n",
    "\tnum = int(s)\n",
    "except:\n",
    "\traise\n"
   ]
  },
  {
   "cell_type": "markdown",
   "id": "111c59ee-e93c-4950-97f9-cdc5654b2011",
   "metadata": {},
   "source": [
    "Q5. What are Custom Exceptions in python? Why do we need Custom Exceptions? Explain with an example."
   ]
  },
  {
   "cell_type": "markdown",
   "id": "9eb75211-9cb1-423b-bcb3-da62bb7392de",
   "metadata": {},
   "source": [
    "Something which is not given or no any libraries built in python to handle exception but then also you want to raise exception suppose there is a custum situation where you want to raise then you will do that thing through custom exception handling.\n",
    "In Python, we can define custom exceptions by creating a new class that is derived from the built-in Exception.\n",
    "\n",
    "custom exception to be used when something goes wrong during calculating predictions. Depending on your needs, you can create much more specific exceptions, but never forget to use informative names. A general rule in Python is to use short but informative names. Ironically, custom exceptions constitute an exception, as they often have long names. This is because most people like to use self-standing exception names.\n",
    "\n",
    "Here's the syntax to define custom exceptions ,"
   ]
  },
  {
   "cell_type": "code",
   "execution_count": null,
   "id": "0e8cb50a-a7e9-4e2e-97ca-b02aaafa66ea",
   "metadata": {},
   "outputs": [],
   "source": [
    "class CustomError(Exception):\n",
    "    ...\n",
    "    pass\n",
    "\n",
    "try:\n",
    "    ...\n",
    "\n",
    "except CustomError:\n",
    "    ..."
   ]
  },
  {
   "cell_type": "markdown",
   "id": "94834fd7-d7cf-4cc1-9fb3-6a307857193f",
   "metadata": {},
   "source": [
    "Here, CustomError is a user-defined error which inherits from the Exception class."
   ]
  },
  {
   "cell_type": "code",
   "execution_count": 17,
   "id": "ee053152-d7d1-4e33-98d6-4c7a8ed8ed23",
   "metadata": {},
   "outputs": [
    {
     "name": "stdin",
     "output_type": "stream",
     "text": [
      "Enter a number:  67\n"
     ]
    },
    {
     "name": "stdout",
     "output_type": "stream",
     "text": [
      "Eligible to Vote\n"
     ]
    }
   ],
   "source": [
    "class InvalidAgeException(Exception):\n",
    "    \"Raised when the input value is less than 18\"\n",
    "    pass\n",
    "\n",
    "number = 18\n",
    "\n",
    "try:\n",
    "    input_num = int(input(\"Enter a number: \"))\n",
    "    if input_num < number:\n",
    "        raise InvalidAgeException\n",
    "    else:\n",
    "        print(\"Eligible to Vote\")\n",
    "        \n",
    "except InvalidAgeException:\n",
    "    print(\"Exception occurred: Invalid Age\")"
   ]
  },
  {
   "cell_type": "markdown",
   "id": "ece8e01e-c275-4601-9fdf-04bfc3ad36cd",
   "metadata": {},
   "source": [
    "Q6. Create custom exception class. Use this class to handle an exception."
   ]
  },
  {
   "cell_type": "code",
   "execution_count": 18,
   "id": "45c5436e-741d-443d-88d1-fa6c50df4aa1",
   "metadata": {},
   "outputs": [],
   "source": [
    "class validateage(Exception):\n",
    "    \n",
    "    def __init__(self , msg) :\n",
    "        self.msg = msg"
   ]
  },
  {
   "cell_type": "code",
   "execution_count": 19,
   "id": "25871082-e977-4455-bcfa-ebf207e6d871",
   "metadata": {},
   "outputs": [],
   "source": [
    "def validaetage(age) :\n",
    "    if age < 0 :\n",
    "        raise validateage(\"entered age is negative \")\n",
    "    elif age > 200 :\n",
    "        raise validateage(\"entered age is very very high \")\n",
    "    else :\n",
    "        print(\"age is valid\")"
   ]
  },
  {
   "cell_type": "code",
   "execution_count": 20,
   "id": "7976a550-aac6-4970-a5a5-d782d7cb38df",
   "metadata": {},
   "outputs": [
    {
     "name": "stdin",
     "output_type": "stream",
     "text": [
      "enter your age 23\n"
     ]
    },
    {
     "name": "stdout",
     "output_type": "stream",
     "text": [
      "age is valid\n"
     ]
    }
   ],
   "source": [
    "try :\n",
    "    age = int(input(\"enter your age\"))\n",
    "    validaetage(age)\n",
    "except validateage as e :\n",
    "    print(e)"
   ]
  },
  {
   "cell_type": "code",
   "execution_count": null,
   "id": "df8843e0-7cc3-43f3-96ac-0d046e4cc87a",
   "metadata": {},
   "outputs": [],
   "source": []
  }
 ],
 "metadata": {
  "kernelspec": {
   "display_name": "Python 3 (ipykernel)",
   "language": "python",
   "name": "python3"
  },
  "language_info": {
   "codemirror_mode": {
    "name": "ipython",
    "version": 3
   },
   "file_extension": ".py",
   "mimetype": "text/x-python",
   "name": "python",
   "nbconvert_exporter": "python",
   "pygments_lexer": "ipython3",
   "version": "3.10.8"
  }
 },
 "nbformat": 4,
 "nbformat_minor": 5
}
