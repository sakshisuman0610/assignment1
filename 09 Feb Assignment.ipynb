{
 "cells": [
  {
   "cell_type": "markdown",
   "id": "1871dbd8-dea9-47d3-8add-76a5c631e61f",
   "metadata": {},
   "source": [
    "Q1, Create a vehicle class with an init method having instance variables as name_of_vehicle, max_speed\n",
    "and average_of_vehicle."
   ]
  },
  {
   "cell_type": "code",
   "execution_count": 65,
   "id": "dd3d7842-a17e-429d-aea5-d35e8f2876d7",
   "metadata": {},
   "outputs": [],
   "source": [
    "class vehicle :\n",
    "    def __init__(self , name_of_vehicle , max_speed , average_of_vehicle):\n",
    "        self.name_of_vehicle = name_of_vehicle\n",
    "        self.max_speed = max_speed\n",
    "        self.average_of_vehicle = average_of_vehicle    \n",
    "    \n",
    "    def return_vehicle_details(self) :\n",
    "        return self.name_of_vehicle,self.max_speed,self.average_of_vehicle"
   ]
  },
  {
   "cell_type": "code",
   "execution_count": 67,
   "id": "83b736f0-e10d-4b57-8ad3-c54af8fb7648",
   "metadata": {},
   "outputs": [],
   "source": [
    "sakshi = vehicle(\"fortuner\",50,100)"
   ]
  },
  {
   "cell_type": "code",
   "execution_count": 68,
   "id": "2ac0ea80-564f-4752-86b5-7c066c18aec7",
   "metadata": {},
   "outputs": [
    {
     "data": {
      "text/plain": [
       "('fortuner', 50, 100)"
      ]
     },
     "execution_count": 68,
     "metadata": {},
     "output_type": "execute_result"
    }
   ],
   "source": [
    "sakshi.return_vehicle_details()"
   ]
  },
  {
   "cell_type": "markdown",
   "id": "3db58dd8-471e-4d5e-a708-2778e21c885a",
   "metadata": {},
   "source": [
    "Q2. Create a child class car from the vehicle class created in Que 1, which will inherit the vehicle class.\n",
    "Create a method named seating_capacity which takes capacity as an argument and returns the name of\n",
    "the vehicle and its seating capacity."
   ]
  },
  {
   "cell_type": "code",
   "execution_count": 71,
   "id": "086707dc-4232-4c4d-b67d-6132c6d919a0",
   "metadata": {},
   "outputs": [],
   "source": [
    "class child_class_car(vehicle) :\n",
    "\n",
    "    def seating_capacity(self , capacity) :\n",
    "        self.capacity = capacity\n",
    "        return f\"The seating capacity of a {self.name_of_vehicle} is {self.capacity} passengers\""
   ]
  },
  {
   "cell_type": "code",
   "execution_count": 82,
   "id": "a6305462-858f-4cb7-b880-d2c33736a00b",
   "metadata": {},
   "outputs": [],
   "source": [
    "c = child_class_car(\"totota\",5,10)"
   ]
  },
  {
   "cell_type": "code",
   "execution_count": 83,
   "id": "9aa74e14-56cf-4e24-bcdd-4f713c7ce8f8",
   "metadata": {},
   "outputs": [
    {
     "data": {
      "text/plain": [
       "'The seating capacity of a totota is 7 passengers'"
      ]
     },
     "execution_count": 83,
     "metadata": {},
     "output_type": "execute_result"
    }
   ],
   "source": [
    "c.seating_capacity(7)"
   ]
  },
  {
   "cell_type": "markdown",
   "id": "eb83fb73-942f-455d-a223-7d404e7e015b",
   "metadata": {},
   "source": [
    "Q3. What is multiple inheritance? Write a python code to demonstrate multiple inheritance."
   ]
  },
  {
   "cell_type": "markdown",
   "id": "c9caf0fd-0dc4-4df3-a06e-eb92033deabb",
   "metadata": {},
   "source": [
    "If a child class inherits from more than one class, i.e. this child class is derived from multiple classes, we call it multiple inheritance in Python."
   ]
  },
  {
   "cell_type": "code",
   "execution_count": 40,
   "id": "add0ec2a-a6ba-434e-bbf7-9825be41fe2b",
   "metadata": {},
   "outputs": [],
   "source": [
    "class class1:\n",
    "    def test_class1(self):\n",
    "        return \"this is a class1\""
   ]
  },
  {
   "cell_type": "code",
   "execution_count": 31,
   "id": "1d96a265-eb1d-43cd-88be-241b4891972f",
   "metadata": {},
   "outputs": [],
   "source": [
    "class class2:\n",
    "    def test_class2(self):\n",
    "        return \"this is a class2\""
   ]
  },
  {
   "cell_type": "code",
   "execution_count": 32,
   "id": "5e88442c-b271-4776-b77b-05005461b5a6",
   "metadata": {},
   "outputs": [],
   "source": [
    "class class3(class1 , class2) :\n",
    "    pass"
   ]
  },
  {
   "cell_type": "code",
   "execution_count": 33,
   "id": "e026a3de-6957-4fd4-b1a0-1ecbd4a87518",
   "metadata": {},
   "outputs": [],
   "source": [
    "obj_class3 = class3()"
   ]
  },
  {
   "cell_type": "code",
   "execution_count": 34,
   "id": "44bd97f0-46fd-4ba9-8dc2-94d7419d55f2",
   "metadata": {},
   "outputs": [
    {
     "data": {
      "text/plain": [
       "'this is a class2'"
      ]
     },
     "execution_count": 34,
     "metadata": {},
     "output_type": "execute_result"
    }
   ],
   "source": [
    "obj_class3.test_class2()"
   ]
  },
  {
   "cell_type": "code",
   "execution_count": 35,
   "id": "8e3c0fe6-2c2a-480c-8a7f-02b6b80ed585",
   "metadata": {},
   "outputs": [
    {
     "data": {
      "text/plain": [
       "'this is a class1'"
      ]
     },
     "execution_count": 35,
     "metadata": {},
     "output_type": "execute_result"
    }
   ],
   "source": [
    "obj_class3.test_class1()"
   ]
  },
  {
   "cell_type": "markdown",
   "id": "a345db93-1ac9-4075-b7fa-39455c3e7fe0",
   "metadata": {},
   "source": [
    "Q4. What are getter and setter in python? Create a class and create a getter and a setter method in this\n",
    "class."
   ]
  },
  {
   "cell_type": "markdown",
   "id": "ed788f2f-4a27-4ea1-95ca-ab66d0c424d1",
   "metadata": {},
   "source": [
    "In Python, getters and setters are not the same as those in other object-oriented programming languages. Basically, the main purpose of using getters and setters in object-oriented programs is to ensure data encapsulation. Private variables in python are not actually hidden fields like in other object oriented languages. Getters and Setters in python are often used when:\n",
    "\n",
    "a) We use getters & setters to add validation logic around getting and setting a value.\n",
    "\n",
    "b) To avoid direct access of a class field i.e. private variables cannot be accessed directly or modified by external user."
   ]
  },
  {
   "cell_type": "code",
   "execution_count": 42,
   "id": "bdafc322-581d-410d-bd66-42ea8a25daf3",
   "metadata": {},
   "outputs": [],
   "source": [
    "class car :\n",
    "    def __init__(self , year , make , model , speed) :\n",
    "        self.__year = year\n",
    "        self.__make = make\n",
    "        self.__model = model\n",
    "        self.__speed = speed\n",
    "        \n",
    "    def set_speed(self , speed) :\n",
    "        self.__speed = 0 if speed < 0 else speed\n",
    "        \n",
    "    def get_speed(self) :\n",
    "        return self.__speed"
   ]
  },
  {
   "cell_type": "code",
   "execution_count": 43,
   "id": "92821b4b-0927-4251-a32a-dfc41d33fb55",
   "metadata": {},
   "outputs": [],
   "source": [
    "c = car(2021 , \"toyota\" , \"inova\" , 12)"
   ]
  },
  {
   "cell_type": "code",
   "execution_count": 44,
   "id": "1e115f9c-f5f5-4d58-86bd-9612a1df91ec",
   "metadata": {},
   "outputs": [
    {
     "data": {
      "text/plain": [
       "2021"
      ]
     },
     "execution_count": 44,
     "metadata": {},
     "output_type": "execute_result"
    }
   ],
   "source": [
    "c._car__year"
   ]
  },
  {
   "cell_type": "code",
   "execution_count": 46,
   "id": "44197bf5-248d-4ff4-ab61-f7ca81f3df31",
   "metadata": {},
   "outputs": [],
   "source": [
    "c.set_speed(-3245)"
   ]
  },
  {
   "cell_type": "code",
   "execution_count": 48,
   "id": "9998ba8f-0b46-48df-b301-2d10d77d6849",
   "metadata": {},
   "outputs": [
    {
     "data": {
      "text/plain": [
       "0"
      ]
     },
     "execution_count": 48,
     "metadata": {},
     "output_type": "execute_result"
    }
   ],
   "source": [
    "c.get_speed()"
   ]
  },
  {
   "cell_type": "code",
   "execution_count": 49,
   "id": "ca9224b9-4cb0-45d0-a36f-d7309d5dd7fc",
   "metadata": {},
   "outputs": [],
   "source": [
    "c.set_speed(234)"
   ]
  },
  {
   "cell_type": "code",
   "execution_count": 50,
   "id": "3f1fa3a5-64c4-48ad-92d1-db3d574e727c",
   "metadata": {},
   "outputs": [
    {
     "data": {
      "text/plain": [
       "234"
      ]
     },
     "execution_count": 50,
     "metadata": {},
     "output_type": "execute_result"
    }
   ],
   "source": [
    "c.get_speed()"
   ]
  },
  {
   "cell_type": "markdown",
   "id": "9fdcef48-ef35-45d8-a1b7-1536117c5e7a",
   "metadata": {},
   "source": [
    "Q5.What is method overriding in python? Write a python code to demonstrate method overriding."
   ]
  },
  {
   "cell_type": "markdown",
   "id": "c268c974-a25a-4b67-a8b0-41608f25f615",
   "metadata": {},
   "source": [
    "Method overriding is an ability of any object-oriented programming language that allows a subclass or child class to provide a specific implementation of a method that is already provided by one of its super-classes or parent classes. When a method in a subclass has the same name, same parameters or signature and same return type(or sub-type) as a method in its super-class, then the method in the subclass is said to override the method in the super-class."
   ]
  },
  {
   "cell_type": "code",
   "execution_count": 59,
   "id": "b17b4c71-008e-485a-87f7-d31d6b30609d",
   "metadata": {},
   "outputs": [],
   "source": [
    "class Parent():\n",
    "\tdef __init__(self):\n",
    "\t\tself.value = \"Inside Parent\"\n",
    "\t\t\n",
    "\tdef show(self):\n",
    "\t\tprint(self.value)\t"
   ]
  },
  {
   "cell_type": "code",
   "execution_count": 60,
   "id": "a74283bc-b4ba-4689-ba6b-9416c9a060d1",
   "metadata": {},
   "outputs": [],
   "source": [
    "class Child(Parent):\n",
    "\tdef __init__(self):\n",
    "\t\tself.value = \"Inside Child\"\n",
    "\t\t\n",
    "\tdef show(self):\n",
    "\t\tprint(self.value)\n",
    "\t\t"
   ]
  },
  {
   "cell_type": "code",
   "execution_count": 61,
   "id": "bcd44600-34c4-46a2-8e19-6896fe5fab8e",
   "metadata": {},
   "outputs": [],
   "source": [
    "obj1 = Parent()"
   ]
  },
  {
   "cell_type": "code",
   "execution_count": 62,
   "id": "f0034933-3ece-4e47-8bd2-11ec45d1c54e",
   "metadata": {},
   "outputs": [],
   "source": [
    "obj2 = Child()"
   ]
  },
  {
   "cell_type": "code",
   "execution_count": 63,
   "id": "9d8caa51-7714-4654-8c4f-afdd9578d65e",
   "metadata": {},
   "outputs": [
    {
     "name": "stdout",
     "output_type": "stream",
     "text": [
      "Inside Parent\n"
     ]
    }
   ],
   "source": [
    "obj1.show()"
   ]
  },
  {
   "cell_type": "code",
   "execution_count": 64,
   "id": "74640bb8-ec32-4fed-a36d-ef678bf0da1c",
   "metadata": {},
   "outputs": [
    {
     "name": "stdout",
     "output_type": "stream",
     "text": [
      "Inside Child\n"
     ]
    }
   ],
   "source": [
    "obj2.show()"
   ]
  }
 ],
 "metadata": {
  "kernelspec": {
   "display_name": "Python 3 (ipykernel)",
   "language": "python",
   "name": "python3"
  },
  "language_info": {
   "codemirror_mode": {
    "name": "ipython",
    "version": 3
   },
   "file_extension": ".py",
   "mimetype": "text/x-python",
   "name": "python",
   "nbconvert_exporter": "python",
   "pygments_lexer": "ipython3",
   "version": "3.10.8"
  }
 },
 "nbformat": 4,
 "nbformat_minor": 5
}
